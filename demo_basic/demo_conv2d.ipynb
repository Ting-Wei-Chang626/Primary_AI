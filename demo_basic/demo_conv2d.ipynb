{
  "nbformat": 4,
  "nbformat_minor": 0,
  "metadata": {
    "colab": {
      "provenance": [],
      "authorship_tag": "ABX9TyO9JGj8WtPanVeatbW3BWgE",
      "include_colab_link": true
    },
    "kernelspec": {
      "name": "python3",
      "display_name": "Python 3"
    },
    "language_info": {
      "name": "python"
    }
  },
  "cells": [
    {
      "cell_type": "markdown",
      "metadata": {
        "id": "view-in-github",
        "colab_type": "text"
      },
      "source": [
        "<a href=\"https://colab.research.google.com/github/Ting-Wei-Chang626/Primary_AI/blob/main/demo_basic/demo_conv2d.ipynb\" target=\"_parent\"><img src=\"https://colab.research.google.com/assets/colab-badge.svg\" alt=\"Open In Colab\"/></a>"
      ]
    },
    {
      "cell_type": "code",
      "execution_count": 16,
      "metadata": {
        "id": "-HST2A4SymQT"
      },
      "outputs": [],
      "source": [
        "import torch\n",
        "import torch.nn as nn\n",
        "import torch.nn.functional as F\n",
        "import numpy as np"
      ]
    },
    {
      "cell_type": "markdown",
      "source": [
        "Conv2d"
      ],
      "metadata": {
        "id": "w4vAlA1r8ArY"
      }
    },
    {
      "cell_type": "code",
      "source": [
        "x = torch.ones([1, 1, 6, 6], dtype=torch.float32)\n",
        "conv1 = nn.Conv2d(1, 1, kernel_size=2, stride=2, padding=1)\n",
        "y = conv1(x)\n",
        "print(y.size())"
      ],
      "metadata": {
        "id": "cvWJYzUn0Jka",
        "colab": {
          "base_uri": "https://localhost:8080/"
        },
        "outputId": "5a7f0362-a360-41b9-b0d5-382243361eff"
      },
      "execution_count": 17,
      "outputs": [
        {
          "output_type": "stream",
          "name": "stdout",
          "text": [
            "torch.Size([1, 1, 4, 4])\n"
          ]
        }
      ]
    },
    {
      "cell_type": "markdown",
      "source": [
        "BatchNorm2d"
      ],
      "metadata": {
        "id": "O70qiiqk7yax"
      }
    },
    {
      "cell_type": "code",
      "source": [
        "# With Learnable Parameters\n",
        "m = nn.BatchNorm2d(100)\n",
        "# Without Learnable Parameters\n",
        "m = nn.BatchNorm2d(100, affine=False)\n",
        "input = torch.randn(20, 100, 35, 45)\n",
        "output = m(input)"
      ],
      "metadata": {
        "id": "LqZP6P6x71Uc"
      },
      "execution_count": 18,
      "outputs": []
    },
    {
      "cell_type": "markdown",
      "source": [
        "Dropout"
      ],
      "metadata": {
        "id": "0gvHtJjz8CtK"
      }
    },
    {
      "cell_type": "code",
      "source": [
        "m = nn.Dropout(p=0.2)\n",
        "input = torch.randn(20, 16)\n",
        "output = m(input)"
      ],
      "metadata": {
        "id": "Amb9E7Qk1n0E"
      },
      "execution_count": 19,
      "outputs": []
    },
    {
      "cell_type": "markdown",
      "source": [
        "Linear"
      ],
      "metadata": {
        "id": "hb1cuSia8IQG"
      }
    },
    {
      "cell_type": "code",
      "source": [
        "m = nn.Linear(20, 30)\n",
        "input = torch.randn(128, 20)\n",
        "output = m(input)\n",
        "print(output.size())"
      ],
      "metadata": {
        "colab": {
          "base_uri": "https://localhost:8080/"
        },
        "id": "8LsuCD8N8KED",
        "outputId": "fcb301fe-1024-420b-bb31-6ee8bd07992b"
      },
      "execution_count": 20,
      "outputs": [
        {
          "output_type": "stream",
          "name": "stdout",
          "text": [
            "torch.Size([128, 30])\n"
          ]
        }
      ]
    },
    {
      "cell_type": "markdown",
      "source": [
        "Max_pooling"
      ],
      "metadata": {
        "id": "mLnIgzB46yqf"
      }
    },
    {
      "cell_type": "code",
      "source": [
        "x = torch.randn(4, 10, 128, 64)\n",
        "x = F.max_pool2d(x, kernel_size=4)\n",
        "print(x.size())"
      ],
      "metadata": {
        "colab": {
          "base_uri": "https://localhost:8080/"
        },
        "id": "e2akYAT26xfG",
        "outputId": "b50fd303-043d-471d-9378-b5fd9c0c51ca"
      },
      "execution_count": 21,
      "outputs": [
        {
          "output_type": "stream",
          "name": "stdout",
          "text": [
            "torch.Size([4, 10, 32, 16])\n"
          ]
        }
      ]
    },
    {
      "cell_type": "code",
      "source": [],
      "metadata": {
        "id": "4BSuzly57rMM"
      },
      "execution_count": 21,
      "outputs": []
    }
  ]
}
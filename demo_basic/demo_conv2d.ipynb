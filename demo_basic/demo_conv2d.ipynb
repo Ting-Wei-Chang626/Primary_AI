{
  "nbformat": 4,
  "nbformat_minor": 0,
  "metadata": {
    "colab": {
      "provenance": [],
      "authorship_tag": "ABX9TyOpxCYWeKtLWdI845p3OBbq",
      "include_colab_link": true
    },
    "kernelspec": {
      "name": "python3",
      "display_name": "Python 3"
    },
    "language_info": {
      "name": "python"
    }
  },
  "cells": [
    {
      "cell_type": "markdown",
      "metadata": {
        "id": "view-in-github",
        "colab_type": "text"
      },
      "source": [
        "<a href=\"https://colab.research.google.com/github/Ting-Wei-Chang626/Primary_AI/blob/main/demo_basic/demo_conv2d.ipynb\" target=\"_parent\"><img src=\"https://colab.research.google.com/assets/colab-badge.svg\" alt=\"Open In Colab\"/></a>"
      ]
    },
    {
      "cell_type": "code",
      "execution_count": 24,
      "metadata": {
        "id": "-HST2A4SymQT"
      },
      "outputs": [],
      "source": [
        "import torch\n",
        "import torch.nn as nn\n",
        "import numpy as np"
      ]
    },
    {
      "cell_type": "markdown",
      "source": [
        "Conv2d"
      ],
      "metadata": {
        "id": "w4vAlA1r8ArY"
      }
    },
    {
      "cell_type": "code",
      "source": [
        "x = torch.ones([1, 1, 6, 6], dtype=torch.float32)"
      ],
      "metadata": {
        "id": "cvWJYzUn0Jka"
      },
      "execution_count": 25,
      "outputs": []
    },
    {
      "cell_type": "code",
      "source": [
        "conv1 = nn.Conv2d(1, 1, kernel_size=2, stride=2, padding=1)"
      ],
      "metadata": {
        "id": "vX3oBsZEyweY"
      },
      "execution_count": 26,
      "outputs": []
    },
    {
      "cell_type": "code",
      "source": [
        "y = conv1(x)"
      ],
      "metadata": {
        "id": "xGvq8brE0Sjp"
      },
      "execution_count": 27,
      "outputs": []
    },
    {
      "cell_type": "code",
      "source": [
        "print(y.size())"
      ],
      "metadata": {
        "colab": {
          "base_uri": "https://localhost:8080/"
        },
        "id": "AzkHkwJi029d",
        "outputId": "bff2235b-f8a1-47b0-b821-f94062b610fb"
      },
      "execution_count": 28,
      "outputs": [
        {
          "output_type": "stream",
          "name": "stdout",
          "text": [
            "torch.Size([1, 1, 4, 4])\n"
          ]
        }
      ]
    },
    {
      "cell_type": "markdown",
      "source": [
        "BatchNorm2d"
      ],
      "metadata": {
        "id": "O70qiiqk7yax"
      }
    },
    {
      "cell_type": "code",
      "source": [
        "# With Learnable Parameters\n",
        "m = nn.BatchNorm2d(100)\n",
        "# Without Learnable Parameters\n",
        "m = nn.BatchNorm2d(100, affine=False)\n",
        "input = torch.randn(20, 100, 35, 45)\n",
        "output = m(input)"
      ],
      "metadata": {
        "id": "LqZP6P6x71Uc"
      },
      "execution_count": 29,
      "outputs": []
    },
    {
      "cell_type": "markdown",
      "source": [
        "Dropout"
      ],
      "metadata": {
        "id": "0gvHtJjz8CtK"
      }
    },
    {
      "cell_type": "code",
      "source": [
        "m = nn.Dropout(p=0.2)\n",
        "input = torch.randn(20, 16)\n",
        "output = m(input)"
      ],
      "metadata": {
        "id": "Amb9E7Qk1n0E"
      },
      "execution_count": 30,
      "outputs": []
    },
    {
      "cell_type": "markdown",
      "source": [
        "Linear"
      ],
      "metadata": {
        "id": "hb1cuSia8IQG"
      }
    },
    {
      "cell_type": "code",
      "source": [
        "m = nn.Linear(20, 30)\n",
        "input = torch.randn(128, 20)\n",
        "output = m(input)\n",
        "print(output.size())"
      ],
      "metadata": {
        "colab": {
          "base_uri": "https://localhost:8080/"
        },
        "id": "8LsuCD8N8KED",
        "outputId": "3ba2b8bb-ad2a-45f0-dd1b-0e8eebf23a4a"
      },
      "execution_count": 31,
      "outputs": [
        {
          "output_type": "stream",
          "name": "stdout",
          "text": [
            "torch.Size([128, 30])\n"
          ]
        }
      ]
    }
  ]
}
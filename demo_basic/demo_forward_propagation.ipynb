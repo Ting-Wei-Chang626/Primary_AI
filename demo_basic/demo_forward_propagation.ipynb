{
  "nbformat": 4,
  "nbformat_minor": 0,
  "metadata": {
    "colab": {
      "provenance": [],
      "authorship_tag": "ABX9TyPcu3Ml9PRgR7IF3QfC6EKf",
      "include_colab_link": true
    },
    "kernelspec": {
      "name": "python3",
      "display_name": "Python 3"
    },
    "language_info": {
      "name": "python"
    }
  },
  "cells": [
    {
      "cell_type": "markdown",
      "metadata": {
        "id": "view-in-github",
        "colab_type": "text"
      },
      "source": [
        "<a href=\"https://colab.research.google.com/github/Ting-Wei-Chang626/Primary_AI/blob/main/demo_basic/demo_forward_propagation.ipynb\" target=\"_parent\"><img src=\"https://colab.research.google.com/assets/colab-badge.svg\" alt=\"Open In Colab\"/></a>"
      ]
    },
    {
      "cell_type": "markdown",
      "source": [
        "An example of Forward Propagation using pure python\n",
        "\n",
        "\n",
        "> Original code from Kaggle (https://www.kaggle.com/code/andls555/explain-forward-propagation)\n",
        "\n"
      ],
      "metadata": {
        "id": "6fSz5YvdI02g"
      }
    },
    {
      "cell_type": "code",
      "execution_count": null,
      "metadata": {
        "id": "FrW8AYM7Iuhs"
      },
      "outputs": [],
      "source": [
        "import numpy as np\n",
        "from numpy.random import rand"
      ]
    },
    {
      "cell_type": "code",
      "source": [
        "#dataset\n",
        "x = np.array(([0.9,0.8],[0.6,0.3],[0.9,0.1],[0.9,0.8]))  #Features\n",
        "y = np.array(([0],[1],[1],[0]))  #Labels (0,1)"
      ],
      "metadata": {
        "id": "41c62u4QJOAC"
      },
      "execution_count": null,
      "outputs": []
    },
    {
      "cell_type": "markdown",
      "source": [
        "Sigmoid Equation"
      ],
      "metadata": {
        "id": "OTlXu-0kJu4E"
      }
    },
    {
      "cell_type": "markdown",
      "source": [
        "![sigmoid.png](data:image/png;base64,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)"
      ],
      "metadata": {
        "id": "Kau_LU-GJYuC"
      }
    },
    {
      "cell_type": "code",
      "source": [
        "#Activation Function\n",
        "def Sigmoid(z):\n",
        "    return  1/ (1 + np.exp(-z)) # The Sigmoid Function"
      ],
      "metadata": {
        "id": "poccuKYkJQ7n"
      },
      "execution_count": null,
      "outputs": []
    },
    {
      "cell_type": "code",
      "source": [
        "# Multi-layers feedforward neural network (2 hidden layers)\n",
        "\n",
        "class NeuralNetwork:\n",
        "    # Step one\n",
        "    def __init__(self,x,y,nodes_first_layer=6 , nodes_second_layer=4, nodes_output_layer=1):\n",
        "        # Define x,y\n",
        "        self.inputs_of_layer0 = x\n",
        "        self.y = y\n",
        "\n",
        "        # Define number of neurns in each layer\n",
        "        self.nodes_first_layer = nodes_first_layer\n",
        "        self.nodes_second_layer = nodes_second_layer\n",
        "        self.nodes_output_layer = nodes_output_layer\n",
        "\n",
        "        #intialize the wieghts (theta) metrices\n",
        "\n",
        "        self.thetas_of_layer0 = np.random.rand(self.inputs_of_layer0.shape[1] + 1, self.nodes_first_layer) #shape: [2+1, 6]\n",
        "        self.thetas_of_layer1 = np.random.rand(self.nodes_first_layer + 1, self.nodes_second_layer) #shape: [6 + 1, 4]\n",
        "        self.thetas_of_layer2 = np.random.rand(self.nodes_second_layer + 1,self.nodes_output_layer) #shape: [4 + 1, 1]\n",
        "\n",
        "    # Step Two\n",
        "    def FeedForward(self):\n",
        "\n",
        "        #compute all the nodes (a1, a2, a3, a4, a5, a6) in layer1\n",
        "        self.Z1 = self.thetas_of_layer0[0] + np.dot(self.inputs_of_layer0, self.thetas_of_layer0[1:] )\n",
        "        self.layer1 = Sigmoid(self.Z1)\n",
        "\n",
        "        #compute all the nodes (a1, a2, a3, a4) in layer2\n",
        "        self.Z2 = self.thetas_of_layer1[0] + np.dot(self.layer1, self.thetas_of_layer1[1:])\n",
        "        self.layer2 = Sigmoid(self.Z2)\n",
        "\n",
        "        #compute the nodes (a1) in layer3\n",
        "        self.Z3 = self.thetas_of_layer2[0] + np.dot(self.layer2, self.thetas_of_layer2[1:])\n",
        "        self.layer3 = Sigmoid(self.Z3) #Output layer\n",
        "\n",
        "        return self.layer3"
      ],
      "metadata": {
        "id": "hJOSOdNrJ4g8"
      },
      "execution_count": null,
      "outputs": []
    },
    {
      "cell_type": "code",
      "source": [
        "NN = NeuralNetwork(x,y)\n",
        "\n",
        "predicted_output = NN.FeedForward()\n",
        "\n",
        "print (\"Actual Output: \\n\", y)\n",
        "print(\"Predicted Output: \\n\", predicted_output, \"\\n\")"
      ],
      "metadata": {
        "colab": {
          "base_uri": "https://localhost:8080/"
        },
        "id": "aJtSJoNtJ8iL",
        "outputId": "8c5b12b2-f666-405c-9072-0b013686153d"
      },
      "execution_count": null,
      "outputs": [
        {
          "output_type": "stream",
          "name": "stdout",
          "text": [
            "Actual Output: \n",
            " [[0]\n",
            " [1]\n",
            " [1]\n",
            " [0]]\n",
            "Predicted Output: \n",
            " [[0.95751457]\n",
            " [0.95645849]\n",
            " [0.95659438]\n",
            " [0.95751457]] \n",
            "\n"
          ]
        }
      ]
    }
  ]
}
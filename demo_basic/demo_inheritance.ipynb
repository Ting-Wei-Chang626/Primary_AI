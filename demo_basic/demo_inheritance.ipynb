{
  "nbformat": 4,
  "nbformat_minor": 0,
  "metadata": {
    "colab": {
      "provenance": [],
      "authorship_tag": "ABX9TyO7rD7kVcbwFkE9wI2XaIbo",
      "include_colab_link": true
    },
    "kernelspec": {
      "name": "python3",
      "display_name": "Python 3"
    },
    "language_info": {
      "name": "python"
    }
  },
  "cells": [
    {
      "cell_type": "markdown",
      "metadata": {
        "id": "view-in-github",
        "colab_type": "text"
      },
      "source": [
        "<a href=\"https://colab.research.google.com/github/Ting-Wei-Chang626/Primary_AI/blob/main/demo_basic/demo_inheritance.ipynb\" target=\"_parent\"><img src=\"https://colab.research.google.com/assets/colab-badge.svg\" alt=\"Open In Colab\"/></a>"
      ]
    },
    {
      "cell_type": "code",
      "execution_count": 1,
      "metadata": {
        "colab": {
          "base_uri": "https://localhost:8080/"
        },
        "id": "NgmCxHhASXYN",
        "outputId": "71adbf31-c508-4a70-ea51-e5a933bdd90e"
      },
      "outputs": [
        {
          "output_type": "stream",
          "name": "stdout",
          "text": [
            "I can eat\n",
            "My name is  Rohu\n"
          ]
        }
      ],
      "source": [
        "class Animal:\n",
        "\n",
        "    # attribute and method of the parent class\n",
        "    name = \"\"\n",
        "\n",
        "    def eat(self):\n",
        "        print(\"I can eat\")\n",
        "\n",
        "# inherit from Animal\n",
        "class Dog(Animal):\n",
        "\n",
        "    # new method in subclass\n",
        "    def display(self):\n",
        "        # access name attribute of superclass using self\n",
        "        print(\"My name is \", self.name)\n",
        "\n",
        "# create an object of the subclass\n",
        "labrador = Dog()\n",
        "\n",
        "# access superclass attribute and method\n",
        "labrador.name = \"Rohu\"\n",
        "labrador.eat()\n",
        "\n",
        "# call subclass method\n",
        "labrador.display()"
      ]
    },
    {
      "cell_type": "code",
      "source": [],
      "metadata": {
        "id": "2kXdwfBCS5v1"
      },
      "execution_count": null,
      "outputs": []
    }
  ]
}
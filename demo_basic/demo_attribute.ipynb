{
  "nbformat": 4,
  "nbformat_minor": 0,
  "metadata": {
    "colab": {
      "provenance": [],
      "authorship_tag": "ABX9TyPhLop3qQC5BwmO01JTNbiT",
      "include_colab_link": true
    },
    "kernelspec": {
      "name": "python3",
      "display_name": "Python 3"
    },
    "language_info": {
      "name": "python"
    }
  },
  "cells": [
    {
      "cell_type": "markdown",
      "metadata": {
        "id": "view-in-github",
        "colab_type": "text"
      },
      "source": [
        "<a href=\"https://colab.research.google.com/github/Ting-Wei-Chang626/Primary_AI/blob/main/demo_basic/demo_attribute.ipynb\" target=\"_parent\"><img src=\"https://colab.research.google.com/assets/colab-badge.svg\" alt=\"Open In Colab\"/></a>"
      ]
    },
    {
      "cell_type": "markdown",
      "source": [
        "Declare a class"
      ],
      "metadata": {
        "id": "eO2xLBQG3jU9"
      }
    },
    {
      "cell_type": "code",
      "execution_count": 1,
      "metadata": {
        "id": "xhko0z8T3EfA"
      },
      "outputs": [],
      "source": [
        "class  sample:\n",
        "    # class Attribute\n",
        "    meow = 10\n",
        "    # default constructor\n",
        "    def __init__(self):\n",
        "        # initializing variable instance\n",
        "        self.number=1001 # instance Attribute\n",
        "\n",
        "    # a method\n",
        "    def print_method(self):\n",
        "        print(\"number variable : \",self.number)"
      ]
    },
    {
      "cell_type": "code",
      "source": [
        "obj = sample()\n",
        "obj.print_method()"
      ],
      "metadata": {
        "id": "2RHiwlPM3MXY"
      },
      "execution_count": null,
      "outputs": []
    },
    {
      "cell_type": "code",
      "source": [
        "print(sample.meow)\n",
        "\n",
        "sample.meow = 5\n",
        "print(obj.meow)"
      ],
      "metadata": {
        "id": "LefUVEsh3eWz"
      },
      "execution_count": null,
      "outputs": []
    }
  ]
}
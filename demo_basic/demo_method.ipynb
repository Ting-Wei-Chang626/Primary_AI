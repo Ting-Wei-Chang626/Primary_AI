{
  "nbformat": 4,
  "nbformat_minor": 0,
  "metadata": {
    "colab": {
      "provenance": [],
      "authorship_tag": "ABX9TyMM2Exm//MiwEBuVaI709yj",
      "include_colab_link": true
    },
    "kernelspec": {
      "name": "python3",
      "display_name": "Python 3"
    },
    "language_info": {
      "name": "python"
    }
  },
  "cells": [
    {
      "cell_type": "markdown",
      "metadata": {
        "id": "view-in-github",
        "colab_type": "text"
      },
      "source": [
        "<a href=\"https://colab.research.google.com/github/Ting-Wei-Chang626/Primary_AI/blob/main/demo_basic/demo_method.ipynb\" target=\"_parent\"><img src=\"https://colab.research.google.com/assets/colab-badge.svg\" alt=\"Open In Colab\"/></a>"
      ]
    },
    {
      "cell_type": "markdown",
      "source": [
        "Instance Method"
      ],
      "metadata": {
        "id": "uzwi7Ovi6gfL"
      }
    },
    {
      "cell_type": "code",
      "execution_count": 9,
      "metadata": {
        "id": "nRVOddRs6cJb"
      },
      "outputs": [],
      "source": [
        "class Shiba_inst:\n",
        "    def __init__(self, height, weight):\n",
        "        self.height = height\n",
        "        self.weight = weight\n",
        "\n",
        "    def woof(self, length):\n",
        "        print(\"woof\" + \"~\" * length)"
      ]
    },
    {
      "cell_type": "code",
      "source": [
        "white_shiba = Shiba_inst(30, 35)\n",
        "\n",
        "white_shiba.woof(10)\n",
        "\n",
        "# Shiba_inst.woof(10)"
      ],
      "metadata": {
        "colab": {
          "base_uri": "https://localhost:8080/",
          "height": 222
        },
        "id": "Y9aC5p8n8eqQ",
        "outputId": "681a8217-95ad-4eef-fa2e-aa60d3d7a145"
      },
      "execution_count": 11,
      "outputs": [
        {
          "output_type": "stream",
          "name": "stdout",
          "text": [
            "woof~~~~~~~~~~\n"
          ]
        },
        {
          "output_type": "error",
          "ename": "TypeError",
          "evalue": "ignored",
          "traceback": [
            "\u001b[0;31m---------------------------------------------------------------------------\u001b[0m",
            "\u001b[0;31mTypeError\u001b[0m                                 Traceback (most recent call last)",
            "\u001b[0;32m<ipython-input-11-6d395b807973>\u001b[0m in \u001b[0;36m<cell line: 5>\u001b[0;34m()\u001b[0m\n\u001b[1;32m      3\u001b[0m \u001b[0mwhite_shiba\u001b[0m\u001b[0;34m.\u001b[0m\u001b[0mwoof\u001b[0m\u001b[0;34m(\u001b[0m\u001b[0;36m10\u001b[0m\u001b[0;34m)\u001b[0m\u001b[0;34m\u001b[0m\u001b[0;34m\u001b[0m\u001b[0m\n\u001b[1;32m      4\u001b[0m \u001b[0;34m\u001b[0m\u001b[0m\n\u001b[0;32m----> 5\u001b[0;31m \u001b[0mShiba_inst\u001b[0m\u001b[0;34m.\u001b[0m\u001b[0mwoof\u001b[0m\u001b[0;34m(\u001b[0m\u001b[0;36m10\u001b[0m\u001b[0;34m)\u001b[0m\u001b[0;34m\u001b[0m\u001b[0;34m\u001b[0m\u001b[0m\n\u001b[0m",
            "\u001b[0;31mTypeError\u001b[0m: Shiba_inst.woof() missing 1 required positional argument: 'length'"
          ]
        }
      ]
    },
    {
      "cell_type": "markdown",
      "source": [
        "Static Method"
      ],
      "metadata": {
        "id": "h0Kwf3Gg6luO"
      }
    },
    {
      "cell_type": "code",
      "source": [
        "class Shiba:\n",
        "    def __init__(self, height, weight):\n",
        "        self.height = height\n",
        "        self.weight = weight\n",
        "\n",
        "    @staticmethod\n",
        "    def woof(length):\n",
        "        print(\"woof\" + \"~\" * length)\n"
      ],
      "metadata": {
        "id": "BKEiVdV-6oW1"
      },
      "execution_count": 4,
      "outputs": []
    },
    {
      "cell_type": "code",
      "source": [
        "Shiba.woof(3)\n",
        "\n",
        "Shiba.woof(20)\n",
        "\n",
        "black_shiba = Shiba(90, 40)\n",
        "black_shiba.woof(10)"
      ],
      "metadata": {
        "colab": {
          "base_uri": "https://localhost:8080/"
        },
        "id": "PL5Ceayd7LrK",
        "outputId": "da2b3cc1-3d8a-46ce-89e7-918c48ca31ee"
      },
      "execution_count": 5,
      "outputs": [
        {
          "output_type": "stream",
          "name": "stdout",
          "text": [
            "woof~~~\n",
            "woof~~~~~~~~~~~~~~~~~~~~\n",
            "woof~~~~~~~~~~\n"
          ]
        }
      ]
    },
    {
      "cell_type": "markdown",
      "source": [
        "Class Method"
      ],
      "metadata": {
        "id": "LqxxhAlk6o2S"
      }
    },
    {
      "cell_type": "code",
      "source": [
        "class Shiba_cls:\n",
        "    woof_length = 10 # class attribute\n",
        "\n",
        "    def __init__(self, height, weight):\n",
        "        self.height = height\n",
        "        self.weight = weight\n",
        "\n",
        "    @classmethod\n",
        "    def woof(cls):\n",
        "        print(\"woof\" + \"~\" * cls.woof_length)"
      ],
      "metadata": {
        "id": "Qo7DdNMI6s_H"
      },
      "execution_count": 6,
      "outputs": []
    },
    {
      "cell_type": "code",
      "source": [
        "Shiba_cls.woof()\n",
        "\n",
        "black_shiba = Shiba_cls(30, 40)\n",
        "black_shiba.woof()"
      ],
      "metadata": {
        "colab": {
          "base_uri": "https://localhost:8080/"
        },
        "id": "K3U8UfOm7lPi",
        "outputId": "0923d4bd-e5af-47ee-b839-2cd35fa30f28"
      },
      "execution_count": 8,
      "outputs": [
        {
          "output_type": "stream",
          "name": "stdout",
          "text": [
            "woof~~~~~~~~~~\n",
            "woof~~~~~~~~~~\n"
          ]
        }
      ]
    },
    {
      "cell_type": "code",
      "source": [],
      "metadata": {
        "id": "_vXnU92c7854"
      },
      "execution_count": null,
      "outputs": []
    }
  ]
}
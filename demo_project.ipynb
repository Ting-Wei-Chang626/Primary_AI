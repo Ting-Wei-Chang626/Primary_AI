{
  "nbformat": 4,
  "nbformat_minor": 0,
  "metadata": {
    "colab": {
      "provenance": [],
      "gpuType": "T4",
      "authorship_tag": "ABX9TyNnhUA5K7s1dGOLQSKwsKCq",
      "include_colab_link": true
    },
    "kernelspec": {
      "name": "python3",
      "display_name": "Python 3"
    },
    "language_info": {
      "name": "python"
    }
  },
  "cells": [
    {
      "cell_type": "markdown",
      "metadata": {
        "id": "view-in-github",
        "colab_type": "text"
      },
      "source": [
        "<a href=\"https://colab.research.google.com/github/Ting-Wei-Chang626/Primary_AI/blob/main/demo_project.ipynb\" target=\"_parent\"><img src=\"https://colab.research.google.com/assets/colab-badge.svg\" alt=\"Open In Colab\"/></a>"
      ]
    },
    {
      "cell_type": "markdown",
      "source": [
        "**Animal sound classification**"
      ],
      "metadata": {
        "id": "7UK0tH1st1F4"
      }
    },
    {
      "cell_type": "markdown",
      "source": [
        "Load neccessary module"
      ],
      "metadata": {
        "id": "uk93qyfctvPR"
      }
    },
    {
      "cell_type": "code",
      "execution_count": null,
      "metadata": {
        "id": "_K_j8bmLtrma"
      },
      "outputs": [],
      "source": [
        "import pandas as pd\n",
        "import librosa\n",
        "import numpy as np\n",
        "import matplotlib.pyplot as plt\n",
        "import librosa.display\n",
        "import torch\n",
        "import torch.nn as nn\n",
        "import torch.nn.functional as F\n",
        "import torch.optim as optim\n",
        "from torch.utils.data import Dataset, DataLoader\n",
        "from tqdm import tqdm\n",
        "import os"
      ]
    },
    {
      "cell_type": "markdown",
      "source": [
        "Transform audio to images"
      ],
      "metadata": {
        "id": "tfI8YX_pyha5"
      }
    },
    {
      "cell_type": "code",
      "source": [
        "def get_melspectrogram_db(file_path, sr=None, n_fft=2048, hop_length=512, n_mels=128, fmin=20, fmax=8300, top_db=80):\n",
        "    wav,sr = librosa.load(file_path,sr=sr)\n",
        "    if wav.shape[0]<5*sr:\n",
        "        wav=np.pad(wav,int(np.ceil((5*sr-wav.shape[0])/2)),mode='reflect')\n",
        "    else:\n",
        "        wav=wav[:5*sr]\n",
        "    spec=librosa.feature.melspectrogram(y=wav, sr=sr, n_fft=n_fft, hop_length=hop_length, n_mels=n_mels,fmin=fmin,fmax=fmax)\n",
        "    spec_db=librosa.power_to_db(spec,top_db=top_db)\n",
        "\n",
        "    return spec_db\n",
        "\n",
        "\n",
        "def spec_to_image(spec, eps=1e-6):\n",
        "    mean = spec.mean()\n",
        "    std = spec.std()\n",
        "    spec_norm = (spec - mean) / (std + eps)\n",
        "    spec_min, spec_max = spec_norm.min(), spec_norm.max()\n",
        "    spec_scaled = 255 * (spec_norm - spec_min) / (spec_max - spec_min)\n",
        "    spec_scaled = spec_scaled.astype(np.uint8)\n",
        "\n",
        "    return spec_scaled"
      ],
      "metadata": {
        "id": "fqqkiFVE_Ed5"
      },
      "execution_count": null,
      "outputs": []
    },
    {
      "cell_type": "markdown",
      "source": [
        "mount google drive"
      ],
      "metadata": {
        "id": "bqoaisYdy87W"
      }
    },
    {
      "cell_type": "code",
      "source": [
        "from google.colab import drive\n",
        "drive.mount('/content/drive')"
      ],
      "metadata": {
        "colab": {
          "base_uri": "https://localhost:8080/"
        },
        "id": "4Bi02vGAy_UB",
        "outputId": "5715ce93-72ae-45db-c2a6-08546dc228c0"
      },
      "execution_count": null,
      "outputs": [
        {
          "output_type": "stream",
          "name": "stdout",
          "text": [
            "Drive already mounted at /content/drive; to attempt to forcibly remount, call drive.mount(\"/content/drive\", force_remount=True).\n"
          ]
        }
      ]
    },
    {
      "cell_type": "markdown",
      "source": [
        "Create ESC50 data format"
      ],
      "metadata": {
        "id": "dXoFCZJlWjf8"
      }
    },
    {
      "cell_type": "code",
      "source": [
        "class ESC50Data(Dataset):\n",
        "    def __init__(self, base, df, in_col, out_col):\n",
        "        self.df = df\n",
        "        self.data = []\n",
        "        self.labels = []\n",
        "        self.c2i={}\n",
        "        self.i2c={}\n",
        "        self.categories = sorted(df[out_col].unique())\n",
        "        for i, category in enumerate(self.categories):\n",
        "            self.c2i[category]=i\n",
        "            self.i2c[i]=category\n",
        "\n",
        "        for ind in tqdm(range(len(df))):\n",
        "            row = df.iloc[ind]\n",
        "            file_path = os.path.join(base,row[in_col])\n",
        "            self.data.append(spec_to_image(get_melspectrogram_db(file_path))[np.newaxis,...])\n",
        "            self.labels.append(self.c2i[row['category']])\n",
        "\n",
        "    def __len__(self):\n",
        "        return len(self.data)\n",
        "\n",
        "    def __getitem__(self, idx):\n",
        "        return self.data[idx], self.labels[idx]"
      ],
      "metadata": {
        "id": "79awFoyyWst_"
      },
      "execution_count": null,
      "outputs": []
    },
    {
      "cell_type": "markdown",
      "source": [
        "split dataset into training and validation"
      ],
      "metadata": {
        "id": "6qjCbAw1yp5Z"
      }
    },
    {
      "cell_type": "code",
      "source": [
        "df = pd.read_csv('/content/drive/MyDrive/NTUCE_AI_worshop_0629/ESC-50/meta/esc50_animal.csv')\n",
        "df.head()\n",
        "\n",
        "train = df[df['fold']!=5]\n",
        "valid = df[df['fold']==5]\n",
        "\n",
        "train_data = ESC50Data('/content/drive/MyDrive/NTUCE_AI_worshop_0629/ESC-50/audio', train, 'filename', 'category')\n",
        "valid_data = ESC50Data('/content/drive/MyDrive/NTUCE_AI_worshop_0629/ESC-50/audio', valid, 'filename', 'category')\n",
        "train_loader = DataLoader(train_data, batch_size=4, shuffle=True)\n",
        "valid_loader = DataLoader(valid_data, batch_size=4, shuffle=True)\n"
      ],
      "metadata": {
        "colab": {
          "base_uri": "https://localhost:8080/"
        },
        "id": "GqIeTJJjyzgX",
        "outputId": "6ce5af70-693e-4196-a30a-545a60b5bc62"
      },
      "execution_count": null,
      "outputs": [
        {
          "output_type": "stream",
          "name": "stderr",
          "text": [
            "100%|██████████| 320/320 [00:19<00:00, 16.84it/s]\n",
            "100%|██████████| 80/80 [00:02<00:00, 34.80it/s]\n"
          ]
        }
      ]
    },
    {
      "cell_type": "code",
      "source": [
        "import pickle\n",
        "with open('indtocat.pkl','wb') as f:\n",
        "  pickle.dump(train_data.i2c, f)"
      ],
      "metadata": {
        "id": "8k3MFkYd4Hx9"
      },
      "execution_count": null,
      "outputs": []
    },
    {
      "cell_type": "markdown",
      "source": [
        "Create the Convolutional Neural Network"
      ],
      "metadata": {
        "id": "NrFGRJdY_f_H"
      }
    },
    {
      "cell_type": "code",
      "source": [
        "import torch.nn as nn\n",
        "import torch.nn.functional as F\n",
        "\n",
        "def weights_init(m):\n",
        "    classname = m.__class__.__name__\n",
        "    if classname.find('Conv') != -1:\n",
        "        nn.init.normal_(m.weight.data, 0.0, 0.02)\n",
        "    elif classname.find('BatchNorm') != -1:\n",
        "        nn.init.normal_(m.weight.data, 1.0, 0.02)\n",
        "        nn.init.constant_(m.bias.data, 0)\n",
        "\n",
        "class ESC50Model(nn.Module):\n",
        "    def __init__(self, input_shape, batch_size=16, num_cats=10):\n",
        "        super().__init__()\n",
        "        self.conv1 = nn.Conv2d(1, 32, kernel_size = 3, stride=1, padding=1)\n",
        "        self.bn1 = nn.BatchNorm2d(32)\n",
        "        self.conv2 = nn.Conv2d(32, 32, kernel_size = 3, stride=1, padding=1)\n",
        "        self.bn2 = nn.BatchNorm2d(32)\n",
        "        self.conv3 = nn.Conv2d(32, 64, kernel_size=3, stride=1, padding=1)\n",
        "        self.bn3 = nn.BatchNorm2d(64)\n",
        "        self.conv4 = nn.Conv2d(64, 64, kernel_size=3, stride=1, padding=1)\n",
        "        self.bn4 = nn.BatchNorm2d(64)\n",
        "        self.conv5 = nn.Conv2d(64, 128, kernel_size=3, stride=1, padding=1)\n",
        "        self.bn5 = nn.BatchNorm2d(128)\n",
        "        self.conv6 = nn.Conv2d(128, 128, kernel_size=3, stride=1, padding=1)\n",
        "        self.bn6 = nn.BatchNorm2d(128)\n",
        "        self.conv7 = nn.Conv2d(128, 256, kernel_size=3, stride=1, padding=1)\n",
        "        self.bn7 = nn.BatchNorm2d(256)\n",
        "        self.conv8 = nn.Conv2d(256, 256, kernel_size=3, stride=1, padding=1)\n",
        "        self.bn8 = nn.BatchNorm2d(256)\n",
        "        self.dense1 = nn.Linear(256*(((input_shape[1]//2)//2)//2)*(((input_shape[2]//2)//2)//2),500)\n",
        "        self.dropout = nn.Dropout(0.5)\n",
        "        self.dense2 = nn.Linear(500, num_cats)\n",
        "    def forward(self, x):\n",
        "        x = self.conv1(x)\n",
        "        x = F.relu(self.bn1(x))\n",
        "        x = self.conv2(x)\n",
        "        x = F.relu(self.bn2(x))\n",
        "        x = F.max_pool2d(x, kernel_size=2)\n",
        "        x = self.conv3(x)\n",
        "        x = F.relu(self.bn3(x))\n",
        "        x = self.conv4(x)\n",
        "        x = F.relu(self.bn4(x))\n",
        "        x = F.max_pool2d(x, kernel_size=2)\n",
        "        x = self.conv5(x)\n",
        "        x = F.relu(self.bn5(x))\n",
        "        x = self.conv6(x)\n",
        "        x = F.relu(self.bn6(x))\n",
        "        x = F.max_pool2d(x, kernel_size=2)\n",
        "        x = self.conv7(x)\n",
        "        x = F.relu(self.bn7(x))\n",
        "        x = self.conv8(x)\n",
        "        x = F.relu(self.bn8(x))\n",
        "        x = x.view(x.size(0),-1)\n",
        "        x = F.relu(self.dense1(x))\n",
        "        x = self.dropout(x)\n",
        "        x = self.dense2(x)\n",
        "        return x"
      ],
      "metadata": {
        "id": "eCduu6Zv_Eid"
      },
      "execution_count": null,
      "outputs": []
    },
    {
      "cell_type": "code",
      "source": [
        "if torch.cuda.is_available():\n",
        "    device=torch.device('cuda:0')\n",
        "else:\n",
        "    device=torch.device('cpu')\n",
        "\n",
        "model = ESC50Model(input_shape=(1,128,431), num_cats=10).to(device)\n",
        "# model.apply(weights_init)\n"
      ],
      "metadata": {
        "id": "XQ70xgiLzZH-"
      },
      "execution_count": null,
      "outputs": []
    },
    {
      "cell_type": "code",
      "source": [
        "learning_rate = 2e-4\n",
        "optimizer = optim.Adam(model.parameters(), lr=learning_rate)\n",
        "epochs = 60\n",
        "loss_fn = nn.CrossEntropyLoss()\n",
        "train_losses=[]\n",
        "valid_losses=[]"
      ],
      "metadata": {
        "id": "3gtYoDwTzcMo"
      },
      "execution_count": null,
      "outputs": []
    },
    {
      "cell_type": "markdown",
      "source": [
        "Declare training process"
      ],
      "metadata": {
        "id": "4O9_5L2YW_gH"
      }
    },
    {
      "cell_type": "code",
      "source": [
        "def setlr(optimizer, lr):\n",
        "    for param_group in optimizer.param_groups:\n",
        "        param_group['lr'] = lr\n",
        "    return optimizer\n",
        "\n",
        "\n",
        "def lr_decay(optimizer, epoch):\n",
        "    if epoch%10==0:\n",
        "        new_lr = learning_rate / (10**(epoch//10))\n",
        "        optimizer = setlr(optimizer, new_lr)\n",
        "        print(f'Changed learning rate to {new_lr}')\n",
        "    return optimizer\n",
        "\n",
        "def train(model, loss_fn, train_loader, valid_loader, epochs, optimizer, train_losses, valid_losses, change_lr=None):\n",
        "    accuracy_best = 0\n",
        "    for epoch in tqdm(range(1,epochs+1)):\n",
        "        model.train()\n",
        "        batch_losses=[]\n",
        "\n",
        "        if change_lr:\n",
        "            optimizer = change_lr(optimizer, epoch)\n",
        "\n",
        "        for i, data in enumerate(train_loader):\n",
        "            x, y = data\n",
        "            # optimizer.zero_grad()\n",
        "            x = x.to(device, dtype=torch.float32)\n",
        "            y = y.to(device, dtype=torch.long)\n",
        "            y_hat = model(x)\n",
        "            loss = loss_fn(y_hat, y)\n",
        "            loss.backward()\n",
        "            batch_losses.append(loss.item())\n",
        "\n",
        "            if i%5==0:\n",
        "            # if True:\n",
        "                optimizer.step()        # update parameters of net\n",
        "                optimizer.zero_grad()\n",
        "\n",
        "        train_losses.append(batch_losses)\n",
        "        print(f'Epoch - {epoch} Train-Loss : {np.mean(train_losses[-1])}')\n",
        "        model.eval()\n",
        "        batch_losses=[]\n",
        "        trace_y = []\n",
        "        trace_yhat = []\n",
        "\n",
        "        # Validation\n",
        "        for i, data in enumerate(valid_loader):\n",
        "            x, y = data\n",
        "            x = x.to(device, dtype=torch.float32)\n",
        "            y = y.to(device, dtype=torch.long)\n",
        "            y_hat = model(x)\n",
        "            loss = loss_fn(y_hat, y)\n",
        "            trace_y.append(y.cpu().detach().numpy())\n",
        "            trace_yhat.append(y_hat.cpu().detach().numpy())\n",
        "            batch_losses.append(loss.item())\n",
        "\n",
        "        valid_losses.append(batch_losses)\n",
        "        trace_y = np.concatenate(trace_y)\n",
        "        trace_yhat = np.concatenate(trace_yhat)\n",
        "        accuracy = np.mean(trace_yhat.argmax(axis=1)==trace_y)\n",
        "        print(f'Epoch - {epoch} Valid-Loss : {np.mean(valid_losses[-1])} Valid-Accuracy : {accuracy}')\n",
        "        if accuracy > accuracy_best:\n",
        "            accuracy_best = accuracy\n",
        "            torch.save(model, \"/content/drive/MyDrive/NTUCE_AI_worshop_0629/demo_best.pth\")\n",
        "    return model"
      ],
      "metadata": {
        "id": "VhLrR_H7W-yM"
      },
      "execution_count": null,
      "outputs": []
    },
    {
      "cell_type": "markdown",
      "source": [
        "Start training"
      ],
      "metadata": {
        "id": "TkGC_LFtzm0a"
      }
    },
    {
      "cell_type": "code",
      "source": [
        "model_ = train(model, loss_fn, train_loader, valid_loader, epochs, optimizer, train_losses, valid_losses, lr_decay)\n",
        "\n",
        "torch.save(model_, \"/content/drive/MyDrive/NTUCE_AI_worshop_0629/demo_last.pth\")"
      ],
      "metadata": {
        "colab": {
          "base_uri": "https://localhost:8080/"
        },
        "id": "UdEzrFtfzljM",
        "outputId": "18def1be-680d-4d42-ace9-2a40c8b7d874"
      },
      "execution_count": null,
      "outputs": [
        {
          "output_type": "stream",
          "name": "stderr",
          "text": [
            "\r  0%|          | 0/60 [00:00<?, ?it/s]"
          ]
        },
        {
          "output_type": "stream",
          "name": "stdout",
          "text": [
            "Epoch - 1 Train-Loss : 8.913888461887836\n",
            "Epoch - 1 Valid-Loss : 2.925560799241066 Valid-Accuracy : 0.2875\n"
          ]
        },
        {
          "output_type": "stream",
          "name": "stderr",
          "text": [
            "\r  2%|▏         | 1/60 [00:07<07:32,  7.67s/it]"
          ]
        },
        {
          "output_type": "stream",
          "name": "stdout",
          "text": [
            "Epoch - 2 Train-Loss : 1.8189916864037514\n",
            "Epoch - 2 Valid-Loss : 1.405715494044125 Valid-Accuracy : 0.525\n"
          ]
        },
        {
          "output_type": "stream",
          "name": "stderr",
          "text": [
            "\r  3%|▎         | 2/60 [00:13<06:09,  6.37s/it]"
          ]
        },
        {
          "output_type": "stream",
          "name": "stdout",
          "text": [
            "Epoch - 3 Train-Loss : 1.1731634847819805\n",
            "Epoch - 3 Valid-Loss : 1.4005602411925793 Valid-Accuracy : 0.5625\n"
          ]
        },
        {
          "output_type": "stream",
          "name": "stderr",
          "text": [
            "\r  5%|▌         | 3/60 [00:18<05:42,  6.01s/it]"
          ]
        },
        {
          "output_type": "stream",
          "name": "stdout",
          "text": [
            "Epoch - 4 Train-Loss : 0.8448737461119891\n"
          ]
        },
        {
          "output_type": "stream",
          "name": "stderr",
          "text": [
            "\r  7%|▋         | 4/60 [00:22<04:46,  5.11s/it]"
          ]
        },
        {
          "output_type": "stream",
          "name": "stdout",
          "text": [
            "Epoch - 4 Valid-Loss : 1.260612753778696 Valid-Accuracy : 0.55\n",
            "Epoch - 5 Train-Loss : 0.617923581181094\n",
            "Epoch - 5 Valid-Loss : 1.2438402209430932 Valid-Accuracy : 0.5875\n"
          ]
        },
        {
          "output_type": "stream",
          "name": "stderr",
          "text": [
            "\r  8%|▊         | 5/60 [00:28<04:57,  5.41s/it]"
          ]
        },
        {
          "output_type": "stream",
          "name": "stdout",
          "text": [
            "Epoch - 6 Train-Loss : 0.47493798926007\n"
          ]
        },
        {
          "output_type": "stream",
          "name": "stderr",
          "text": [
            "\r 10%|█         | 6/60 [00:32<04:22,  4.86s/it]"
          ]
        },
        {
          "output_type": "stream",
          "name": "stdout",
          "text": [
            "Epoch - 6 Valid-Loss : 1.2378309920430184 Valid-Accuracy : 0.55\n",
            "Epoch - 7 Train-Loss : 0.39762091404991223\n"
          ]
        },
        {
          "output_type": "stream",
          "name": "stderr",
          "text": [
            "\r 12%|█▏        | 7/60 [00:35<03:58,  4.50s/it]"
          ]
        },
        {
          "output_type": "stream",
          "name": "stdout",
          "text": [
            "Epoch - 7 Valid-Loss : 1.395635821740143 Valid-Accuracy : 0.575\n",
            "Epoch - 8 Train-Loss : 0.3857440281077288\n",
            "Epoch - 8 Valid-Loss : 1.1713423946872354 Valid-Accuracy : 0.625\n"
          ]
        },
        {
          "output_type": "stream",
          "name": "stderr",
          "text": [
            "\r 13%|█▎        | 8/60 [00:41<04:14,  4.89s/it]"
          ]
        },
        {
          "output_type": "stream",
          "name": "stdout",
          "text": [
            "Epoch - 9 Train-Loss : 0.3253842734498903\n"
          ]
        },
        {
          "output_type": "stream",
          "name": "stderr",
          "text": [
            "\r 15%|█▌        | 9/60 [00:45<03:52,  4.55s/it]"
          ]
        },
        {
          "output_type": "stream",
          "name": "stdout",
          "text": [
            "Epoch - 9 Valid-Loss : 1.4408689633011817 Valid-Accuracy : 0.6\n",
            "Changed learning rate to 2e-05\n",
            "Epoch - 10 Train-Loss : 0.24134346750797703\n",
            "Epoch - 10 Valid-Loss : 1.3471949830651284 Valid-Accuracy : 0.6625\n"
          ]
        },
        {
          "output_type": "stream",
          "name": "stderr",
          "text": [
            "\r 17%|█▋        | 10/60 [00:51<04:02,  4.86s/it]"
          ]
        },
        {
          "output_type": "stream",
          "name": "stdout",
          "text": [
            "Epoch - 11 Train-Loss : 0.16414440690132323\n"
          ]
        },
        {
          "output_type": "stream",
          "name": "stderr",
          "text": [
            "\r 18%|█▊        | 11/60 [00:54<03:41,  4.53s/it]"
          ]
        },
        {
          "output_type": "stream",
          "name": "stdout",
          "text": [
            "Epoch - 11 Valid-Loss : 1.4142618850804864 Valid-Accuracy : 0.625\n",
            "Epoch - 12 Train-Loss : 0.17071544993232238\n"
          ]
        },
        {
          "output_type": "stream",
          "name": "stderr",
          "text": [
            "\r 20%|██        | 12/60 [00:58<03:26,  4.31s/it]"
          ]
        },
        {
          "output_type": "stream",
          "name": "stdout",
          "text": [
            "Epoch - 12 Valid-Loss : 1.3343504277989269 Valid-Accuracy : 0.65\n",
            "Epoch - 13 Train-Loss : 0.11716849663862376\n"
          ]
        },
        {
          "output_type": "stream",
          "name": "stderr",
          "text": [
            "\r 22%|██▏       | 13/60 [01:02<03:15,  4.15s/it]"
          ]
        },
        {
          "output_type": "stream",
          "name": "stdout",
          "text": [
            "Epoch - 13 Valid-Loss : 1.3801248325034976 Valid-Accuracy : 0.6375\n",
            "Epoch - 14 Train-Loss : 0.1605357376180109\n"
          ]
        },
        {
          "output_type": "stream",
          "name": "stderr",
          "text": [
            "\r 23%|██▎       | 14/60 [01:06<03:05,  4.03s/it]"
          ]
        },
        {
          "output_type": "stream",
          "name": "stdout",
          "text": [
            "Epoch - 14 Valid-Loss : 1.2862490174826235 Valid-Accuracy : 0.6375\n",
            "Epoch - 15 Train-Loss : 0.14186649474722798\n"
          ]
        },
        {
          "output_type": "stream",
          "name": "stderr",
          "text": [
            "\r 25%|██▌       | 15/60 [01:09<02:58,  3.96s/it]"
          ]
        },
        {
          "output_type": "stream",
          "name": "stdout",
          "text": [
            "Epoch - 15 Valid-Loss : 1.2697971256216989 Valid-Accuracy : 0.65\n",
            "Epoch - 16 Train-Loss : 0.13439152036153246\n"
          ]
        },
        {
          "output_type": "stream",
          "name": "stderr",
          "text": [
            "\r 27%|██▋       | 16/60 [01:14<02:58,  4.05s/it]"
          ]
        },
        {
          "output_type": "stream",
          "name": "stdout",
          "text": [
            "Epoch - 16 Valid-Loss : 1.2704366724938154 Valid-Accuracy : 0.6375\n",
            "Epoch - 17 Train-Loss : 0.11713009183604299\n"
          ]
        },
        {
          "output_type": "stream",
          "name": "stderr",
          "text": [
            "\r 28%|██▊       | 17/60 [01:17<02:50,  3.96s/it]"
          ]
        },
        {
          "output_type": "stream",
          "name": "stdout",
          "text": [
            "Epoch - 17 Valid-Loss : 1.2630925248377025 Valid-Accuracy : 0.6375\n",
            "Epoch - 18 Train-Loss : 0.10188874868617859\n",
            "Epoch - 18 Valid-Loss : 1.1844169716117903 Valid-Accuracy : 0.6875\n"
          ]
        },
        {
          "output_type": "stream",
          "name": "stderr",
          "text": [
            "\r 30%|███       | 18/60 [01:23<03:10,  4.54s/it]"
          ]
        },
        {
          "output_type": "stream",
          "name": "stdout",
          "text": [
            "Epoch - 19 Train-Loss : 0.0921581621747464\n"
          ]
        },
        {
          "output_type": "stream",
          "name": "stderr",
          "text": [
            "\r 32%|███▏      | 19/60 [01:27<02:56,  4.31s/it]"
          ]
        },
        {
          "output_type": "stream",
          "name": "stdout",
          "text": [
            "Epoch - 19 Valid-Loss : 1.2612009037286043 Valid-Accuracy : 0.6875\n",
            "Changed learning rate to 2e-06\n",
            "Epoch - 20 Train-Loss : 0.09735288989395485\n"
          ]
        },
        {
          "output_type": "stream",
          "name": "stderr",
          "text": [
            "\r 33%|███▎      | 20/60 [01:31<02:45,  4.13s/it]"
          ]
        },
        {
          "output_type": "stream",
          "name": "stdout",
          "text": [
            "Epoch - 20 Valid-Loss : 1.237943247752264 Valid-Accuracy : 0.6875\n",
            "Epoch - 21 Train-Loss : 0.08392649361194345\n"
          ]
        },
        {
          "output_type": "stream",
          "name": "stderr",
          "text": [
            "\r 35%|███▌      | 21/60 [01:35<02:36,  4.02s/it]"
          ]
        },
        {
          "output_type": "stream",
          "name": "stdout",
          "text": [
            "Epoch - 21 Valid-Loss : 1.2651945915305987 Valid-Accuracy : 0.675\n",
            "Epoch - 22 Train-Loss : 0.10746219030952489\n"
          ]
        },
        {
          "output_type": "stream",
          "name": "stderr",
          "text": [
            "\r 37%|███▋      | 22/60 [01:38<02:29,  3.94s/it]"
          ]
        },
        {
          "output_type": "stream",
          "name": "stdout",
          "text": [
            "Epoch - 22 Valid-Loss : 1.2802061961847357 Valid-Accuracy : 0.675\n",
            "Epoch - 23 Train-Loss : 0.10126532939884783\n"
          ]
        },
        {
          "output_type": "stream",
          "name": "stderr",
          "text": [
            "\r 38%|███▊      | 23/60 [01:42<02:23,  3.87s/it]"
          ]
        },
        {
          "output_type": "stream",
          "name": "stdout",
          "text": [
            "Epoch - 23 Valid-Loss : 1.2492336057126523 Valid-Accuracy : 0.6625\n",
            "Epoch - 24 Train-Loss : 0.10155344534305186\n"
          ]
        },
        {
          "output_type": "stream",
          "name": "stderr",
          "text": [
            "\r 40%|████      | 24/60 [01:46<02:17,  3.83s/it]"
          ]
        },
        {
          "output_type": "stream",
          "name": "stdout",
          "text": [
            "Epoch - 24 Valid-Loss : 1.2179969573393463 Valid-Accuracy : 0.6875\n",
            "Epoch - 25 Train-Loss : 0.1128263147038524\n"
          ]
        },
        {
          "output_type": "stream",
          "name": "stderr",
          "text": [
            "\r 42%|████▏     | 25/60 [01:50<02:14,  3.85s/it]"
          ]
        },
        {
          "output_type": "stream",
          "name": "stdout",
          "text": [
            "Epoch - 25 Valid-Loss : 1.2417567896656692 Valid-Accuracy : 0.6875\n",
            "Epoch - 26 Train-Loss : 0.0886030783130991\n"
          ]
        },
        {
          "output_type": "stream",
          "name": "stderr",
          "text": [
            "\r 43%|████▎     | 26/60 [01:54<02:14,  3.97s/it]"
          ]
        },
        {
          "output_type": "stream",
          "name": "stdout",
          "text": [
            "Epoch - 26 Valid-Loss : 1.2580516598420217 Valid-Accuracy : 0.6875\n",
            "Epoch - 27 Train-Loss : 0.09506514252261695\n"
          ]
        },
        {
          "output_type": "stream",
          "name": "stderr",
          "text": [
            "\r 45%|████▌     | 27/60 [01:58<02:09,  3.92s/it]"
          ]
        },
        {
          "output_type": "stream",
          "name": "stdout",
          "text": [
            "Epoch - 27 Valid-Loss : 1.2236876418348401 Valid-Accuracy : 0.675\n",
            "Epoch - 28 Train-Loss : 0.11755643726501148\n"
          ]
        },
        {
          "output_type": "stream",
          "name": "stderr",
          "text": [
            "\r 47%|████▋     | 28/60 [02:01<02:03,  3.87s/it]"
          ]
        },
        {
          "output_type": "stream",
          "name": "stdout",
          "text": [
            "Epoch - 28 Valid-Loss : 1.2675951136276127 Valid-Accuracy : 0.65\n",
            "Epoch - 29 Train-Loss : 0.09702894371666844\n"
          ]
        },
        {
          "output_type": "stream",
          "name": "stderr",
          "text": [
            "\r 48%|████▊     | 29/60 [02:05<01:58,  3.83s/it]"
          ]
        },
        {
          "output_type": "stream",
          "name": "stdout",
          "text": [
            "Epoch - 29 Valid-Loss : 1.2436872269317973 Valid-Accuracy : 0.6875\n",
            "Changed learning rate to 2.0000000000000002e-07\n",
            "Epoch - 30 Train-Loss : 0.12937883814829548\n"
          ]
        },
        {
          "output_type": "stream",
          "name": "stderr",
          "text": [
            "\r 50%|█████     | 30/60 [02:09<01:54,  3.80s/it]"
          ]
        },
        {
          "output_type": "stream",
          "name": "stdout",
          "text": [
            "Epoch - 30 Valid-Loss : 1.220684336865088 Valid-Accuracy : 0.675\n",
            "Epoch - 31 Train-Loss : 0.1019985035454738\n"
          ]
        },
        {
          "output_type": "stream",
          "name": "stderr",
          "text": [
            "\r 52%|█████▏    | 31/60 [02:13<01:49,  3.78s/it]"
          ]
        },
        {
          "output_type": "stream",
          "name": "stdout",
          "text": [
            "Epoch - 31 Valid-Loss : 1.2675746218301356 Valid-Accuracy : 0.675\n",
            "Epoch - 32 Train-Loss : 0.08715954778999731\n"
          ]
        },
        {
          "output_type": "stream",
          "name": "stderr",
          "text": [
            "\r 53%|█████▎    | 32/60 [02:16<01:45,  3.77s/it]"
          ]
        },
        {
          "output_type": "stream",
          "name": "stdout",
          "text": [
            "Epoch - 32 Valid-Loss : 1.2429671249352396 Valid-Accuracy : 0.6875\n",
            "Epoch - 33 Train-Loss : 0.0752155511861929\n",
            "Epoch - 33 Valid-Loss : 1.2523170834407211 Valid-Accuracy : 0.7125\n"
          ]
        },
        {
          "output_type": "stream",
          "name": "stderr",
          "text": [
            "\r 55%|█████▌    | 33/60 [02:22<01:55,  4.29s/it]"
          ]
        },
        {
          "output_type": "stream",
          "name": "stdout",
          "text": [
            "Epoch - 34 Train-Loss : 0.11203140784512584\n"
          ]
        },
        {
          "output_type": "stream",
          "name": "stderr",
          "text": [
            "\r 57%|█████▋    | 34/60 [02:26<01:47,  4.13s/it]"
          ]
        },
        {
          "output_type": "stream",
          "name": "stdout",
          "text": [
            "Epoch - 34 Valid-Loss : 1.2497739258687943 Valid-Accuracy : 0.6625\n",
            "Epoch - 35 Train-Loss : 0.08172593439285265\n"
          ]
        },
        {
          "output_type": "stream",
          "name": "stderr",
          "text": [
            "\r 58%|█████▊    | 35/60 [02:29<01:40,  4.01s/it]"
          ]
        },
        {
          "output_type": "stream",
          "name": "stdout",
          "text": [
            "Epoch - 35 Valid-Loss : 1.2564042442361825 Valid-Accuracy : 0.65\n",
            "Epoch - 36 Train-Loss : 0.1122526874212781\n"
          ]
        },
        {
          "output_type": "stream",
          "name": "stderr",
          "text": [
            "\r 60%|██████    | 36/60 [02:33<01:34,  3.95s/it]"
          ]
        },
        {
          "output_type": "stream",
          "name": "stdout",
          "text": [
            "Epoch - 36 Valid-Loss : 1.2274443888105453 Valid-Accuracy : 0.6875\n",
            "Epoch - 37 Train-Loss : 0.08579954199685744\n"
          ]
        },
        {
          "output_type": "stream",
          "name": "stderr",
          "text": [
            "\r 62%|██████▏   | 37/60 [02:37<01:29,  3.89s/it]"
          ]
        },
        {
          "output_type": "stream",
          "name": "stdout",
          "text": [
            "Epoch - 37 Valid-Loss : 1.2424913845956325 Valid-Accuracy : 0.675\n",
            "Epoch - 38 Train-Loss : 0.105224884639847\n"
          ]
        },
        {
          "output_type": "stream",
          "name": "stderr",
          "text": [
            "\r 63%|██████▎   | 38/60 [02:41<01:24,  3.85s/it]"
          ]
        },
        {
          "output_type": "stream",
          "name": "stdout",
          "text": [
            "Epoch - 38 Valid-Loss : 1.2297383228316903 Valid-Accuracy : 0.6875\n",
            "Epoch - 39 Train-Loss : 0.10165015010352363\n"
          ]
        },
        {
          "output_type": "stream",
          "name": "stderr",
          "text": [
            "\r 65%|██████▌   | 39/60 [02:44<01:20,  3.81s/it]"
          ]
        },
        {
          "output_type": "stream",
          "name": "stdout",
          "text": [
            "Epoch - 39 Valid-Loss : 1.2238353570573963 Valid-Accuracy : 0.675\n",
            "Changed learning rate to 2e-08\n",
            "Epoch - 40 Train-Loss : 0.10407396770369814\n"
          ]
        },
        {
          "output_type": "stream",
          "name": "stderr",
          "text": [
            "\r 67%|██████▋   | 40/60 [02:48<01:15,  3.80s/it]"
          ]
        },
        {
          "output_type": "stream",
          "name": "stdout",
          "text": [
            "Epoch - 40 Valid-Loss : 1.294704258418642 Valid-Accuracy : 0.6375\n",
            "Epoch - 41 Train-Loss : 0.08591763498952787\n"
          ]
        },
        {
          "output_type": "stream",
          "name": "stderr",
          "text": [
            "\r 68%|██████▊   | 41/60 [02:52<01:11,  3.78s/it]"
          ]
        },
        {
          "output_type": "stream",
          "name": "stdout",
          "text": [
            "Epoch - 41 Valid-Loss : 1.2281554291024803 Valid-Accuracy : 0.7125\n",
            "Epoch - 42 Train-Loss : 0.09820063206179838\n"
          ]
        },
        {
          "output_type": "stream",
          "name": "stderr",
          "text": [
            "\r 70%|███████   | 42/60 [02:56<01:07,  3.77s/it]"
          ]
        },
        {
          "output_type": "stream",
          "name": "stdout",
          "text": [
            "Epoch - 42 Valid-Loss : 1.2986797161400319 Valid-Accuracy : 0.65\n",
            "Epoch - 43 Train-Loss : 0.08620582155053853\n"
          ]
        },
        {
          "output_type": "stream",
          "name": "stderr",
          "text": [
            "\r 72%|███████▏  | 43/60 [02:59<01:03,  3.76s/it]"
          ]
        },
        {
          "output_type": "stream",
          "name": "stdout",
          "text": [
            "Epoch - 43 Valid-Loss : 1.2897395312786102 Valid-Accuracy : 0.6625\n",
            "Epoch - 44 Train-Loss : 0.11911601059655368\n"
          ]
        },
        {
          "output_type": "stream",
          "name": "stderr",
          "text": [
            "\r 73%|███████▎  | 44/60 [03:03<01:00,  3.76s/it]"
          ]
        },
        {
          "output_type": "stream",
          "name": "stdout",
          "text": [
            "Epoch - 44 Valid-Loss : 1.2446679971530101 Valid-Accuracy : 0.675\n",
            "Epoch - 45 Train-Loss : 0.08115014284521749\n"
          ]
        },
        {
          "output_type": "stream",
          "name": "stderr",
          "text": [
            "\r 75%|███████▌  | 45/60 [03:07<00:56,  3.76s/it]"
          ]
        },
        {
          "output_type": "stream",
          "name": "stdout",
          "text": [
            "Epoch - 45 Valid-Loss : 1.2737580596702174 Valid-Accuracy : 0.7\n",
            "Epoch - 46 Train-Loss : 0.09187787936898531\n"
          ]
        },
        {
          "output_type": "stream",
          "name": "stderr",
          "text": [
            "\r 77%|███████▋  | 46/60 [03:11<00:52,  3.78s/it]"
          ]
        },
        {
          "output_type": "stream",
          "name": "stdout",
          "text": [
            "Epoch - 46 Valid-Loss : 1.2856765780656132 Valid-Accuracy : 0.65\n",
            "Epoch - 47 Train-Loss : 0.08119058845222753\n"
          ]
        },
        {
          "output_type": "stream",
          "name": "stderr",
          "text": [
            "\r 78%|███████▊  | 47/60 [03:15<00:49,  3.77s/it]"
          ]
        },
        {
          "output_type": "stream",
          "name": "stdout",
          "text": [
            "Epoch - 47 Valid-Loss : 1.2417496261536143 Valid-Accuracy : 0.675\n",
            "Epoch - 48 Train-Loss : 0.0846800530613109\n"
          ]
        },
        {
          "output_type": "stream",
          "name": "stderr",
          "text": [
            "\r 80%|████████  | 48/60 [03:18<00:45,  3.77s/it]"
          ]
        },
        {
          "output_type": "stream",
          "name": "stdout",
          "text": [
            "Epoch - 48 Valid-Loss : 1.2545381878502666 Valid-Accuracy : 0.675\n",
            "Epoch - 49 Train-Loss : 0.08351745307991223\n"
          ]
        },
        {
          "output_type": "stream",
          "name": "stderr",
          "text": [
            "\r 82%|████████▏ | 49/60 [03:22<00:41,  3.76s/it]"
          ]
        },
        {
          "output_type": "stream",
          "name": "stdout",
          "text": [
            "Epoch - 49 Valid-Loss : 1.232508867699653 Valid-Accuracy : 0.6625\n",
            "Changed learning rate to 2e-09\n",
            "Epoch - 50 Train-Loss : 0.10956481629546033\n"
          ]
        },
        {
          "output_type": "stream",
          "name": "stderr",
          "text": [
            "\r 83%|████████▎ | 50/60 [03:26<00:37,  3.75s/it]"
          ]
        },
        {
          "output_type": "stream",
          "name": "stdout",
          "text": [
            "Epoch - 50 Valid-Loss : 1.2445404664525994 Valid-Accuracy : 0.6875\n",
            "Epoch - 51 Train-Loss : 0.08959176433490938\n"
          ]
        },
        {
          "output_type": "stream",
          "name": "stderr",
          "text": [
            "\r 85%|████████▌ | 51/60 [03:30<00:33,  3.75s/it]"
          ]
        },
        {
          "output_type": "stream",
          "name": "stdout",
          "text": [
            "Epoch - 51 Valid-Loss : 1.2702430821955204 Valid-Accuracy : 0.675\n",
            "Epoch - 52 Train-Loss : 0.11229250455626243\n"
          ]
        },
        {
          "output_type": "stream",
          "name": "stderr",
          "text": [
            "\r 87%|████████▋ | 52/60 [03:33<00:29,  3.75s/it]"
          ]
        },
        {
          "output_type": "stream",
          "name": "stdout",
          "text": [
            "Epoch - 52 Valid-Loss : 1.246043173642829 Valid-Accuracy : 0.6875\n",
            "Epoch - 53 Train-Loss : 0.08157351430054405\n"
          ]
        },
        {
          "output_type": "stream",
          "name": "stderr",
          "text": [
            "\r 88%|████████▊ | 53/60 [03:37<00:26,  3.75s/it]"
          ]
        },
        {
          "output_type": "stream",
          "name": "stdout",
          "text": [
            "Epoch - 53 Valid-Loss : 1.2618023604154587 Valid-Accuracy : 0.65\n",
            "Epoch - 54 Train-Loss : 0.0956644775284076\n"
          ]
        },
        {
          "output_type": "stream",
          "name": "stderr",
          "text": [
            "\r 90%|█████████ | 54/60 [03:41<00:22,  3.75s/it]"
          ]
        },
        {
          "output_type": "stream",
          "name": "stdout",
          "text": [
            "Epoch - 54 Valid-Loss : 1.241628707142081 Valid-Accuracy : 0.675\n",
            "Epoch - 55 Train-Loss : 0.10125426385457104\n"
          ]
        },
        {
          "output_type": "stream",
          "name": "stderr",
          "text": [
            "\r 92%|█████████▏| 55/60 [03:45<00:18,  3.75s/it]"
          ]
        },
        {
          "output_type": "stream",
          "name": "stdout",
          "text": [
            "Epoch - 55 Valid-Loss : 1.2346230797702447 Valid-Accuracy : 0.6875\n",
            "Epoch - 56 Train-Loss : 0.08721341224227216\n"
          ]
        },
        {
          "output_type": "stream",
          "name": "stderr",
          "text": [
            "\r 93%|█████████▎| 56/60 [03:48<00:14,  3.75s/it]"
          ]
        },
        {
          "output_type": "stream",
          "name": "stdout",
          "text": [
            "Epoch - 56 Valid-Loss : 1.2583941501798108 Valid-Accuracy : 0.675\n",
            "Epoch - 57 Train-Loss : 0.0801999108709424\n"
          ]
        },
        {
          "output_type": "stream",
          "name": "stderr",
          "text": [
            "\r 95%|█████████▌| 57/60 [03:52<00:11,  3.74s/it]"
          ]
        },
        {
          "output_type": "stream",
          "name": "stdout",
          "text": [
            "Epoch - 57 Valid-Loss : 1.295427887700498 Valid-Accuracy : 0.6625\n",
            "Epoch - 58 Train-Loss : 0.13416284749910118\n"
          ]
        },
        {
          "output_type": "stream",
          "name": "stderr",
          "text": [
            "\r 97%|█████████▋| 58/60 [03:56<00:07,  3.74s/it]"
          ]
        },
        {
          "output_type": "stream",
          "name": "stdout",
          "text": [
            "Epoch - 58 Valid-Loss : 1.2285472210496664 Valid-Accuracy : 0.675\n",
            "Epoch - 59 Train-Loss : 0.0779355357399254\n"
          ]
        },
        {
          "output_type": "stream",
          "name": "stderr",
          "text": [
            "\r 98%|█████████▊| 59/60 [03:59<00:03,  3.74s/it]"
          ]
        },
        {
          "output_type": "stream",
          "name": "stdout",
          "text": [
            "Epoch - 59 Valid-Loss : 1.2555963883176446 Valid-Accuracy : 0.6625\n",
            "Changed learning rate to 2e-10\n",
            "Epoch - 60 Train-Loss : 0.06893853294204746\n"
          ]
        },
        {
          "output_type": "stream",
          "name": "stderr",
          "text": [
            "100%|██████████| 60/60 [04:03<00:00,  4.06s/it]"
          ]
        },
        {
          "output_type": "stream",
          "name": "stdout",
          "text": [
            "Epoch - 60 Valid-Loss : 1.2546275392276585 Valid-Accuracy : 0.675\n"
          ]
        },
        {
          "output_type": "stream",
          "name": "stderr",
          "text": [
            "\n"
          ]
        }
      ]
    },
    {
      "cell_type": "code",
      "source": [
        "test_path = \"/content/drive/MyDrive/NTUCE_AI_worshop_0629/1-18757-A-4.wav\"\n",
        "test_data = spec_to_image(get_melspectrogram_db(test_path))\n"
      ],
      "metadata": {
        "id": "XDq_VuVzW0U9"
      },
      "execution_count": null,
      "outputs": []
    },
    {
      "cell_type": "code",
      "source": [
        "with open('indtocat.pkl','rb') as f:\n",
        "  indtocat = pickle.load(f)"
      ],
      "metadata": {
        "id": "4nZlaHRY4Vf4"
      },
      "execution_count": null,
      "outputs": []
    },
    {
      "cell_type": "code",
      "source": [
        "indtocat"
      ],
      "metadata": {
        "colab": {
          "base_uri": "https://localhost:8080/"
        },
        "id": "EfB7MC9W2sC7",
        "outputId": "d5ba6743-a4a9-4248-9c66-93e7c20db4e1"
      },
      "execution_count": null,
      "outputs": [
        {
          "output_type": "execute_result",
          "data": {
            "text/plain": [
              "{0: 'cat',\n",
              " 1: 'cow',\n",
              " 2: 'crow',\n",
              " 3: 'dog',\n",
              " 4: 'frog',\n",
              " 5: 'hen',\n",
              " 6: 'insects',\n",
              " 7: 'pig',\n",
              " 8: 'rooster',\n",
              " 9: 'sheep'}"
            ]
          },
          "metadata": {},
          "execution_count": 14
        }
      ]
    },
    {
      "cell_type": "code",
      "source": [
        "model_.eval()\n",
        "spec_t = torch.tensor(test_data).to(device, dtype=torch.float32)\n",
        "pr = model_.forward(spec_t.reshape(1,1,*spec_t.shape))\n",
        "print(pr)\n",
        "\n",
        "ind = pr.argmax(dim=1).cpu().detach().numpy().ravel()[0]\n",
        "print(indtocat[ind])"
      ],
      "metadata": {
        "colab": {
          "base_uri": "https://localhost:8080/"
        },
        "id": "2EjyTUTh2n66",
        "outputId": "a9586098-0c11-4750-c7ff-ae8745ea7b4c"
      },
      "execution_count": null,
      "outputs": [
        {
          "output_type": "stream",
          "name": "stdout",
          "text": [
            "tensor([[ 1.5491, -4.9679,  2.8326,  3.6070, 14.2429,  0.8141, -4.5870,  5.9992,\n",
            "          4.8902, -1.6729]], device='cuda:0', grad_fn=<AddmmBackward0>)\n",
            "frog\n"
          ]
        }
      ]
    },
    {
      "cell_type": "markdown",
      "source": [],
      "metadata": {
        "id": "0TnsjYQ75nts"
      }
    },
    {
      "cell_type": "markdown",
      "source": [
        "Utilize the prtrained torchvision model"
      ],
      "metadata": {
        "id": "L67Y_WfWW1VE"
      }
    },
    {
      "cell_type": "code",
      "source": [
        "from torchvision.models import resnet34\n",
        "\n",
        "resnet_model = resnet34(pretrained=True)\n",
        "resnet_model.fc = nn.Linear(512,10)\n",
        "resnet_model.conv1 = nn.Conv2d(1, 64, kernel_size=(7, 7), stride=(2, 2), padding=(3, 3), bias=False)\n",
        "resnet_model = resnet_model.to(device)"
      ],
      "metadata": {
        "colab": {
          "base_uri": "https://localhost:8080/"
        },
        "id": "eNnu8Wer5ipu",
        "outputId": "c0c44611-0268-4203-c4d2-8a9e4cbd4ac2"
      },
      "execution_count": null,
      "outputs": [
        {
          "output_type": "stream",
          "name": "stderr",
          "text": [
            "/usr/local/lib/python3.10/dist-packages/torchvision/models/_utils.py:208: UserWarning: The parameter 'pretrained' is deprecated since 0.13 and may be removed in the future, please use 'weights' instead.\n",
            "  warnings.warn(\n",
            "/usr/local/lib/python3.10/dist-packages/torchvision/models/_utils.py:223: UserWarning: Arguments other than a weight enum or `None` for 'weights' are deprecated since 0.13 and may be removed in the future. The current behavior is equivalent to passing `weights=ResNet34_Weights.IMAGENET1K_V1`. You can also use `weights=ResNet34_Weights.DEFAULT` to get the most up-to-date weights.\n",
            "  warnings.warn(msg)\n",
            "Downloading: \"https://download.pytorch.org/models/resnet34-b627a593.pth\" to /root/.cache/torch/hub/checkpoints/resnet34-b627a593.pth\n",
            "100%|██████████| 83.3M/83.3M [00:00<00:00, 96.9MB/s]\n"
          ]
        }
      ]
    },
    {
      "cell_type": "code",
      "source": [
        "learning_rate = 2e-4\n",
        "optimizer = optim.Adam(resnet_model.parameters(), lr=learning_rate)\n",
        "epochs = 60\n",
        "loss_fn = nn.CrossEntropyLoss()\n",
        "resnet_train_losses=[]\n",
        "resnet_valid_losses=[]\n",
        "\n",
        "model_res = train(resnet_model, loss_fn, train_loader, valid_loader, epochs, optimizer, resnet_train_losses, resnet_valid_losses, lr_decay)\n",
        "torch.save(model_res, \"/content/drive/MyDrive/NTUCE_AI_worshop_0629/demo_resnet.pth\")"
      ],
      "metadata": {
        "colab": {
          "base_uri": "https://localhost:8080/"
        },
        "id": "9NbPpiMi6Atu",
        "outputId": "33a83bb7-e78c-41a2-c126-675976732cbd"
      },
      "execution_count": null,
      "outputs": [
        {
          "output_type": "stream",
          "name": "stderr",
          "text": [
            "\r  0%|          | 0/60 [00:00<?, ?it/s]"
          ]
        },
        {
          "output_type": "stream",
          "name": "stdout",
          "text": [
            "Epoch - 1 Train-Loss : 1.722518005222082\n",
            "Epoch - 1 Valid-Loss : 0.9410615712404251 Valid-Accuracy : 0.6625\n"
          ]
        },
        {
          "output_type": "stream",
          "name": "stderr",
          "text": [
            "\r  2%|▏         | 1/60 [00:03<03:19,  3.39s/it]"
          ]
        },
        {
          "output_type": "stream",
          "name": "stdout",
          "text": [
            "Epoch - 2 Train-Loss : 0.788768338225782\n",
            "Epoch - 2 Valid-Loss : 0.6503754971548915 Valid-Accuracy : 0.75\n"
          ]
        },
        {
          "output_type": "stream",
          "name": "stderr",
          "text": [
            "\r  3%|▎         | 2/60 [00:06<03:15,  3.37s/it]"
          ]
        },
        {
          "output_type": "stream",
          "name": "stdout",
          "text": [
            "Epoch - 3 Train-Loss : 0.5163225864991545\n"
          ]
        },
        {
          "output_type": "stream",
          "name": "stderr",
          "text": [
            "\r  5%|▌         | 3/60 [00:10<03:12,  3.39s/it]"
          ]
        },
        {
          "output_type": "stream",
          "name": "stdout",
          "text": [
            "Epoch - 3 Valid-Loss : 0.6826194947585463 Valid-Accuracy : 0.7375\n",
            "Epoch - 4 Train-Loss : 0.3794070062227547\n",
            "Epoch - 4 Valid-Loss : 0.44378172839060426 Valid-Accuracy : 0.825\n"
          ]
        },
        {
          "output_type": "stream",
          "name": "stderr",
          "text": [
            "\r  7%|▋         | 4/60 [00:13<03:10,  3.40s/it]"
          ]
        },
        {
          "output_type": "stream",
          "name": "stdout",
          "text": [
            "Epoch - 5 Train-Loss : 0.2590615545166656\n"
          ]
        },
        {
          "output_type": "stream",
          "name": "stderr",
          "text": [
            "\r  8%|▊         | 5/60 [00:16<03:00,  3.28s/it]"
          ]
        },
        {
          "output_type": "stream",
          "name": "stdout",
          "text": [
            "Epoch - 5 Valid-Loss : 0.3920005956082605 Valid-Accuracy : 0.825\n",
            "Epoch - 6 Train-Loss : 0.27294360344531016\n",
            "Epoch - 6 Valid-Loss : 0.4021492123603821 Valid-Accuracy : 0.85\n"
          ]
        },
        {
          "output_type": "stream",
          "name": "stderr",
          "text": [
            "\r 10%|█         | 6/60 [00:19<02:57,  3.29s/it]"
          ]
        },
        {
          "output_type": "stream",
          "name": "stdout",
          "text": [
            "Epoch - 7 Train-Loss : 0.2261541804531589\n",
            "Epoch - 7 Valid-Loss : 0.3619231500546448 Valid-Accuracy : 0.875\n"
          ]
        },
        {
          "output_type": "stream",
          "name": "stderr",
          "text": [
            "\r 12%|█▏        | 7/60 [00:23<02:57,  3.36s/it]"
          ]
        },
        {
          "output_type": "stream",
          "name": "stdout",
          "text": [
            "Epoch - 8 Train-Loss : 0.2592962355236523\n"
          ]
        },
        {
          "output_type": "stream",
          "name": "stderr",
          "text": [
            "\r 13%|█▎        | 8/60 [00:26<02:51,  3.29s/it]"
          ]
        },
        {
          "output_type": "stream",
          "name": "stdout",
          "text": [
            "Epoch - 8 Valid-Loss : 0.42318918416276574 Valid-Accuracy : 0.875\n",
            "Epoch - 9 Train-Loss : 0.2688062356202863\n",
            "Epoch - 9 Valid-Loss : 0.44938104022294284 Valid-Accuracy : 0.9\n"
          ]
        },
        {
          "output_type": "stream",
          "name": "stderr",
          "text": [
            "\r 15%|█▌        | 9/60 [00:29<02:48,  3.30s/it]"
          ]
        },
        {
          "output_type": "stream",
          "name": "stdout",
          "text": [
            "Changed learning rate to 2e-05\n",
            "Epoch - 10 Train-Loss : 0.1430533092294354\n"
          ]
        },
        {
          "output_type": "stream",
          "name": "stderr",
          "text": [
            "\r 17%|█▋        | 10/60 [00:33<02:41,  3.23s/it]"
          ]
        },
        {
          "output_type": "stream",
          "name": "stdout",
          "text": [
            "Epoch - 10 Valid-Loss : 0.47132340259850025 Valid-Accuracy : 0.9\n",
            "Epoch - 11 Train-Loss : 0.1524590419139713\n",
            "Epoch - 11 Valid-Loss : 0.3597653173143044 Valid-Accuracy : 0.9125\n"
          ]
        },
        {
          "output_type": "stream",
          "name": "stderr",
          "text": [
            "\r 18%|█▊        | 11/60 [00:36<02:41,  3.29s/it]"
          ]
        },
        {
          "output_type": "stream",
          "name": "stdout",
          "text": [
            "Epoch - 12 Train-Loss : 0.07850270945054945\n"
          ]
        },
        {
          "output_type": "stream",
          "name": "stderr",
          "text": [
            "\r 20%|██        | 12/60 [00:39<02:34,  3.23s/it]"
          ]
        },
        {
          "output_type": "stream",
          "name": "stdout",
          "text": [
            "Epoch - 12 Valid-Loss : 0.5073887185601051 Valid-Accuracy : 0.8875\n",
            "Epoch - 13 Train-Loss : 0.1357509621535428\n"
          ]
        },
        {
          "output_type": "stream",
          "name": "stderr",
          "text": [
            "\r 22%|██▏       | 13/60 [00:42<02:29,  3.17s/it]"
          ]
        },
        {
          "output_type": "stream",
          "name": "stdout",
          "text": [
            "Epoch - 13 Valid-Loss : 0.4403694957261905 Valid-Accuracy : 0.9\n",
            "Epoch - 14 Train-Loss : 0.09209277614427265\n"
          ]
        },
        {
          "output_type": "stream",
          "name": "stderr",
          "text": [
            "\r 23%|██▎       | 14/60 [00:45<02:24,  3.14s/it]"
          ]
        },
        {
          "output_type": "stream",
          "name": "stdout",
          "text": [
            "Epoch - 14 Valid-Loss : 0.4356614749878645 Valid-Accuracy : 0.9125\n",
            "Epoch - 15 Train-Loss : 0.1026498535531573\n"
          ]
        },
        {
          "output_type": "stream",
          "name": "stderr",
          "text": [
            "\r 25%|██▌       | 15/60 [00:48<02:20,  3.12s/it]"
          ]
        },
        {
          "output_type": "stream",
          "name": "stdout",
          "text": [
            "Epoch - 15 Valid-Loss : 0.405149401089875 Valid-Accuracy : 0.9\n",
            "Epoch - 16 Train-Loss : 0.11481254351092503\n"
          ]
        },
        {
          "output_type": "stream",
          "name": "stderr",
          "text": [
            "\r 27%|██▋       | 16/60 [00:51<02:18,  3.14s/it]"
          ]
        },
        {
          "output_type": "stream",
          "name": "stdout",
          "text": [
            "Epoch - 16 Valid-Loss : 0.41779789350694047 Valid-Accuracy : 0.9125\n",
            "Epoch - 17 Train-Loss : 0.0600513655343093\n"
          ]
        },
        {
          "output_type": "stream",
          "name": "stderr",
          "text": [
            "\r 28%|██▊       | 17/60 [00:54<02:13,  3.11s/it]"
          ]
        },
        {
          "output_type": "stream",
          "name": "stdout",
          "text": [
            "Epoch - 17 Valid-Loss : 0.3451330568408594 Valid-Accuracy : 0.9125\n",
            "Epoch - 18 Train-Loss : 0.07624574157234747\n"
          ]
        },
        {
          "output_type": "stream",
          "name": "stderr",
          "text": [
            "\r 30%|███       | 18/60 [00:57<02:09,  3.09s/it]"
          ]
        },
        {
          "output_type": "stream",
          "name": "stdout",
          "text": [
            "Epoch - 18 Valid-Loss : 0.32887700599458186 Valid-Accuracy : 0.9\n",
            "Epoch - 19 Train-Loss : 0.08490346874459646\n"
          ]
        },
        {
          "output_type": "stream",
          "name": "stderr",
          "text": [
            "\r 32%|███▏      | 19/60 [01:01<02:06,  3.07s/it]"
          ]
        },
        {
          "output_type": "stream",
          "name": "stdout",
          "text": [
            "Epoch - 19 Valid-Loss : 0.33559043573914094 Valid-Accuracy : 0.9125\n",
            "Changed learning rate to 2e-06\n",
            "Epoch - 20 Train-Loss : 0.053961768513545394\n"
          ]
        },
        {
          "output_type": "stream",
          "name": "stderr",
          "text": [
            "\r 33%|███▎      | 20/60 [01:04<02:02,  3.07s/it]"
          ]
        },
        {
          "output_type": "stream",
          "name": "stdout",
          "text": [
            "Epoch - 20 Valid-Loss : 0.28461153064854444 Valid-Accuracy : 0.9125\n",
            "Epoch - 21 Train-Loss : 0.07277304080198518\n"
          ]
        },
        {
          "output_type": "stream",
          "name": "stderr",
          "text": [
            "\r 35%|███▌      | 21/60 [01:07<01:59,  3.06s/it]"
          ]
        },
        {
          "output_type": "stream",
          "name": "stdout",
          "text": [
            "Epoch - 21 Valid-Loss : 0.3327546211890876 Valid-Accuracy : 0.9\n",
            "Epoch - 22 Train-Loss : 0.0784123781195376\n"
          ]
        },
        {
          "output_type": "stream",
          "name": "stderr",
          "text": [
            "\r 37%|███▋      | 22/60 [01:10<01:55,  3.05s/it]"
          ]
        },
        {
          "output_type": "stream",
          "name": "stdout",
          "text": [
            "Epoch - 22 Valid-Loss : 0.30774451846518786 Valid-Accuracy : 0.9125\n",
            "Epoch - 23 Train-Loss : 0.08270317055867053\n"
          ]
        },
        {
          "output_type": "stream",
          "name": "stderr",
          "text": [
            "\r 38%|███▊      | 23/60 [01:13<01:52,  3.04s/it]"
          ]
        },
        {
          "output_type": "stream",
          "name": "stdout",
          "text": [
            "Epoch - 23 Valid-Loss : 0.31771729511528973 Valid-Accuracy : 0.8875\n",
            "Epoch - 24 Train-Loss : 0.05186661182378884\n"
          ]
        },
        {
          "output_type": "stream",
          "name": "stderr",
          "text": [
            "\r 40%|████      | 24/60 [01:16<01:49,  3.04s/it]"
          ]
        },
        {
          "output_type": "stream",
          "name": "stdout",
          "text": [
            "Epoch - 24 Valid-Loss : 0.32917273706407285 Valid-Accuracy : 0.8875\n",
            "Epoch - 25 Train-Loss : 0.09896168794948608\n"
          ]
        },
        {
          "output_type": "stream",
          "name": "stderr",
          "text": [
            "\r 42%|████▏     | 25/60 [01:19<01:46,  3.05s/it]"
          ]
        },
        {
          "output_type": "stream",
          "name": "stdout",
          "text": [
            "Epoch - 25 Valid-Loss : 0.32524594184942546 Valid-Accuracy : 0.9\n",
            "Epoch - 26 Train-Loss : 0.08201315251353662\n"
          ]
        },
        {
          "output_type": "stream",
          "name": "stderr",
          "text": [
            "\r 43%|████▎     | 26/60 [01:22<01:43,  3.04s/it]"
          ]
        },
        {
          "output_type": "stream",
          "name": "stdout",
          "text": [
            "Epoch - 26 Valid-Loss : 0.3141063135350123 Valid-Accuracy : 0.9\n",
            "Epoch - 27 Train-Loss : 0.06821502587699797\n"
          ]
        },
        {
          "output_type": "stream",
          "name": "stderr",
          "text": [
            "\r 45%|████▌     | 27/60 [01:25<01:40,  3.04s/it]"
          ]
        },
        {
          "output_type": "stream",
          "name": "stdout",
          "text": [
            "Epoch - 27 Valid-Loss : 0.33006327917100864 Valid-Accuracy : 0.9125\n",
            "Epoch - 28 Train-Loss : 0.08890703464276158\n"
          ]
        },
        {
          "output_type": "stream",
          "name": "stderr",
          "text": [
            "\r 47%|████▋     | 28/60 [01:28<01:37,  3.04s/it]"
          ]
        },
        {
          "output_type": "stream",
          "name": "stdout",
          "text": [
            "Epoch - 28 Valid-Loss : 0.32315858504152856 Valid-Accuracy : 0.9125\n",
            "Epoch - 29 Train-Loss : 0.0529734386887867\n"
          ]
        },
        {
          "output_type": "stream",
          "name": "stderr",
          "text": [
            "\r 48%|████▊     | 29/60 [01:31<01:34,  3.05s/it]"
          ]
        },
        {
          "output_type": "stream",
          "name": "stdout",
          "text": [
            "Epoch - 29 Valid-Loss : 0.27985365423373876 Valid-Accuracy : 0.9125\n",
            "Changed learning rate to 2.0000000000000002e-07\n",
            "Epoch - 30 Train-Loss : 0.05916313614870887\n"
          ]
        },
        {
          "output_type": "stream",
          "name": "stderr",
          "text": [
            "\r 50%|█████     | 30/60 [01:34<01:31,  3.05s/it]"
          ]
        },
        {
          "output_type": "stream",
          "name": "stdout",
          "text": [
            "Epoch - 30 Valid-Loss : 0.3153297195211053 Valid-Accuracy : 0.9125\n",
            "Epoch - 31 Train-Loss : 0.050341729997307995\n"
          ]
        },
        {
          "output_type": "stream",
          "name": "stderr",
          "text": [
            "\r 52%|█████▏    | 31/60 [01:37<01:28,  3.05s/it]"
          ]
        },
        {
          "output_type": "stream",
          "name": "stdout",
          "text": [
            "Epoch - 31 Valid-Loss : 0.3058010423381347 Valid-Accuracy : 0.9125\n",
            "Epoch - 32 Train-Loss : 0.07175994095450733\n"
          ]
        },
        {
          "output_type": "stream",
          "name": "stderr",
          "text": [
            "\r 53%|█████▎    | 32/60 [01:40<01:25,  3.04s/it]"
          ]
        },
        {
          "output_type": "stream",
          "name": "stdout",
          "text": [
            "Epoch - 32 Valid-Loss : 0.30776514944300287 Valid-Accuracy : 0.9125\n",
            "Epoch - 33 Train-Loss : 0.07431886568956543\n"
          ]
        },
        {
          "output_type": "stream",
          "name": "stderr",
          "text": [
            "\r 55%|█████▌    | 33/60 [01:43<01:22,  3.05s/it]"
          ]
        },
        {
          "output_type": "stream",
          "name": "stdout",
          "text": [
            "Epoch - 33 Valid-Loss : 0.34609628370963036 Valid-Accuracy : 0.9125\n",
            "Epoch - 34 Train-Loss : 0.11291970688616856\n"
          ]
        },
        {
          "output_type": "stream",
          "name": "stderr",
          "text": [
            "\r 57%|█████▋    | 34/60 [01:46<01:19,  3.05s/it]"
          ]
        },
        {
          "output_type": "stream",
          "name": "stdout",
          "text": [
            "Epoch - 34 Valid-Loss : 0.3039404526003636 Valid-Accuracy : 0.9125\n",
            "Epoch - 35 Train-Loss : 0.0645854647824308\n"
          ]
        },
        {
          "output_type": "stream",
          "name": "stderr",
          "text": [
            "\r 58%|█████▊    | 35/60 [01:49<01:16,  3.05s/it]"
          ]
        },
        {
          "output_type": "stream",
          "name": "stdout",
          "text": [
            "Epoch - 35 Valid-Loss : 0.2826264690142125 Valid-Accuracy : 0.9\n",
            "Epoch - 36 Train-Loss : 0.09746244681300595\n",
            "Epoch - 36 Valid-Loss : 0.26110253180377185 Valid-Accuracy : 0.925\n"
          ]
        },
        {
          "output_type": "stream",
          "name": "stderr",
          "text": [
            "\r 60%|██████    | 36/60 [01:53<01:14,  3.12s/it]"
          ]
        },
        {
          "output_type": "stream",
          "name": "stdout",
          "text": [
            "Epoch - 37 Train-Loss : 0.09614194503810722\n"
          ]
        },
        {
          "output_type": "stream",
          "name": "stderr",
          "text": [
            "\r 62%|██████▏   | 37/60 [01:56<01:11,  3.10s/it]"
          ]
        },
        {
          "output_type": "stream",
          "name": "stdout",
          "text": [
            "Epoch - 37 Valid-Loss : 0.2705773341527674 Valid-Accuracy : 0.9125\n",
            "Epoch - 38 Train-Loss : 0.04072977328032721\n"
          ]
        },
        {
          "output_type": "stream",
          "name": "stderr",
          "text": [
            "\r 63%|██████▎   | 38/60 [01:59<01:08,  3.09s/it]"
          ]
        },
        {
          "output_type": "stream",
          "name": "stdout",
          "text": [
            "Epoch - 38 Valid-Loss : 0.2966525930329226 Valid-Accuracy : 0.9125\n",
            "Epoch - 39 Train-Loss : 0.10065074184676633\n"
          ]
        },
        {
          "output_type": "stream",
          "name": "stderr",
          "text": [
            "\r 65%|██████▌   | 39/60 [02:02<01:04,  3.08s/it]"
          ]
        },
        {
          "output_type": "stream",
          "name": "stdout",
          "text": [
            "Epoch - 39 Valid-Loss : 0.28835026590386403 Valid-Accuracy : 0.9\n",
            "Changed learning rate to 2e-08\n",
            "Epoch - 40 Train-Loss : 0.08898830090183765\n"
          ]
        },
        {
          "output_type": "stream",
          "name": "stderr",
          "text": [
            "\r 67%|██████▋   | 40/60 [02:05<01:01,  3.08s/it]"
          ]
        },
        {
          "output_type": "stream",
          "name": "stdout",
          "text": [
            "Epoch - 40 Valid-Loss : 0.3203112410148606 Valid-Accuracy : 0.9\n",
            "Epoch - 41 Train-Loss : 0.12941490746452472\n"
          ]
        },
        {
          "output_type": "stream",
          "name": "stderr",
          "text": [
            "\r 68%|██████▊   | 41/60 [02:08<00:58,  3.07s/it]"
          ]
        },
        {
          "output_type": "stream",
          "name": "stdout",
          "text": [
            "Epoch - 41 Valid-Loss : 0.2918119803071022 Valid-Accuracy : 0.9125\n",
            "Epoch - 42 Train-Loss : 0.0673064446717035\n"
          ]
        },
        {
          "output_type": "stream",
          "name": "stderr",
          "text": [
            "\r 70%|███████   | 42/60 [02:11<00:55,  3.07s/it]"
          ]
        },
        {
          "output_type": "stream",
          "name": "stdout",
          "text": [
            "Epoch - 42 Valid-Loss : 0.30066843174863606 Valid-Accuracy : 0.9\n",
            "Epoch - 43 Train-Loss : 0.0373662521596998\n"
          ]
        },
        {
          "output_type": "stream",
          "name": "stderr",
          "text": [
            "\r 72%|███████▏  | 43/60 [02:14<00:52,  3.06s/it]"
          ]
        },
        {
          "output_type": "stream",
          "name": "stdout",
          "text": [
            "Epoch - 43 Valid-Loss : 0.2971767030787305 Valid-Accuracy : 0.9125\n",
            "Epoch - 44 Train-Loss : 0.06643206563894637\n"
          ]
        },
        {
          "output_type": "stream",
          "name": "stderr",
          "text": [
            "\r 73%|███████▎  | 44/60 [02:17<00:48,  3.06s/it]"
          ]
        },
        {
          "output_type": "stream",
          "name": "stdout",
          "text": [
            "Epoch - 44 Valid-Loss : 0.28650984015548603 Valid-Accuracy : 0.9125\n",
            "Epoch - 45 Train-Loss : 0.06529811677755788\n"
          ]
        },
        {
          "output_type": "stream",
          "name": "stderr",
          "text": [
            "\r 75%|███████▌  | 45/60 [02:20<00:45,  3.05s/it]"
          ]
        },
        {
          "output_type": "stream",
          "name": "stdout",
          "text": [
            "Epoch - 45 Valid-Loss : 0.3478465311927721 Valid-Accuracy : 0.9125\n",
            "Epoch - 46 Train-Loss : 0.05304760469007306\n"
          ]
        },
        {
          "output_type": "stream",
          "name": "stderr",
          "text": [
            "\r 77%|███████▋  | 46/60 [02:23<00:42,  3.06s/it]"
          ]
        },
        {
          "output_type": "stream",
          "name": "stdout",
          "text": [
            "Epoch - 46 Valid-Loss : 0.27670041177188975 Valid-Accuracy : 0.9125\n",
            "Epoch - 47 Train-Loss : 0.07640385163249448\n"
          ]
        },
        {
          "output_type": "stream",
          "name": "stderr",
          "text": [
            "\r 78%|███████▊  | 47/60 [02:26<00:39,  3.06s/it]"
          ]
        },
        {
          "output_type": "stream",
          "name": "stdout",
          "text": [
            "Epoch - 47 Valid-Loss : 0.2982303741155192 Valid-Accuracy : 0.9125\n",
            "Epoch - 48 Train-Loss : 0.0497146779904142\n"
          ]
        },
        {
          "output_type": "stream",
          "name": "stderr",
          "text": [
            "\r 80%|████████  | 48/60 [02:29<00:36,  3.06s/it]"
          ]
        },
        {
          "output_type": "stream",
          "name": "stdout",
          "text": [
            "Epoch - 48 Valid-Loss : 0.3052887156722136 Valid-Accuracy : 0.9125\n",
            "Epoch - 49 Train-Loss : 0.06614607619412709\n"
          ]
        },
        {
          "output_type": "stream",
          "name": "stderr",
          "text": [
            "\r 82%|████████▏ | 49/60 [02:32<00:33,  3.05s/it]"
          ]
        },
        {
          "output_type": "stream",
          "name": "stdout",
          "text": [
            "Epoch - 49 Valid-Loss : 0.3478330384590663 Valid-Accuracy : 0.9\n",
            "Changed learning rate to 2e-09\n",
            "Epoch - 50 Train-Loss : 0.11548753563256468\n"
          ]
        },
        {
          "output_type": "stream",
          "name": "stderr",
          "text": [
            "\r 83%|████████▎ | 50/60 [02:35<00:30,  3.05s/it]"
          ]
        },
        {
          "output_type": "stream",
          "name": "stdout",
          "text": [
            "Epoch - 50 Valid-Loss : 0.27282902158331124 Valid-Accuracy : 0.925\n",
            "Epoch - 51 Train-Loss : 0.0683144820126472\n"
          ]
        },
        {
          "output_type": "stream",
          "name": "stderr",
          "text": [
            "\r 85%|████████▌ | 51/60 [02:38<00:27,  3.05s/it]"
          ]
        },
        {
          "output_type": "stream",
          "name": "stdout",
          "text": [
            "Epoch - 51 Valid-Loss : 0.27840488476213066 Valid-Accuracy : 0.925\n",
            "Epoch - 52 Train-Loss : 0.04637540691473987\n"
          ]
        },
        {
          "output_type": "stream",
          "name": "stderr",
          "text": [
            "\r 87%|████████▋ | 52/60 [02:41<00:24,  3.05s/it]"
          ]
        },
        {
          "output_type": "stream",
          "name": "stdout",
          "text": [
            "Epoch - 52 Valid-Loss : 0.30498740714974704 Valid-Accuracy : 0.9\n",
            "Epoch - 53 Train-Loss : 0.06113415951258503\n"
          ]
        },
        {
          "output_type": "stream",
          "name": "stderr",
          "text": [
            "\r 88%|████████▊ | 53/60 [02:44<00:21,  3.05s/it]"
          ]
        },
        {
          "output_type": "stream",
          "name": "stdout",
          "text": [
            "Epoch - 53 Valid-Loss : 0.3212277528014965 Valid-Accuracy : 0.9\n",
            "Epoch - 54 Train-Loss : 0.04491859636618756\n"
          ]
        },
        {
          "output_type": "stream",
          "name": "stderr",
          "text": [
            "\r 90%|█████████ | 54/60 [02:47<00:18,  3.04s/it]"
          ]
        },
        {
          "output_type": "stream",
          "name": "stdout",
          "text": [
            "Epoch - 54 Valid-Loss : 0.3705269823083654 Valid-Accuracy : 0.9125\n",
            "Epoch - 55 Train-Loss : 0.06845070022973232\n"
          ]
        },
        {
          "output_type": "stream",
          "name": "stderr",
          "text": [
            "\r 92%|█████████▏| 55/60 [02:51<00:15,  3.05s/it]"
          ]
        },
        {
          "output_type": "stream",
          "name": "stdout",
          "text": [
            "Epoch - 55 Valid-Loss : 0.27481006209709447 Valid-Accuracy : 0.9\n",
            "Epoch - 56 Train-Loss : 0.05706266206689179\n"
          ]
        },
        {
          "output_type": "stream",
          "name": "stderr",
          "text": [
            "\r 93%|█████████▎| 56/60 [02:54<00:12,  3.05s/it]"
          ]
        },
        {
          "output_type": "stream",
          "name": "stdout",
          "text": [
            "Epoch - 56 Valid-Loss : 0.35583885335363447 Valid-Accuracy : 0.8875\n",
            "Epoch - 57 Train-Loss : 0.07904190128610936\n"
          ]
        },
        {
          "output_type": "stream",
          "name": "stderr",
          "text": [
            "\r 95%|█████████▌| 57/60 [02:57<00:09,  3.05s/it]"
          ]
        },
        {
          "output_type": "stream",
          "name": "stdout",
          "text": [
            "Epoch - 57 Valid-Loss : 0.3119036343035987 Valid-Accuracy : 0.9125\n",
            "Epoch - 58 Train-Loss : 0.03683344910095911\n"
          ]
        },
        {
          "output_type": "stream",
          "name": "stderr",
          "text": [
            "\r 97%|█████████▋| 58/60 [03:00<00:06,  3.04s/it]"
          ]
        },
        {
          "output_type": "stream",
          "name": "stdout",
          "text": [
            "Epoch - 58 Valid-Loss : 0.31239161122357473 Valid-Accuracy : 0.9\n",
            "Epoch - 59 Train-Loss : 0.07441552465897985\n"
          ]
        },
        {
          "output_type": "stream",
          "name": "stderr",
          "text": [
            "\r 98%|█████████▊| 59/60 [03:03<00:03,  3.04s/it]"
          ]
        },
        {
          "output_type": "stream",
          "name": "stdout",
          "text": [
            "Epoch - 59 Valid-Loss : 0.35749408696137835 Valid-Accuracy : 0.8875\n",
            "Changed learning rate to 2e-10\n",
            "Epoch - 60 Train-Loss : 0.055019253664067944\n"
          ]
        },
        {
          "output_type": "stream",
          "name": "stderr",
          "text": [
            "100%|██████████| 60/60 [03:06<00:00,  3.10s/it]"
          ]
        },
        {
          "output_type": "stream",
          "name": "stdout",
          "text": [
            "Epoch - 60 Valid-Loss : 0.32450849846936763 Valid-Accuracy : 0.9\n"
          ]
        },
        {
          "output_type": "stream",
          "name": "stderr",
          "text": [
            "\n"
          ]
        }
      ]
    },
    {
      "cell_type": "code",
      "source": [
        "model_res.eval()\n",
        "pr = model_res.forward(spec_t.reshape(1,1,*spec_t.shape))\n",
        "print(pr)\n",
        "\n",
        "ind = pr.argmax(dim=1).cpu().detach().numpy().ravel()[0]\n",
        "print(indtocat[ind])"
      ],
      "metadata": {
        "colab": {
          "base_uri": "https://localhost:8080/"
        },
        "id": "BgflG1R76FVR",
        "outputId": "eae3186d-3c18-43fa-ec10-a19f81c86bca"
      },
      "execution_count": null,
      "outputs": [
        {
          "output_type": "stream",
          "name": "stdout",
          "text": [
            "tensor([[-0.9925, -2.2728, -1.4880,  0.4746, 11.7686, -0.2666, -2.7350, -1.9204,\n",
            "         -2.0594, -0.2178]], device='cuda:0', grad_fn=<AddmmBackward0>)\n",
            "frog\n"
          ]
        }
      ]
    },
    {
      "cell_type": "markdown",
      "source": [
        "Check paramter number for both models"
      ],
      "metadata": {
        "id": "tbnoKiQ1Ci33"
      }
    },
    {
      "cell_type": "code",
      "source": [
        "# for the custom model\n",
        "total_params = sum(\n",
        "\tparam.numel() for param in model_.parameters()\n",
        ")\n",
        "trainable_params = sum(\n",
        "\tp.numel() for p in model_.parameters() if p.requires_grad\n",
        ")\n",
        "print(\"-----Our model------\")\n",
        "print(\"Total parameter number: \", total_params)\n",
        "print(\"Trainable parameter number: \", trainable_params)\n",
        "\n",
        "# for the resnet model\n",
        "total_params = sum(\n",
        "\tparam.numel() for param in model_res.parameters()\n",
        ")\n",
        "trainable_params = sum(\n",
        "\tp.numel() for p in model_res.parameters() if p.requires_grad\n",
        ")\n",
        "\n",
        "print(\"-----Resnet model------\")\n",
        "print(\"Total parameter number: \", total_params)\n",
        "print(\"Trainable parameter number: \", trainable_params)\n",
        "\n"
      ],
      "metadata": {
        "colab": {
          "base_uri": "https://localhost:8080/"
        },
        "id": "sOCZhDZ08NMO",
        "outputId": "4e8e2ade-a72b-40b9-d8a0-baf2056db3aa"
      },
      "execution_count": null,
      "outputs": [
        {
          "output_type": "stream",
          "name": "stdout",
          "text": [
            "-----Our model------\n",
            "Total parameter number:  109723110\n",
            "Trainable parameter number:  109723110\n",
            "-----Resnet model------\n",
            "Total parameter number:  21283530\n",
            "Trainable parameter number:  21283530\n"
          ]
        }
      ]
    },
    {
      "cell_type": "code",
      "source": [],
      "metadata": {
        "id": "HCg8dF8ODIZD"
      },
      "execution_count": null,
      "outputs": []
    }
  ]
}
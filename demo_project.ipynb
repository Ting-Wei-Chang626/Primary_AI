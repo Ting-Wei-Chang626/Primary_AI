{
  "nbformat": 4,
  "nbformat_minor": 0,
  "metadata": {
    "colab": {
      "provenance": [],
      "gpuType": "T4",
      "authorship_tag": "ABX9TyO80FaDnaRJTJFZOxlL9bks",
      "include_colab_link": true
    },
    "kernelspec": {
      "name": "python3",
      "display_name": "Python 3"
    },
    "language_info": {
      "name": "python"
    },
    "accelerator": "GPU"
  },
  "cells": [
    {
      "cell_type": "markdown",
      "metadata": {
        "id": "view-in-github",
        "colab_type": "text"
      },
      "source": [
        "<a href=\"https://colab.research.google.com/github/Ting-Wei-Chang626/Primary_AI/blob/main/demo_project.ipynb\" target=\"_parent\"><img src=\"https://colab.research.google.com/assets/colab-badge.svg\" alt=\"Open In Colab\"/></a>"
      ]
    },
    {
      "cell_type": "markdown",
      "source": [
        "**Animal sound classification**"
      ],
      "metadata": {
        "id": "7UK0tH1st1F4"
      }
    },
    {
      "cell_type": "markdown",
      "source": [
        "Load neccessary module"
      ],
      "metadata": {
        "id": "uk93qyfctvPR"
      }
    },
    {
      "cell_type": "code",
      "execution_count": 20,
      "metadata": {
        "id": "_K_j8bmLtrma"
      },
      "outputs": [],
      "source": [
        "import pandas as pd\n",
        "import librosa\n",
        "import numpy as np\n",
        "import matplotlib.pyplot as plt\n",
        "import librosa.display\n",
        "import torch\n",
        "import torch.nn as nn\n",
        "import torch.nn.functional as F\n",
        "import torch.optim as optim\n",
        "from torch.utils.data import Dataset, DataLoader\n",
        "from tqdm import tqdm\n",
        "import os"
      ]
    },
    {
      "cell_type": "markdown",
      "source": [
        "Transform audio to images"
      ],
      "metadata": {
        "id": "tfI8YX_pyha5"
      }
    },
    {
      "cell_type": "code",
      "source": [
        "def get_melspectrogram_db(file_path, sr=None, n_fft=2048, hop_length=512, n_mels=128, fmin=20, fmax=8300, top_db=80):\n",
        "    wav,sr = librosa.load(file_path,sr=sr)\n",
        "    if wav.shape[0]<5*sr:\n",
        "        wav=np.pad(wav,int(np.ceil((5*sr-wav.shape[0])/2)),mode='reflect')\n",
        "    else:\n",
        "        wav=wav[:5*sr]\n",
        "    spec=librosa.feature.melspectrogram(y=wav, sr=sr, n_fft=n_fft, hop_length=hop_length, n_mels=n_mels,fmin=fmin,fmax=fmax)\n",
        "    spec_db=librosa.power_to_db(spec,top_db=top_db)\n",
        "\n",
        "    return spec_db\n",
        "\n",
        "\n",
        "def spec_to_image(spec, eps=1e-6):\n",
        "    mean = spec.mean()\n",
        "    std = spec.std()\n",
        "    spec_norm = (spec - mean) / (std + eps)\n",
        "    spec_min, spec_max = spec_norm.min(), spec_norm.max()\n",
        "    spec_scaled = 255 * (spec_norm - spec_min) / (spec_max - spec_min)\n",
        "    spec_scaled = spec_scaled.astype(np.uint8)\n",
        "\n",
        "    return spec_scaled"
      ],
      "metadata": {
        "id": "fqqkiFVE_Ed5"
      },
      "execution_count": 21,
      "outputs": []
    },
    {
      "cell_type": "markdown",
      "source": [
        "mount google drive"
      ],
      "metadata": {
        "id": "bqoaisYdy87W"
      }
    },
    {
      "cell_type": "code",
      "source": [
        "from google.colab import drive\n",
        "drive.mount('/content/drive')"
      ],
      "metadata": {
        "colab": {
          "base_uri": "https://localhost:8080/"
        },
        "id": "4Bi02vGAy_UB",
        "outputId": "923b62e1-dffc-41a9-c7d6-338c4be34a87"
      },
      "execution_count": 22,
      "outputs": [
        {
          "output_type": "stream",
          "name": "stdout",
          "text": [
            "Drive already mounted at /content/drive; to attempt to forcibly remount, call drive.mount(\"/content/drive\", force_remount=True).\n"
          ]
        }
      ]
    },
    {
      "cell_type": "markdown",
      "source": [
        "Create ESC50 data format"
      ],
      "metadata": {
        "id": "dXoFCZJlWjf8"
      }
    },
    {
      "cell_type": "code",
      "source": [
        "class ESC50Data(Dataset):\n",
        "    def __init__(self, base, df, in_col, out_col):\n",
        "        self.df = df\n",
        "        self.data = []\n",
        "        self.labels = []\n",
        "        self.c2i={}\n",
        "        self.i2c={}\n",
        "        self.categories = sorted(df[out_col].unique())\n",
        "        for i, category in enumerate(self.categories):\n",
        "            self.c2i[category]=i\n",
        "            self.i2c[i]=category\n",
        "\n",
        "        for ind in tqdm(range(len(df))):\n",
        "            row = df.iloc[ind]\n",
        "            file_path = os.path.join(base,row[in_col])\n",
        "            self.data.append(spec_to_image(get_melspectrogram_db(file_path))[np.newaxis,...])\n",
        "            self.labels.append(self.c2i[row['category']])\n",
        "\n",
        "    def __len__(self):\n",
        "        return len(self.data)\n",
        "\n",
        "    def __getitem__(self, idx):\n",
        "        return self.data[idx], self.labels[idx]"
      ],
      "metadata": {
        "id": "79awFoyyWst_"
      },
      "execution_count": 23,
      "outputs": []
    },
    {
      "cell_type": "markdown",
      "source": [
        "split dataset into training and validation"
      ],
      "metadata": {
        "id": "6qjCbAw1yp5Z"
      }
    },
    {
      "cell_type": "code",
      "source": [
        "df = pd.read_csv('/content/drive/MyDrive/NTUCE_AI_worshop_0629/ESC-50/meta/esc50_animal.csv')\n",
        "df.head()\n",
        "\n",
        "train = df[df['fold']!=5]\n",
        "valid = df[df['fold']==5]\n",
        "\n",
        "train_data = ESC50Data('/content/drive/MyDrive/NTUCE_AI_worshop_0629/ESC-50/audio', train, 'filename', 'category')\n",
        "valid_data = ESC50Data('/content/drive/MyDrive/NTUCE_AI_worshop_0629/ESC-50/audio', valid, 'filename', 'category')\n",
        "train_loader = DataLoader(train_data, batch_size=4, shuffle=True)\n",
        "valid_loader = DataLoader(valid_data, batch_size=4, shuffle=True)\n"
      ],
      "metadata": {
        "colab": {
          "base_uri": "https://localhost:8080/"
        },
        "id": "GqIeTJJjyzgX",
        "outputId": "6b9e0e55-ab94-4720-ffab-9d5d812b5850"
      },
      "execution_count": 24,
      "outputs": [
        {
          "output_type": "stream",
          "name": "stderr",
          "text": [
            "100%|██████████| 320/320 [00:10<00:00, 30.52it/s]\n",
            "100%|██████████| 80/80 [00:03<00:00, 26.57it/s]\n"
          ]
        }
      ]
    },
    {
      "cell_type": "code",
      "source": [
        "import pickle\n",
        "with open('indtocat.pkl','wb') as f:\n",
        "  pickle.dump(train_data.i2c, f)"
      ],
      "metadata": {
        "id": "8k3MFkYd4Hx9"
      },
      "execution_count": 25,
      "outputs": []
    },
    {
      "cell_type": "markdown",
      "source": [
        "Create the Convolutional Neural Network"
      ],
      "metadata": {
        "id": "NrFGRJdY_f_H"
      }
    },
    {
      "cell_type": "code",
      "source": [
        "import torch.nn as nn\n",
        "import torch.nn.functional as F\n",
        "\n",
        "class ESC50Model(nn.Module):\n",
        "    def __init__(self, input_shape, batch_size=16, num_cats=10):\n",
        "        super().__init__()\n",
        "        self.conv1 = nn.Conv2d(1, 32, kernel_size = 3, stride=1, padding=1)\n",
        "        self.bn1 = nn.BatchNorm2d(32)\n",
        "        self.conv2 = nn.Conv2d(32, 32, kernel_size = 3, stride=1, padding=1)\n",
        "        self.bn2 = nn.BatchNorm2d(32)\n",
        "        self.conv3 = nn.Conv2d(32, 64, kernel_size=3, stride=1, padding=1)\n",
        "        self.bn3 = nn.BatchNorm2d(64)\n",
        "        self.conv4 = nn.Conv2d(64, 64, kernel_size=3, stride=1, padding=1)\n",
        "        self.bn4 = nn.BatchNorm2d(64)\n",
        "        self.conv5 = nn.Conv2d(64, 128, kernel_size=3, stride=1, padding=1)\n",
        "        self.bn5 = nn.BatchNorm2d(128)\n",
        "        self.conv6 = nn.Conv2d(128, 128, kernel_size=3, stride=1, padding=1)\n",
        "        self.bn6 = nn.BatchNorm2d(128)\n",
        "        self.conv7 = nn.Conv2d(128, 256, kernel_size=3, stride=1, padding=1)\n",
        "        self.bn7 = nn.BatchNorm2d(256)\n",
        "        self.conv8 = nn.Conv2d(256, 256, kernel_size=3, stride=1, padding=1)\n",
        "        self.bn8 = nn.BatchNorm2d(256)\n",
        "        self.dense1 = nn.Linear(256*(((input_shape[1]//2)//2)//2)*(((input_shape[2]//2)//2)//2),500)\n",
        "        self.dropout = nn.Dropout(0.5)\n",
        "        self.dense2 = nn.Linear(500, num_cats)\n",
        "    def forward(self, x):\n",
        "        x = self.conv1(x)\n",
        "        x = F.relu(self.bn1(x))\n",
        "        x = self.conv2(x)\n",
        "        x = F.relu(self.bn2(x))\n",
        "        x = F.max_pool2d(x, kernel_size=2)\n",
        "        x = self.conv3(x)\n",
        "        x = F.relu(self.bn3(x))\n",
        "        x = self.conv4(x)\n",
        "        x = F.relu(self.bn4(x))\n",
        "        x = F.max_pool2d(x, kernel_size=2)\n",
        "        x = self.conv5(x)\n",
        "        x = F.relu(self.bn5(x))\n",
        "        x = self.conv6(x)\n",
        "        x = F.relu(self.bn6(x))\n",
        "        x = F.max_pool2d(x, kernel_size=2)\n",
        "        x = self.conv7(x)\n",
        "        x = F.relu(self.bn7(x))\n",
        "        x = self.conv8(x)\n",
        "        x = F.relu(self.bn8(x))\n",
        "        x = x.view(x.size(0),-1)\n",
        "        x = F.relu(self.dense1(x))\n",
        "        x = self.dropout(x)\n",
        "        x = self.dense2(x)\n",
        "        return x"
      ],
      "metadata": {
        "id": "eCduu6Zv_Eid"
      },
      "execution_count": 26,
      "outputs": []
    },
    {
      "cell_type": "code",
      "source": [
        "if torch.cuda.is_available():\n",
        "    device=torch.device('cuda:0')\n",
        "else:\n",
        "    device=torch.device('cpu')\n",
        "\n",
        "model = ESC50Model(input_shape=(1,128,431), num_cats=10).to(device)"
      ],
      "metadata": {
        "id": "XQ70xgiLzZH-"
      },
      "execution_count": 27,
      "outputs": []
    },
    {
      "cell_type": "code",
      "source": [
        "learning_rate = 2e-4\n",
        "optimizer = optim.Adam(model.parameters(), lr=learning_rate)\n",
        "epochs = 60\n",
        "loss_fn = nn.CrossEntropyLoss()\n",
        "train_losses=[]\n",
        "valid_losses=[]"
      ],
      "metadata": {
        "id": "3gtYoDwTzcMo"
      },
      "execution_count": 28,
      "outputs": []
    },
    {
      "cell_type": "markdown",
      "source": [
        "Declare training process"
      ],
      "metadata": {
        "id": "4O9_5L2YW_gH"
      }
    },
    {
      "cell_type": "code",
      "source": [
        "def setlr(optimizer, lr):\n",
        "    for param_group in optimizer.param_groups:\n",
        "        param_group['lr'] = lr\n",
        "    return optimizer\n",
        "\n",
        "\n",
        "def lr_decay(optimizer, epoch):\n",
        "    if epoch%10==0:\n",
        "        new_lr = learning_rate / (10**(epoch//10))\n",
        "        optimizer = setlr(optimizer, new_lr)\n",
        "        print(f'Changed learning rate to {new_lr}')\n",
        "    return optimizer\n",
        "\n",
        "def train(model, loss_fn, train_loader, valid_loader, epochs, optimizer, train_losses, valid_losses, change_lr=None):\n",
        "    for epoch in tqdm(range(1,epochs+1)):\n",
        "        model.train()\n",
        "        batch_losses=[]\n",
        "\n",
        "        if change_lr:\n",
        "            optimizer = change_lr(optimizer, epoch)\n",
        "\n",
        "        for i, data in enumerate(train_loader):\n",
        "            x, y = data\n",
        "            # optimizer.zero_grad()\n",
        "            x = x.to(device, dtype=torch.float32)\n",
        "            y = y.to(device, dtype=torch.long)\n",
        "            y_hat = model(x)\n",
        "            loss = loss_fn(y_hat, y)\n",
        "            loss.backward()\n",
        "            batch_losses.append(loss.item())\n",
        "\n",
        "            if i%5==0:\n",
        "            # if True:\n",
        "                optimizer.step()        # update parameters of net\n",
        "                optimizer.zero_grad()\n",
        "\n",
        "        train_losses.append(batch_losses)\n",
        "        print(f'Epoch - {epoch} Train-Loss : {np.mean(train_losses[-1])}')\n",
        "        model.eval()\n",
        "        batch_losses=[]\n",
        "        trace_y = []\n",
        "        trace_yhat = []\n",
        "\n",
        "        for i, data in enumerate(valid_loader):\n",
        "            x, y = data\n",
        "            x = x.to(device, dtype=torch.float32)\n",
        "            y = y.to(device, dtype=torch.long)\n",
        "            y_hat = model(x)\n",
        "            loss = loss_fn(y_hat, y)\n",
        "            trace_y.append(y.cpu().detach().numpy())\n",
        "            trace_yhat.append(y_hat.cpu().detach().numpy())\n",
        "            batch_losses.append(loss.item())\n",
        "\n",
        "        valid_losses.append(batch_losses)\n",
        "        trace_y = np.concatenate(trace_y)\n",
        "        trace_yhat = np.concatenate(trace_yhat)\n",
        "        accuracy = np.mean(trace_yhat.argmax(axis=1)==trace_y)\n",
        "        print(f'Epoch - {epoch} Valid-Loss : {np.mean(valid_losses[-1])} Valid-Accuracy : {accuracy}')\n",
        "    return model"
      ],
      "metadata": {
        "id": "VhLrR_H7W-yM"
      },
      "execution_count": 29,
      "outputs": []
    },
    {
      "cell_type": "markdown",
      "source": [
        "Start training"
      ],
      "metadata": {
        "id": "TkGC_LFtzm0a"
      }
    },
    {
      "cell_type": "code",
      "source": [
        "model_ = train(model, loss_fn, train_loader, valid_loader, epochs, optimizer, train_losses, valid_losses, lr_decay)\n",
        "\n",
        "torch.save(model_, \"/content/drive/MyDrive/NTUCE_AI_worshop_0629/demo.pth\")"
      ],
      "metadata": {
        "colab": {
          "base_uri": "https://localhost:8080/"
        },
        "id": "UdEzrFtfzljM",
        "outputId": "476db54f-9c7a-44e3-cd0c-992a8f31e2fc"
      },
      "execution_count": 30,
      "outputs": [
        {
          "output_type": "stream",
          "name": "stderr",
          "text": [
            "\r  0%|          | 0/60 [00:00<?, ?it/s]"
          ]
        },
        {
          "output_type": "stream",
          "name": "stdout",
          "text": [
            "Epoch - 1 Train-Loss : 8.493129592816558\n"
          ]
        },
        {
          "output_type": "stream",
          "name": "stderr",
          "text": [
            "\r  2%|▏         | 1/60 [00:05<04:58,  5.06s/it]"
          ]
        },
        {
          "output_type": "stream",
          "name": "stdout",
          "text": [
            "Epoch - 1 Valid-Loss : 1.9350367470644414 Valid-Accuracy : 0.4125\n",
            "Epoch - 2 Train-Loss : 1.7215860944706947\n"
          ]
        },
        {
          "output_type": "stream",
          "name": "stderr",
          "text": [
            "\r  3%|▎         | 2/60 [00:10<04:52,  5.04s/it]"
          ]
        },
        {
          "output_type": "stream",
          "name": "stdout",
          "text": [
            "Epoch - 2 Valid-Loss : 1.4349197069881483 Valid-Accuracy : 0.5375\n",
            "Epoch - 3 Train-Loss : 1.1806510666850953\n"
          ]
        },
        {
          "output_type": "stream",
          "name": "stderr",
          "text": [
            "\r  5%|▌         | 3/60 [00:15<04:47,  5.05s/it]"
          ]
        },
        {
          "output_type": "stream",
          "name": "stdout",
          "text": [
            "Epoch - 3 Valid-Loss : 1.2770167865906843 Valid-Accuracy : 0.575\n",
            "Epoch - 4 Train-Loss : 0.8439261434134095\n"
          ]
        },
        {
          "output_type": "stream",
          "name": "stderr",
          "text": [
            "\r  7%|▋         | 4/60 [00:20<04:42,  5.04s/it]"
          ]
        },
        {
          "output_type": "stream",
          "name": "stdout",
          "text": [
            "Epoch - 4 Valid-Loss : 1.3974287456949241 Valid-Accuracy : 0.6\n",
            "Epoch - 5 Train-Loss : 0.7353332173100625\n"
          ]
        },
        {
          "output_type": "stream",
          "name": "stderr",
          "text": [
            "\r  8%|▊         | 5/60 [00:25<04:37,  5.04s/it]"
          ]
        },
        {
          "output_type": "stream",
          "name": "stdout",
          "text": [
            "Epoch - 5 Valid-Loss : 1.3160641859617954 Valid-Accuracy : 0.575\n",
            "Epoch - 6 Train-Loss : 0.5723331836865327\n"
          ]
        },
        {
          "output_type": "stream",
          "name": "stderr",
          "text": [
            "\r 10%|█         | 6/60 [00:30<04:32,  5.05s/it]"
          ]
        },
        {
          "output_type": "stream",
          "name": "stdout",
          "text": [
            "Epoch - 6 Valid-Loss : 1.2420763378759148 Valid-Accuracy : 0.6125\n",
            "Epoch - 7 Train-Loss : 0.5088089760120397\n"
          ]
        },
        {
          "output_type": "stream",
          "name": "stderr",
          "text": [
            "\r 12%|█▏        | 7/60 [00:35<04:27,  5.05s/it]"
          ]
        },
        {
          "output_type": "stream",
          "name": "stdout",
          "text": [
            "Epoch - 7 Valid-Loss : 1.354181602411336 Valid-Accuracy : 0.625\n",
            "Epoch - 8 Train-Loss : 0.5056536415680398\n"
          ]
        },
        {
          "output_type": "stream",
          "name": "stderr",
          "text": [
            "\r 13%|█▎        | 8/60 [00:40<04:23,  5.06s/it]"
          ]
        },
        {
          "output_type": "stream",
          "name": "stdout",
          "text": [
            "Epoch - 8 Valid-Loss : 1.3374292193664588 Valid-Accuracy : 0.625\n",
            "Epoch - 9 Train-Loss : 0.4407160873066346\n"
          ]
        },
        {
          "output_type": "stream",
          "name": "stderr",
          "text": [
            "\r 15%|█▌        | 9/60 [00:45<04:18,  5.06s/it]"
          ]
        },
        {
          "output_type": "stream",
          "name": "stdout",
          "text": [
            "Epoch - 9 Valid-Loss : 1.7929820910048675 Valid-Accuracy : 0.6125\n",
            "Changed learning rate to 2e-05\n",
            "Epoch - 10 Train-Loss : 0.36791622847663863\n"
          ]
        },
        {
          "output_type": "stream",
          "name": "stderr",
          "text": [
            "\r 17%|█▋        | 10/60 [00:50<04:13,  5.06s/it]"
          ]
        },
        {
          "output_type": "stream",
          "name": "stdout",
          "text": [
            "Epoch - 10 Valid-Loss : 1.483306749721669 Valid-Accuracy : 0.625\n",
            "Epoch - 11 Train-Loss : 0.2533161813460934\n"
          ]
        },
        {
          "output_type": "stream",
          "name": "stderr",
          "text": [
            "\r 18%|█▊        | 11/60 [00:55<04:08,  5.06s/it]"
          ]
        },
        {
          "output_type": "stream",
          "name": "stdout",
          "text": [
            "Epoch - 11 Valid-Loss : 1.323087801359361 Valid-Accuracy : 0.6\n",
            "Epoch - 12 Train-Loss : 0.21424184123293344\n"
          ]
        },
        {
          "output_type": "stream",
          "name": "stderr",
          "text": [
            "\r 20%|██        | 12/60 [01:00<04:02,  5.06s/it]"
          ]
        },
        {
          "output_type": "stream",
          "name": "stdout",
          "text": [
            "Epoch - 12 Valid-Loss : 1.266890344401554 Valid-Accuracy : 0.6625\n",
            "Epoch - 13 Train-Loss : 0.20947291978456378\n"
          ]
        },
        {
          "output_type": "stream",
          "name": "stderr",
          "text": [
            "\r 22%|██▏       | 13/60 [01:05<03:57,  5.06s/it]"
          ]
        },
        {
          "output_type": "stream",
          "name": "stdout",
          "text": [
            "Epoch - 13 Valid-Loss : 1.2149267314474854 Valid-Accuracy : 0.7\n",
            "Epoch - 14 Train-Loss : 0.1710885206892602\n"
          ]
        },
        {
          "output_type": "stream",
          "name": "stderr",
          "text": [
            "\r 23%|██▎       | 14/60 [01:10<03:52,  5.06s/it]"
          ]
        },
        {
          "output_type": "stream",
          "name": "stdout",
          "text": [
            "Epoch - 14 Valid-Loss : 1.2172850457311142 Valid-Accuracy : 0.65\n",
            "Epoch - 15 Train-Loss : 0.1489089777305317\n"
          ]
        },
        {
          "output_type": "stream",
          "name": "stderr",
          "text": [
            "\r 25%|██▌       | 15/60 [01:15<03:47,  5.05s/it]"
          ]
        },
        {
          "output_type": "stream",
          "name": "stdout",
          "text": [
            "Epoch - 15 Valid-Loss : 1.2867649042644131 Valid-Accuracy : 0.6375\n",
            "Epoch - 16 Train-Loss : 0.1334990657319924\n"
          ]
        },
        {
          "output_type": "stream",
          "name": "stderr",
          "text": [
            "\r 27%|██▋       | 16/60 [01:20<03:42,  5.05s/it]"
          ]
        },
        {
          "output_type": "stream",
          "name": "stdout",
          "text": [
            "Epoch - 16 Valid-Loss : 1.3229306477043792 Valid-Accuracy : 0.6375\n",
            "Epoch - 17 Train-Loss : 0.1278062480861802\n"
          ]
        },
        {
          "output_type": "stream",
          "name": "stderr",
          "text": [
            "\r 28%|██▊       | 17/60 [01:25<03:37,  5.06s/it]"
          ]
        },
        {
          "output_type": "stream",
          "name": "stdout",
          "text": [
            "Epoch - 17 Valid-Loss : 1.2766155139186595 Valid-Accuracy : 0.6375\n",
            "Epoch - 18 Train-Loss : 0.11373467972040867\n"
          ]
        },
        {
          "output_type": "stream",
          "name": "stderr",
          "text": [
            "\r 30%|███       | 18/60 [01:31<03:34,  5.12s/it]"
          ]
        },
        {
          "output_type": "stream",
          "name": "stdout",
          "text": [
            "Epoch - 18 Valid-Loss : 1.362642686048639 Valid-Accuracy : 0.6375\n",
            "Epoch - 19 Train-Loss : 0.12543111271448523\n"
          ]
        },
        {
          "output_type": "stream",
          "name": "stderr",
          "text": [
            "\r 32%|███▏      | 19/60 [01:36<03:28,  5.10s/it]"
          ]
        },
        {
          "output_type": "stream",
          "name": "stdout",
          "text": [
            "Epoch - 19 Valid-Loss : 1.359461616347835 Valid-Accuracy : 0.6625\n",
            "Changed learning rate to 2e-06\n",
            "Epoch - 20 Train-Loss : 0.12358506129994566\n"
          ]
        },
        {
          "output_type": "stream",
          "name": "stderr",
          "text": [
            "\r 33%|███▎      | 20/60 [01:41<03:23,  5.08s/it]"
          ]
        },
        {
          "output_type": "stream",
          "name": "stdout",
          "text": [
            "Epoch - 20 Valid-Loss : 1.3216056285050855 Valid-Accuracy : 0.6625\n",
            "Epoch - 21 Train-Loss : 0.11399698858657992\n"
          ]
        },
        {
          "output_type": "stream",
          "name": "stderr",
          "text": [
            "\r 35%|███▌      | 21/60 [01:46<03:17,  5.07s/it]"
          ]
        },
        {
          "output_type": "stream",
          "name": "stdout",
          "text": [
            "Epoch - 21 Valid-Loss : 1.2377858286876289 Valid-Accuracy : 0.6875\n",
            "Epoch - 22 Train-Loss : 0.09444553621974308\n"
          ]
        },
        {
          "output_type": "stream",
          "name": "stderr",
          "text": [
            "\r 37%|███▋      | 22/60 [01:51<03:12,  5.07s/it]"
          ]
        },
        {
          "output_type": "stream",
          "name": "stdout",
          "text": [
            "Epoch - 22 Valid-Loss : 1.293869469408446 Valid-Accuracy : 0.7\n",
            "Epoch - 23 Train-Loss : 0.11624523916228284\n"
          ]
        },
        {
          "output_type": "stream",
          "name": "stderr",
          "text": [
            "\r 38%|███▊      | 23/60 [01:56<03:07,  5.06s/it]"
          ]
        },
        {
          "output_type": "stream",
          "name": "stdout",
          "text": [
            "Epoch - 23 Valid-Loss : 1.3487008146817119 Valid-Accuracy : 0.6875\n",
            "Epoch - 24 Train-Loss : 0.08130658948346925\n"
          ]
        },
        {
          "output_type": "stream",
          "name": "stderr",
          "text": [
            "\r 40%|████      | 24/60 [02:01<03:02,  5.07s/it]"
          ]
        },
        {
          "output_type": "stream",
          "name": "stdout",
          "text": [
            "Epoch - 24 Valid-Loss : 1.26744590160597 Valid-Accuracy : 0.6875\n",
            "Epoch - 25 Train-Loss : 0.10231525938816828\n"
          ]
        },
        {
          "output_type": "stream",
          "name": "stderr",
          "text": [
            "\r 42%|████▏     | 25/60 [02:06<02:57,  5.06s/it]"
          ]
        },
        {
          "output_type": "stream",
          "name": "stdout",
          "text": [
            "Epoch - 25 Valid-Loss : 1.2770140046879532 Valid-Accuracy : 0.675\n",
            "Epoch - 26 Train-Loss : 0.0844742519351099\n"
          ]
        },
        {
          "output_type": "stream",
          "name": "stderr",
          "text": [
            "\r 43%|████▎     | 26/60 [02:11<02:51,  5.06s/it]"
          ]
        },
        {
          "output_type": "stream",
          "name": "stdout",
          "text": [
            "Epoch - 26 Valid-Loss : 1.3642615495660722 Valid-Accuracy : 0.7125\n",
            "Epoch - 27 Train-Loss : 0.08858760368479748\n"
          ]
        },
        {
          "output_type": "stream",
          "name": "stderr",
          "text": [
            "\r 45%|████▌     | 27/60 [02:16<02:47,  5.06s/it]"
          ]
        },
        {
          "output_type": "stream",
          "name": "stdout",
          "text": [
            "Epoch - 27 Valid-Loss : 1.3307039232768147 Valid-Accuracy : 0.6625\n",
            "Epoch - 28 Train-Loss : 0.09324125449265282\n"
          ]
        },
        {
          "output_type": "stream",
          "name": "stderr",
          "text": [
            "\r 47%|████▋     | 28/60 [02:21<02:41,  5.06s/it]"
          ]
        },
        {
          "output_type": "stream",
          "name": "stdout",
          "text": [
            "Epoch - 28 Valid-Loss : 1.2790608533300656 Valid-Accuracy : 0.6875\n",
            "Epoch - 29 Train-Loss : 0.10022753975508322\n"
          ]
        },
        {
          "output_type": "stream",
          "name": "stderr",
          "text": [
            "\r 48%|████▊     | 29/60 [02:26<02:36,  5.05s/it]"
          ]
        },
        {
          "output_type": "stream",
          "name": "stdout",
          "text": [
            "Epoch - 29 Valid-Loss : 1.3576593297859005 Valid-Accuracy : 0.6375\n",
            "Changed learning rate to 2.0000000000000002e-07\n",
            "Epoch - 30 Train-Loss : 0.09842776331800271\n"
          ]
        },
        {
          "output_type": "stream",
          "name": "stderr",
          "text": [
            "\r 50%|█████     | 30/60 [02:31<02:31,  5.06s/it]"
          ]
        },
        {
          "output_type": "stream",
          "name": "stdout",
          "text": [
            "Epoch - 30 Valid-Loss : 1.3131596347391223 Valid-Accuracy : 0.65\n",
            "Epoch - 31 Train-Loss : 0.10826199801389284\n"
          ]
        },
        {
          "output_type": "stream",
          "name": "stderr",
          "text": [
            "\r 52%|█████▏    | 31/60 [02:37<02:28,  5.10s/it]"
          ]
        },
        {
          "output_type": "stream",
          "name": "stdout",
          "text": [
            "Epoch - 31 Valid-Loss : 1.3851116275614914 Valid-Accuracy : 0.7125\n",
            "Epoch - 32 Train-Loss : 0.08514491024250663\n"
          ]
        },
        {
          "output_type": "stream",
          "name": "stderr",
          "text": [
            "\r 53%|█████▎    | 32/60 [02:42<02:22,  5.09s/it]"
          ]
        },
        {
          "output_type": "stream",
          "name": "stdout",
          "text": [
            "Epoch - 32 Valid-Loss : 1.3328962693856738 Valid-Accuracy : 0.7125\n",
            "Epoch - 33 Train-Loss : 0.08475191529516053\n"
          ]
        },
        {
          "output_type": "stream",
          "name": "stderr",
          "text": [
            "\r 55%|█████▌    | 33/60 [02:47<02:17,  5.08s/it]"
          ]
        },
        {
          "output_type": "stream",
          "name": "stdout",
          "text": [
            "Epoch - 33 Valid-Loss : 1.3462011045529834 Valid-Accuracy : 0.7\n",
            "Epoch - 34 Train-Loss : 0.09470912946707806\n"
          ]
        },
        {
          "output_type": "stream",
          "name": "stderr",
          "text": [
            "\r 57%|█████▋    | 34/60 [02:52<02:11,  5.07s/it]"
          ]
        },
        {
          "output_type": "stream",
          "name": "stdout",
          "text": [
            "Epoch - 34 Valid-Loss : 1.325675886823035 Valid-Accuracy : 0.65\n",
            "Epoch - 35 Train-Loss : 0.1331739904822058\n"
          ]
        },
        {
          "output_type": "stream",
          "name": "stderr",
          "text": [
            "\r 58%|█████▊    | 35/60 [02:57<02:06,  5.07s/it]"
          ]
        },
        {
          "output_type": "stream",
          "name": "stdout",
          "text": [
            "Epoch - 35 Valid-Loss : 1.3118050499288074 Valid-Accuracy : 0.7125\n",
            "Epoch - 36 Train-Loss : 0.09474600929682815\n"
          ]
        },
        {
          "output_type": "stream",
          "name": "stderr",
          "text": [
            "\r 60%|██████    | 36/60 [03:02<02:01,  5.06s/it]"
          ]
        },
        {
          "output_type": "stream",
          "name": "stdout",
          "text": [
            "Epoch - 36 Valid-Loss : 1.350733168498118 Valid-Accuracy : 0.6875\n",
            "Epoch - 37 Train-Loss : 0.10468612241186008\n"
          ]
        },
        {
          "output_type": "stream",
          "name": "stderr",
          "text": [
            "\r 62%|██████▏   | 37/60 [03:07<01:56,  5.05s/it]"
          ]
        },
        {
          "output_type": "stream",
          "name": "stdout",
          "text": [
            "Epoch - 37 Valid-Loss : 1.284257869045541 Valid-Accuracy : 0.7125\n",
            "Epoch - 38 Train-Loss : 0.09086717828040491\n"
          ]
        },
        {
          "output_type": "stream",
          "name": "stderr",
          "text": [
            "\r 63%|██████▎   | 38/60 [03:12<01:51,  5.06s/it]"
          ]
        },
        {
          "output_type": "stream",
          "name": "stdout",
          "text": [
            "Epoch - 38 Valid-Loss : 1.3256546022399562 Valid-Accuracy : 0.6875\n",
            "Epoch - 39 Train-Loss : 0.11330375588763628\n"
          ]
        },
        {
          "output_type": "stream",
          "name": "stderr",
          "text": [
            "\r 65%|██████▌   | 39/60 [03:17<01:46,  5.05s/it]"
          ]
        },
        {
          "output_type": "stream",
          "name": "stdout",
          "text": [
            "Epoch - 39 Valid-Loss : 1.309082139865859 Valid-Accuracy : 0.7125\n",
            "Changed learning rate to 2e-08\n",
            "Epoch - 40 Train-Loss : 0.10736231474034526\n"
          ]
        },
        {
          "output_type": "stream",
          "name": "stderr",
          "text": [
            "\r 67%|██████▋   | 40/60 [03:22<01:40,  5.05s/it]"
          ]
        },
        {
          "output_type": "stream",
          "name": "stdout",
          "text": [
            "Epoch - 40 Valid-Loss : 1.3257270440157298 Valid-Accuracy : 0.6875\n",
            "Epoch - 41 Train-Loss : 0.08430666087355121\n"
          ]
        },
        {
          "output_type": "stream",
          "name": "stderr",
          "text": [
            "\r 68%|██████▊   | 41/60 [03:27<01:35,  5.05s/it]"
          ]
        },
        {
          "output_type": "stream",
          "name": "stdout",
          "text": [
            "Epoch - 41 Valid-Loss : 1.3249640345793978 Valid-Accuracy : 0.7125\n",
            "Epoch - 42 Train-Loss : 0.09653504038005281\n"
          ]
        },
        {
          "output_type": "stream",
          "name": "stderr",
          "text": [
            "\r 70%|███████   | 42/60 [03:32<01:30,  5.05s/it]"
          ]
        },
        {
          "output_type": "stream",
          "name": "stdout",
          "text": [
            "Epoch - 42 Valid-Loss : 1.3154439197558077 Valid-Accuracy : 0.725\n",
            "Epoch - 43 Train-Loss : 0.09271794050333995\n"
          ]
        },
        {
          "output_type": "stream",
          "name": "stderr",
          "text": [
            "\r 72%|███████▏  | 43/60 [03:37<01:25,  5.05s/it]"
          ]
        },
        {
          "output_type": "stream",
          "name": "stdout",
          "text": [
            "Epoch - 43 Valid-Loss : 1.2890141234514885 Valid-Accuracy : 0.7\n",
            "Epoch - 44 Train-Loss : 0.10273094085767127\n"
          ]
        },
        {
          "output_type": "stream",
          "name": "stderr",
          "text": [
            "\r 73%|███████▎  | 44/60 [03:42<01:20,  5.05s/it]"
          ]
        },
        {
          "output_type": "stream",
          "name": "stdout",
          "text": [
            "Epoch - 44 Valid-Loss : 1.3549760990758841 Valid-Accuracy : 0.7125\n",
            "Epoch - 45 Train-Loss : 0.07850382683723778\n"
          ]
        },
        {
          "output_type": "stream",
          "name": "stderr",
          "text": [
            "\r 75%|███████▌  | 45/60 [03:47<01:15,  5.05s/it]"
          ]
        },
        {
          "output_type": "stream",
          "name": "stdout",
          "text": [
            "Epoch - 45 Valid-Loss : 1.3454785141617323 Valid-Accuracy : 0.7\n",
            "Epoch - 46 Train-Loss : 0.11741589251253118\n"
          ]
        },
        {
          "output_type": "stream",
          "name": "stderr",
          "text": [
            "\r 77%|███████▋  | 46/60 [03:52<01:10,  5.06s/it]"
          ]
        },
        {
          "output_type": "stream",
          "name": "stdout",
          "text": [
            "Epoch - 46 Valid-Loss : 1.4116640263811462 Valid-Accuracy : 0.625\n",
            "Epoch - 47 Train-Loss : 0.10615196976637549\n"
          ]
        },
        {
          "output_type": "stream",
          "name": "stderr",
          "text": [
            "\r 78%|███████▊  | 47/60 [03:57<01:05,  5.05s/it]"
          ]
        },
        {
          "output_type": "stream",
          "name": "stdout",
          "text": [
            "Epoch - 47 Valid-Loss : 1.3134814374749113 Valid-Accuracy : 0.7\n",
            "Epoch - 48 Train-Loss : 0.11077922075365905\n"
          ]
        },
        {
          "output_type": "stream",
          "name": "stderr",
          "text": [
            "\r 80%|████████  | 48/60 [04:02<01:00,  5.05s/it]"
          ]
        },
        {
          "output_type": "stream",
          "name": "stdout",
          "text": [
            "Epoch - 48 Valid-Loss : 1.3525448404092457 Valid-Accuracy : 0.7125\n",
            "Epoch - 49 Train-Loss : 0.07823821543413043\n"
          ]
        },
        {
          "output_type": "stream",
          "name": "stderr",
          "text": [
            "\r 82%|████████▏ | 49/60 [04:08<00:55,  5.06s/it]"
          ]
        },
        {
          "output_type": "stream",
          "name": "stdout",
          "text": [
            "Epoch - 49 Valid-Loss : 1.3495325909447273 Valid-Accuracy : 0.6875\n",
            "Changed learning rate to 2e-09\n",
            "Epoch - 50 Train-Loss : 0.0851294674339826\n"
          ]
        },
        {
          "output_type": "stream",
          "name": "stderr",
          "text": [
            "\r 83%|████████▎ | 50/60 [04:13<00:50,  5.05s/it]"
          ]
        },
        {
          "output_type": "stream",
          "name": "stdout",
          "text": [
            "Epoch - 50 Valid-Loss : 1.3052898573796483 Valid-Accuracy : 0.6875\n",
            "Epoch - 51 Train-Loss : 0.10134056864427236\n"
          ]
        },
        {
          "output_type": "stream",
          "name": "stderr",
          "text": [
            "\r 85%|████████▌ | 51/60 [04:18<00:45,  5.06s/it]"
          ]
        },
        {
          "output_type": "stream",
          "name": "stdout",
          "text": [
            "Epoch - 51 Valid-Loss : 1.3572737872633298 Valid-Accuracy : 0.7\n",
            "Epoch - 52 Train-Loss : 0.11254439152296705\n"
          ]
        },
        {
          "output_type": "stream",
          "name": "stderr",
          "text": [
            "\r 87%|████████▋ | 52/60 [04:23<00:40,  5.06s/it]"
          ]
        },
        {
          "output_type": "stream",
          "name": "stdout",
          "text": [
            "Epoch - 52 Valid-Loss : 1.3278115064138547 Valid-Accuracy : 0.7125\n",
            "Epoch - 53 Train-Loss : 0.0661794289337024\n"
          ]
        },
        {
          "output_type": "stream",
          "name": "stderr",
          "text": [
            "\r 88%|████████▊ | 53/60 [04:28<00:35,  5.05s/it]"
          ]
        },
        {
          "output_type": "stream",
          "name": "stdout",
          "text": [
            "Epoch - 53 Valid-Loss : 1.3498556667978847 Valid-Accuracy : 0.675\n",
            "Epoch - 54 Train-Loss : 0.10498405421897328\n"
          ]
        },
        {
          "output_type": "stream",
          "name": "stderr",
          "text": [
            "\r 90%|█████████ | 54/60 [04:33<00:30,  5.06s/it]"
          ]
        },
        {
          "output_type": "stream",
          "name": "stdout",
          "text": [
            "Epoch - 54 Valid-Loss : 1.324150443168128 Valid-Accuracy : 0.7125\n",
            "Epoch - 55 Train-Loss : 0.10507870586449082\n"
          ]
        },
        {
          "output_type": "stream",
          "name": "stderr",
          "text": [
            "\r 92%|█████████▏| 55/60 [04:38<00:25,  5.05s/it]"
          ]
        },
        {
          "output_type": "stream",
          "name": "stdout",
          "text": [
            "Epoch - 55 Valid-Loss : 1.2933068805876247 Valid-Accuracy : 0.7\n",
            "Epoch - 56 Train-Loss : 0.09254022259409674\n"
          ]
        },
        {
          "output_type": "stream",
          "name": "stderr",
          "text": [
            "\r 93%|█████████▎| 56/60 [04:43<00:20,  5.05s/it]"
          ]
        },
        {
          "output_type": "stream",
          "name": "stdout",
          "text": [
            "Epoch - 56 Valid-Loss : 1.3248214033006662 Valid-Accuracy : 0.7\n",
            "Epoch - 57 Train-Loss : 0.13267455208329865\n"
          ]
        },
        {
          "output_type": "stream",
          "name": "stderr",
          "text": [
            "\r 95%|█████████▌| 57/60 [04:48<00:15,  5.06s/it]"
          ]
        },
        {
          "output_type": "stream",
          "name": "stdout",
          "text": [
            "Epoch - 57 Valid-Loss : 1.2808835001901797 Valid-Accuracy : 0.7125\n",
            "Epoch - 58 Train-Loss : 0.12574023467073178\n"
          ]
        },
        {
          "output_type": "stream",
          "name": "stderr",
          "text": [
            "\r 97%|█████████▋| 58/60 [04:53<00:10,  5.05s/it]"
          ]
        },
        {
          "output_type": "stream",
          "name": "stdout",
          "text": [
            "Epoch - 58 Valid-Loss : 1.3521463480727107 Valid-Accuracy : 0.6875\n",
            "Epoch - 59 Train-Loss : 0.10977872155439457\n"
          ]
        },
        {
          "output_type": "stream",
          "name": "stderr",
          "text": [
            "\r 98%|█████████▊| 59/60 [04:58<00:05,  5.06s/it]"
          ]
        },
        {
          "output_type": "stream",
          "name": "stdout",
          "text": [
            "Epoch - 59 Valid-Loss : 1.3360229551723024 Valid-Accuracy : 0.7\n",
            "Changed learning rate to 2e-10\n",
            "Epoch - 60 Train-Loss : 0.08104758621558963\n"
          ]
        },
        {
          "output_type": "stream",
          "name": "stderr",
          "text": [
            "100%|██████████| 60/60 [05:03<00:00,  5.06s/it]"
          ]
        },
        {
          "output_type": "stream",
          "name": "stdout",
          "text": [
            "Epoch - 60 Valid-Loss : 1.31522182224071 Valid-Accuracy : 0.675\n"
          ]
        },
        {
          "output_type": "stream",
          "name": "stderr",
          "text": [
            "\n"
          ]
        }
      ]
    },
    {
      "cell_type": "code",
      "source": [
        "test_path = \"/content/drive/MyDrive/NTUCE_AI_worshop_0629/1-18757-A-4.wav\"\n",
        "test_data = spec_to_image(get_melspectrogram_db(test_path))\n"
      ],
      "metadata": {
        "id": "XDq_VuVzW0U9"
      },
      "execution_count": 31,
      "outputs": []
    },
    {
      "cell_type": "code",
      "source": [
        "with open('indtocat.pkl','rb') as f:\n",
        "  indtocat = pickle.load(f)"
      ],
      "metadata": {
        "id": "4nZlaHRY4Vf4"
      },
      "execution_count": 32,
      "outputs": []
    },
    {
      "cell_type": "code",
      "source": [
        "indtocat"
      ],
      "metadata": {
        "colab": {
          "base_uri": "https://localhost:8080/"
        },
        "id": "EfB7MC9W2sC7",
        "outputId": "1a62dbd8-9907-4184-dec0-1daee77d90a9"
      },
      "execution_count": 33,
      "outputs": [
        {
          "output_type": "execute_result",
          "data": {
            "text/plain": [
              "{0: 'cat',\n",
              " 1: 'cow',\n",
              " 2: 'crow',\n",
              " 3: 'dog',\n",
              " 4: 'frog',\n",
              " 5: 'hen',\n",
              " 6: 'insects',\n",
              " 7: 'pig',\n",
              " 8: 'rooster',\n",
              " 9: 'sheep'}"
            ]
          },
          "metadata": {},
          "execution_count": 33
        }
      ]
    },
    {
      "cell_type": "code",
      "source": [
        "model_.eval()\n",
        "spec_t = torch.tensor(test_data).to(device, dtype=torch.float32)\n",
        "pr = model_.forward(spec_t.reshape(1,1,*spec_t.shape))\n",
        "print(pr)\n",
        "\n",
        "ind = pr.argmax(dim=1).cpu().detach().numpy().ravel()[0]\n",
        "print(indtocat[ind])"
      ],
      "metadata": {
        "colab": {
          "base_uri": "https://localhost:8080/"
        },
        "id": "2EjyTUTh2n66",
        "outputId": "5ad27870-0a7e-4ddb-91b4-77d783342fd0"
      },
      "execution_count": 34,
      "outputs": [
        {
          "output_type": "stream",
          "name": "stdout",
          "text": [
            "tensor([[ 0.2131, -0.4615,  1.6313,  0.7894, 11.0219,  0.2985, -1.8602, -5.0685,\n",
            "          0.2469, -3.2826]], device='cuda:0', grad_fn=<AddmmBackward0>)\n",
            "frog\n"
          ]
        }
      ]
    },
    {
      "cell_type": "markdown",
      "source": [],
      "metadata": {
        "id": "0TnsjYQ75nts"
      }
    },
    {
      "cell_type": "markdown",
      "source": [
        "Utilize the prtrained torchvision model"
      ],
      "metadata": {
        "id": "L67Y_WfWW1VE"
      }
    },
    {
      "cell_type": "code",
      "source": [
        "from torchvision.models import resnet34\n",
        "\n",
        "resnet_model = resnet34(pretrained=True)\n",
        "resnet_model.fc = nn.Linear(512,10)\n",
        "resnet_model.conv1 = nn.Conv2d(1, 64, kernel_size=(7, 7), stride=(2, 2), padding=(3, 3), bias=False)\n",
        "resnet_model = resnet_model.to(device)"
      ],
      "metadata": {
        "colab": {
          "base_uri": "https://localhost:8080/"
        },
        "id": "eNnu8Wer5ipu",
        "outputId": "e30cd666-146d-4b7f-fe45-35a7c63b5cfa"
      },
      "execution_count": 35,
      "outputs": [
        {
          "output_type": "stream",
          "name": "stderr",
          "text": [
            "/usr/local/lib/python3.10/dist-packages/torchvision/models/_utils.py:208: UserWarning: The parameter 'pretrained' is deprecated since 0.13 and may be removed in the future, please use 'weights' instead.\n",
            "  warnings.warn(\n",
            "/usr/local/lib/python3.10/dist-packages/torchvision/models/_utils.py:223: UserWarning: Arguments other than a weight enum or `None` for 'weights' are deprecated since 0.13 and may be removed in the future. The current behavior is equivalent to passing `weights=ResNet34_Weights.IMAGENET1K_V1`. You can also use `weights=ResNet34_Weights.DEFAULT` to get the most up-to-date weights.\n",
            "  warnings.warn(msg)\n"
          ]
        }
      ]
    },
    {
      "cell_type": "code",
      "source": [
        "learning_rate = 2e-4\n",
        "optimizer = optim.Adam(resnet_model.parameters(), lr=learning_rate)\n",
        "epochs = 60\n",
        "loss_fn = nn.CrossEntropyLoss()\n",
        "resnet_train_losses=[]\n",
        "resnet_valid_losses=[]\n",
        "\n",
        "model_res = train(resnet_model, loss_fn, train_loader, valid_loader, epochs, optimizer, resnet_train_losses, resnet_valid_losses, lr_decay)\n",
        "torch.save(model_res, \"/content/drive/MyDrive/NTUCE_AI_worshop_0629/demo_resnet.pth\")"
      ],
      "metadata": {
        "colab": {
          "base_uri": "https://localhost:8080/"
        },
        "id": "9NbPpiMi6Atu",
        "outputId": "72fc5b7f-5c86-4b23-a0dd-f1c5d6a520a0"
      },
      "execution_count": 36,
      "outputs": [
        {
          "output_type": "stream",
          "name": "stderr",
          "text": [
            "\r  0%|          | 0/60 [00:00<?, ?it/s]"
          ]
        },
        {
          "output_type": "stream",
          "name": "stdout",
          "text": [
            "Epoch - 1 Train-Loss : 1.8935139752924441\n"
          ]
        },
        {
          "output_type": "stream",
          "name": "stderr",
          "text": [
            "\r  2%|▏         | 1/60 [00:04<04:07,  4.19s/it]"
          ]
        },
        {
          "output_type": "stream",
          "name": "stdout",
          "text": [
            "Epoch - 1 Valid-Loss : 1.2624369056895375 Valid-Accuracy : 0.5875\n",
            "Epoch - 2 Train-Loss : 1.2317240949720145\n"
          ]
        },
        {
          "output_type": "stream",
          "name": "stderr",
          "text": [
            "\r  3%|▎         | 2/60 [00:08<04:11,  4.33s/it]"
          ]
        },
        {
          "output_type": "stream",
          "name": "stdout",
          "text": [
            "Epoch - 2 Valid-Loss : 0.6645523422863334 Valid-Accuracy : 0.8125\n",
            "Epoch - 3 Train-Loss : 0.9237326917238533\n"
          ]
        },
        {
          "output_type": "stream",
          "name": "stderr",
          "text": [
            "\r  5%|▌         | 3/60 [00:13<04:09,  4.38s/it]"
          ]
        },
        {
          "output_type": "stream",
          "name": "stdout",
          "text": [
            "Epoch - 3 Valid-Loss : 0.7578559407647845 Valid-Accuracy : 0.775\n",
            "Epoch - 4 Train-Loss : 0.8435042890720069\n"
          ]
        },
        {
          "output_type": "stream",
          "name": "stderr",
          "text": [
            "\r  7%|▋         | 4/60 [00:17<03:58,  4.27s/it]"
          ]
        },
        {
          "output_type": "stream",
          "name": "stdout",
          "text": [
            "Epoch - 4 Valid-Loss : 0.6192652500628355 Valid-Accuracy : 0.75\n",
            "Epoch - 5 Train-Loss : 0.5114855136023835\n"
          ]
        },
        {
          "output_type": "stream",
          "name": "stderr",
          "text": [
            "\r  8%|▊         | 5/60 [00:21<03:55,  4.28s/it]"
          ]
        },
        {
          "output_type": "stream",
          "name": "stdout",
          "text": [
            "Epoch - 5 Valid-Loss : 0.7241851273009914 Valid-Accuracy : 0.775\n",
            "Epoch - 6 Train-Loss : 0.44501048035454005\n"
          ]
        },
        {
          "output_type": "stream",
          "name": "stderr",
          "text": [
            "\r 10%|█         | 6/60 [00:25<03:46,  4.20s/it]"
          ]
        },
        {
          "output_type": "stream",
          "name": "stdout",
          "text": [
            "Epoch - 6 Valid-Loss : 0.5626015957045638 Valid-Accuracy : 0.8375\n",
            "Epoch - 7 Train-Loss : 0.49061514841159803\n"
          ]
        },
        {
          "output_type": "stream",
          "name": "stderr",
          "text": [
            "\r 12%|█▏        | 7/60 [00:29<03:39,  4.14s/it]"
          ]
        },
        {
          "output_type": "stream",
          "name": "stdout",
          "text": [
            "Epoch - 7 Valid-Loss : 0.5449572647080003 Valid-Accuracy : 0.8\n",
            "Epoch - 8 Train-Loss : 0.43951829060679304\n"
          ]
        },
        {
          "output_type": "stream",
          "name": "stderr",
          "text": [
            "\r 13%|█▎        | 8/60 [00:33<03:36,  4.17s/it]"
          ]
        },
        {
          "output_type": "stream",
          "name": "stdout",
          "text": [
            "Epoch - 8 Valid-Loss : 0.46264521556413457 Valid-Accuracy : 0.8875\n",
            "Epoch - 9 Train-Loss : 0.4261244320194237\n"
          ]
        },
        {
          "output_type": "stream",
          "name": "stderr",
          "text": [
            "\r 15%|█▌        | 9/60 [00:37<03:30,  4.13s/it]"
          ]
        },
        {
          "output_type": "stream",
          "name": "stdout",
          "text": [
            "Epoch - 9 Valid-Loss : 0.9544681025781756 Valid-Accuracy : 0.8125\n",
            "Changed learning rate to 2e-05\n",
            "Epoch - 10 Train-Loss : 0.3545800596126355\n"
          ]
        },
        {
          "output_type": "stream",
          "name": "stderr",
          "text": [
            "\r 17%|█▋        | 10/60 [00:41<03:25,  4.10s/it]"
          ]
        },
        {
          "output_type": "stream",
          "name": "stdout",
          "text": [
            "Epoch - 10 Valid-Loss : 0.655398366236841 Valid-Accuracy : 0.8\n",
            "Epoch - 11 Train-Loss : 0.30735697483178226\n"
          ]
        },
        {
          "output_type": "stream",
          "name": "stderr",
          "text": [
            "\r 18%|█▊        | 11/60 [00:46<03:22,  4.13s/it]"
          ]
        },
        {
          "output_type": "stream",
          "name": "stdout",
          "text": [
            "Epoch - 11 Valid-Loss : 0.4877796083589601 Valid-Accuracy : 0.85\n",
            "Epoch - 12 Train-Loss : 0.28536321729188785\n"
          ]
        },
        {
          "output_type": "stream",
          "name": "stderr",
          "text": [
            "\r 20%|██        | 12/60 [00:50<03:18,  4.15s/it]"
          ]
        },
        {
          "output_type": "stream",
          "name": "stdout",
          "text": [
            "Epoch - 12 Valid-Loss : 0.438315633083425 Valid-Accuracy : 0.8625\n",
            "Epoch - 13 Train-Loss : 0.23652501582400873\n"
          ]
        },
        {
          "output_type": "stream",
          "name": "stderr",
          "text": [
            "\r 22%|██▏       | 13/60 [00:54<03:12,  4.11s/it]"
          ]
        },
        {
          "output_type": "stream",
          "name": "stdout",
          "text": [
            "Epoch - 13 Valid-Loss : 0.47925437674228843 Valid-Accuracy : 0.8375\n",
            "Epoch - 14 Train-Loss : 0.2772375236847438\n"
          ]
        },
        {
          "output_type": "stream",
          "name": "stderr",
          "text": [
            "\r 23%|██▎       | 14/60 [00:58<03:08,  4.11s/it]"
          ]
        },
        {
          "output_type": "stream",
          "name": "stdout",
          "text": [
            "Epoch - 14 Valid-Loss : 0.4349103530514299 Valid-Accuracy : 0.85\n",
            "Epoch - 15 Train-Loss : 0.270326972019393\n"
          ]
        },
        {
          "output_type": "stream",
          "name": "stderr",
          "text": [
            "\r 25%|██▌       | 15/60 [01:03<03:13,  4.30s/it]"
          ]
        },
        {
          "output_type": "stream",
          "name": "stdout",
          "text": [
            "Epoch - 15 Valid-Loss : 0.3885332172209644 Valid-Accuracy : 0.8875\n",
            "Epoch - 16 Train-Loss : 0.28911242869216947\n"
          ]
        },
        {
          "output_type": "stream",
          "name": "stderr",
          "text": [
            "\r 27%|██▋       | 16/60 [01:07<03:05,  4.21s/it]"
          ]
        },
        {
          "output_type": "stream",
          "name": "stdout",
          "text": [
            "Epoch - 16 Valid-Loss : 0.42282330233088034 Valid-Accuracy : 0.875\n",
            "Epoch - 17 Train-Loss : 0.20431080295238643\n"
          ]
        },
        {
          "output_type": "stream",
          "name": "stderr",
          "text": [
            "\r 28%|██▊       | 17/60 [01:11<02:58,  4.16s/it]"
          ]
        },
        {
          "output_type": "stream",
          "name": "stdout",
          "text": [
            "Epoch - 17 Valid-Loss : 0.4090720707502896 Valid-Accuracy : 0.8625\n",
            "Epoch - 18 Train-Loss : 0.19430840185377746\n"
          ]
        },
        {
          "output_type": "stream",
          "name": "stderr",
          "text": [
            "\r 30%|███       | 18/60 [01:15<02:56,  4.20s/it]"
          ]
        },
        {
          "output_type": "stream",
          "name": "stdout",
          "text": [
            "Epoch - 18 Valid-Loss : 0.3925555025959511 Valid-Accuracy : 0.8875\n",
            "Epoch - 19 Train-Loss : 0.21534940546262077\n"
          ]
        },
        {
          "output_type": "stream",
          "name": "stderr",
          "text": [
            "\r 32%|███▏      | 19/60 [01:19<02:50,  4.15s/it]"
          ]
        },
        {
          "output_type": "stream",
          "name": "stdout",
          "text": [
            "Epoch - 19 Valid-Loss : 0.3736626130415971 Valid-Accuracy : 0.85\n",
            "Changed learning rate to 2e-06\n",
            "Epoch - 20 Train-Loss : 0.13140365504659712\n"
          ]
        },
        {
          "output_type": "stream",
          "name": "stderr",
          "text": [
            "\r 33%|███▎      | 20/60 [01:24<02:55,  4.39s/it]"
          ]
        },
        {
          "output_type": "stream",
          "name": "stdout",
          "text": [
            "Epoch - 20 Valid-Loss : 0.4300312008595938 Valid-Accuracy : 0.9\n",
            "Epoch - 21 Train-Loss : 0.24120848617749288\n"
          ]
        },
        {
          "output_type": "stream",
          "name": "stderr",
          "text": [
            "\r 35%|███▌      | 21/60 [01:28<02:49,  4.35s/it]"
          ]
        },
        {
          "output_type": "stream",
          "name": "stdout",
          "text": [
            "Epoch - 21 Valid-Loss : 0.3610162109334169 Valid-Accuracy : 0.875\n",
            "Epoch - 22 Train-Loss : 0.288354642665945\n"
          ]
        },
        {
          "output_type": "stream",
          "name": "stderr",
          "text": [
            "\r 37%|███▋      | 22/60 [01:32<02:41,  4.25s/it]"
          ]
        },
        {
          "output_type": "stream",
          "name": "stdout",
          "text": [
            "Epoch - 22 Valid-Loss : 0.34601344612341906 Valid-Accuracy : 0.8875\n",
            "Epoch - 23 Train-Loss : 0.1832355290884152\n"
          ]
        },
        {
          "output_type": "stream",
          "name": "stderr",
          "text": [
            "\r 38%|███▊      | 23/60 [01:36<02:34,  4.19s/it]"
          ]
        },
        {
          "output_type": "stream",
          "name": "stdout",
          "text": [
            "Epoch - 23 Valid-Loss : 0.33046003287787756 Valid-Accuracy : 0.9\n",
            "Epoch - 24 Train-Loss : 0.24114081466686912\n"
          ]
        },
        {
          "output_type": "stream",
          "name": "stderr",
          "text": [
            "\r 40%|████      | 24/60 [01:40<02:31,  4.21s/it]"
          ]
        },
        {
          "output_type": "stream",
          "name": "stdout",
          "text": [
            "Epoch - 24 Valid-Loss : 0.3220584530105951 Valid-Accuracy : 0.9125\n",
            "Epoch - 25 Train-Loss : 0.3222210594045464\n"
          ]
        },
        {
          "output_type": "stream",
          "name": "stderr",
          "text": [
            "\r 42%|████▏     | 25/60 [01:45<02:25,  4.17s/it]"
          ]
        },
        {
          "output_type": "stream",
          "name": "stdout",
          "text": [
            "Epoch - 25 Valid-Loss : 0.46673951055990975 Valid-Accuracy : 0.85\n",
            "Epoch - 26 Train-Loss : 0.18699998869560658\n"
          ]
        },
        {
          "output_type": "stream",
          "name": "stderr",
          "text": [
            "\r 43%|████▎     | 26/60 [01:49<02:20,  4.12s/it]"
          ]
        },
        {
          "output_type": "stream",
          "name": "stdout",
          "text": [
            "Epoch - 26 Valid-Loss : 0.3607932432807502 Valid-Accuracy : 0.8875\n",
            "Epoch - 27 Train-Loss : 0.2598874173592776\n"
          ]
        },
        {
          "output_type": "stream",
          "name": "stderr",
          "text": [
            "\r 45%|████▌     | 27/60 [01:53<02:16,  4.14s/it]"
          ]
        },
        {
          "output_type": "stream",
          "name": "stdout",
          "text": [
            "Epoch - 27 Valid-Loss : 0.3716938439946034 Valid-Accuracy : 0.875\n",
            "Epoch - 28 Train-Loss : 0.17199036452220753\n"
          ]
        },
        {
          "output_type": "stream",
          "name": "stderr",
          "text": [
            "\r 47%|████▋     | 28/60 [01:57<02:12,  4.15s/it]"
          ]
        },
        {
          "output_type": "stream",
          "name": "stdout",
          "text": [
            "Epoch - 28 Valid-Loss : 0.3357804055679935 Valid-Accuracy : 0.8875\n",
            "Epoch - 29 Train-Loss : 0.24620626842370258\n"
          ]
        },
        {
          "output_type": "stream",
          "name": "stderr",
          "text": [
            "\r 48%|████▊     | 29/60 [02:01<02:07,  4.11s/it]"
          ]
        },
        {
          "output_type": "stream",
          "name": "stdout",
          "text": [
            "Epoch - 29 Valid-Loss : 0.46309173957089345 Valid-Accuracy : 0.8375\n",
            "Changed learning rate to 2.0000000000000002e-07\n",
            "Epoch - 30 Train-Loss : 0.263478850806132\n"
          ]
        },
        {
          "output_type": "stream",
          "name": "stderr",
          "text": [
            "\r 50%|█████     | 30/60 [02:05<02:02,  4.10s/it]"
          ]
        },
        {
          "output_type": "stream",
          "name": "stdout",
          "text": [
            "Epoch - 30 Valid-Loss : 0.29903448495829255 Valid-Accuracy : 0.8875\n",
            "Epoch - 31 Train-Loss : 0.16499294589739294\n"
          ]
        },
        {
          "output_type": "stream",
          "name": "stderr",
          "text": [
            "\r 52%|█████▏    | 31/60 [02:09<02:00,  4.14s/it]"
          ]
        },
        {
          "output_type": "stream",
          "name": "stdout",
          "text": [
            "Epoch - 31 Valid-Loss : 0.37519897585388906 Valid-Accuracy : 0.875\n",
            "Epoch - 32 Train-Loss : 0.14351988536072896\n"
          ]
        },
        {
          "output_type": "stream",
          "name": "stderr",
          "text": [
            "\r 53%|█████▎    | 32/60 [02:13<01:54,  4.10s/it]"
          ]
        },
        {
          "output_type": "stream",
          "name": "stdout",
          "text": [
            "Epoch - 32 Valid-Loss : 0.4110618869517566 Valid-Accuracy : 0.85\n",
            "Epoch - 33 Train-Loss : 0.26329009130131453\n"
          ]
        },
        {
          "output_type": "stream",
          "name": "stderr",
          "text": [
            "\r 55%|█████▌    | 33/60 [02:17<01:49,  4.07s/it]"
          ]
        },
        {
          "output_type": "stream",
          "name": "stdout",
          "text": [
            "Epoch - 33 Valid-Loss : 0.394777720986707 Valid-Accuracy : 0.875\n",
            "Epoch - 34 Train-Loss : 0.17113461225526408\n"
          ]
        },
        {
          "output_type": "stream",
          "name": "stderr",
          "text": [
            "\r 57%|█████▋    | 34/60 [02:22<01:47,  4.14s/it]"
          ]
        },
        {
          "output_type": "stream",
          "name": "stdout",
          "text": [
            "Epoch - 34 Valid-Loss : 0.35991176005659326 Valid-Accuracy : 0.9\n",
            "Epoch - 35 Train-Loss : 0.2571627179800998\n"
          ]
        },
        {
          "output_type": "stream",
          "name": "stderr",
          "text": [
            "\r 58%|█████▊    | 35/60 [02:26<01:42,  4.11s/it]"
          ]
        },
        {
          "output_type": "stream",
          "name": "stdout",
          "text": [
            "Epoch - 35 Valid-Loss : 0.4328353438882651 Valid-Accuracy : 0.8625\n",
            "Epoch - 36 Train-Loss : 0.14681710580480284\n"
          ]
        },
        {
          "output_type": "stream",
          "name": "stderr",
          "text": [
            "\r 60%|██████    | 36/60 [02:30<01:37,  4.08s/it]"
          ]
        },
        {
          "output_type": "stream",
          "name": "stdout",
          "text": [
            "Epoch - 36 Valid-Loss : 0.4007037749015808 Valid-Accuracy : 0.8875\n",
            "Epoch - 37 Train-Loss : 0.20745547486003488\n"
          ]
        },
        {
          "output_type": "stream",
          "name": "stderr",
          "text": [
            "\r 62%|██████▏   | 37/60 [02:34<01:34,  4.13s/it]"
          ]
        },
        {
          "output_type": "stream",
          "name": "stdout",
          "text": [
            "Epoch - 37 Valid-Loss : 0.3339252211651683 Valid-Accuracy : 0.8875\n",
            "Epoch - 38 Train-Loss : 0.19400559923960828\n"
          ]
        },
        {
          "output_type": "stream",
          "name": "stderr",
          "text": [
            "\r 63%|██████▎   | 38/60 [02:38<01:30,  4.12s/it]"
          ]
        },
        {
          "output_type": "stream",
          "name": "stdout",
          "text": [
            "Epoch - 38 Valid-Loss : 0.3484721782356587 Valid-Accuracy : 0.875\n",
            "Epoch - 39 Train-Loss : 0.1808655634522438\n"
          ]
        },
        {
          "output_type": "stream",
          "name": "stderr",
          "text": [
            "\r 65%|██████▌   | 39/60 [02:42<01:25,  4.09s/it]"
          ]
        },
        {
          "output_type": "stream",
          "name": "stdout",
          "text": [
            "Epoch - 39 Valid-Loss : 0.45599082273538405 Valid-Accuracy : 0.8875\n",
            "Changed learning rate to 2e-08\n",
            "Epoch - 40 Train-Loss : 0.2058391122962348\n"
          ]
        },
        {
          "output_type": "stream",
          "name": "stderr",
          "text": [
            "\r 67%|██████▋   | 40/60 [02:46<01:22,  4.10s/it]"
          ]
        },
        {
          "output_type": "stream",
          "name": "stdout",
          "text": [
            "Epoch - 40 Valid-Loss : 0.36097610380645617 Valid-Accuracy : 0.9125\n",
            "Epoch - 41 Train-Loss : 0.2531687853334006\n"
          ]
        },
        {
          "output_type": "stream",
          "name": "stderr",
          "text": [
            "\r 68%|██████▊   | 41/60 [02:50<01:18,  4.13s/it]"
          ]
        },
        {
          "output_type": "stream",
          "name": "stdout",
          "text": [
            "Epoch - 41 Valid-Loss : 0.41851947503369047 Valid-Accuracy : 0.8625\n",
            "Epoch - 42 Train-Loss : 0.1888188556593377\n"
          ]
        },
        {
          "output_type": "stream",
          "name": "stderr",
          "text": [
            "\r 70%|███████   | 42/60 [02:54<01:13,  4.09s/it]"
          ]
        },
        {
          "output_type": "stream",
          "name": "stdout",
          "text": [
            "Epoch - 42 Valid-Loss : 0.38793102233862553 Valid-Accuracy : 0.9\n",
            "Epoch - 43 Train-Loss : 0.19623367784079165\n"
          ]
        },
        {
          "output_type": "stream",
          "name": "stderr",
          "text": [
            "\r 72%|███████▏  | 43/60 [02:58<01:09,  4.07s/it]"
          ]
        },
        {
          "output_type": "stream",
          "name": "stdout",
          "text": [
            "Epoch - 43 Valid-Loss : 0.38672231195105267 Valid-Accuracy : 0.875\n",
            "Epoch - 44 Train-Loss : 0.22788413804955782\n"
          ]
        },
        {
          "output_type": "stream",
          "name": "stderr",
          "text": [
            "\r 73%|███████▎  | 44/60 [03:03<01:06,  4.13s/it]"
          ]
        },
        {
          "output_type": "stream",
          "name": "stdout",
          "text": [
            "Epoch - 44 Valid-Loss : 0.40158805135492914 Valid-Accuracy : 0.875\n",
            "Epoch - 45 Train-Loss : 0.2787574108981062\n"
          ]
        },
        {
          "output_type": "stream",
          "name": "stderr",
          "text": [
            "\r 75%|███████▌  | 45/60 [03:07<01:01,  4.09s/it]"
          ]
        },
        {
          "output_type": "stream",
          "name": "stdout",
          "text": [
            "Epoch - 45 Valid-Loss : 0.32237462753400054 Valid-Accuracy : 0.8875\n",
            "Epoch - 46 Train-Loss : 0.23766597763751635\n"
          ]
        },
        {
          "output_type": "stream",
          "name": "stderr",
          "text": [
            "\r 77%|███████▋  | 46/60 [03:11<00:56,  4.07s/it]"
          ]
        },
        {
          "output_type": "stream",
          "name": "stdout",
          "text": [
            "Epoch - 46 Valid-Loss : 0.34071061317619067 Valid-Accuracy : 0.875\n",
            "Epoch - 47 Train-Loss : 0.24501965874806048\n"
          ]
        },
        {
          "output_type": "stream",
          "name": "stderr",
          "text": [
            "\r 78%|███████▊  | 47/60 [03:15<00:53,  4.13s/it]"
          ]
        },
        {
          "output_type": "stream",
          "name": "stdout",
          "text": [
            "Epoch - 47 Valid-Loss : 0.35253394345882044 Valid-Accuracy : 0.8625\n",
            "Epoch - 48 Train-Loss : 0.20280671139480547\n"
          ]
        },
        {
          "output_type": "stream",
          "name": "stderr",
          "text": [
            "\r 80%|████████  | 48/60 [03:19<00:49,  4.11s/it]"
          ]
        },
        {
          "output_type": "stream",
          "name": "stdout",
          "text": [
            "Epoch - 48 Valid-Loss : 0.41803974038025443 Valid-Accuracy : 0.875\n",
            "Epoch - 49 Train-Loss : 0.25333342439262196\n"
          ]
        },
        {
          "output_type": "stream",
          "name": "stderr",
          "text": [
            "\r 82%|████████▏ | 49/60 [03:23<00:44,  4.08s/it]"
          ]
        },
        {
          "output_type": "stream",
          "name": "stdout",
          "text": [
            "Epoch - 49 Valid-Loss : 0.3470247536635071 Valid-Accuracy : 0.85\n",
            "Changed learning rate to 2e-09\n",
            "Epoch - 50 Train-Loss : 0.1583801112312358\n"
          ]
        },
        {
          "output_type": "stream",
          "name": "stderr",
          "text": [
            "\r 83%|████████▎ | 50/60 [03:27<00:41,  4.11s/it]"
          ]
        },
        {
          "output_type": "stream",
          "name": "stdout",
          "text": [
            "Epoch - 50 Valid-Loss : 0.36793867029795707 Valid-Accuracy : 0.8625\n",
            "Epoch - 51 Train-Loss : 0.22732701923232526\n"
          ]
        },
        {
          "output_type": "stream",
          "name": "stderr",
          "text": [
            "\r 85%|████████▌ | 51/60 [03:31<00:37,  4.12s/it]"
          ]
        },
        {
          "output_type": "stream",
          "name": "stdout",
          "text": [
            "Epoch - 51 Valid-Loss : 0.4199320650325717 Valid-Accuracy : 0.8375\n",
            "Epoch - 52 Train-Loss : 0.15636422171955927\n"
          ]
        },
        {
          "output_type": "stream",
          "name": "stderr",
          "text": [
            "\r 87%|████████▋ | 52/60 [03:35<00:32,  4.09s/it]"
          ]
        },
        {
          "output_type": "stream",
          "name": "stdout",
          "text": [
            "Epoch - 52 Valid-Loss : 0.40164618716532907 Valid-Accuracy : 0.8375\n",
            "Epoch - 53 Train-Loss : 0.20576796054374427\n"
          ]
        },
        {
          "output_type": "stream",
          "name": "stderr",
          "text": [
            "\r 88%|████████▊ | 53/60 [03:39<00:28,  4.09s/it]"
          ]
        },
        {
          "output_type": "stream",
          "name": "stdout",
          "text": [
            "Epoch - 53 Valid-Loss : 0.45742010690918133 Valid-Accuracy : 0.9\n",
            "Epoch - 54 Train-Loss : 0.18566409453633242\n"
          ]
        },
        {
          "output_type": "stream",
          "name": "stderr",
          "text": [
            "\r 90%|█████████ | 54/60 [03:44<00:24,  4.13s/it]"
          ]
        },
        {
          "output_type": "stream",
          "name": "stdout",
          "text": [
            "Epoch - 54 Valid-Loss : 0.4722889001746459 Valid-Accuracy : 0.8625\n",
            "Epoch - 55 Train-Loss : 0.14085740789305418\n"
          ]
        },
        {
          "output_type": "stream",
          "name": "stderr",
          "text": [
            "\r 92%|█████████▏| 55/60 [03:48<00:20,  4.09s/it]"
          ]
        },
        {
          "output_type": "stream",
          "name": "stdout",
          "text": [
            "Epoch - 55 Valid-Loss : 0.46122767509625645 Valid-Accuracy : 0.825\n",
            "Epoch - 56 Train-Loss : 0.15873219208442607\n"
          ]
        },
        {
          "output_type": "stream",
          "name": "stderr",
          "text": [
            "\r 93%|█████████▎| 56/60 [03:52<00:16,  4.06s/it]"
          ]
        },
        {
          "output_type": "stream",
          "name": "stdout",
          "text": [
            "Epoch - 56 Valid-Loss : 0.29562955505207356 Valid-Accuracy : 0.9\n",
            "Epoch - 57 Train-Loss : 0.14199382541701197\n"
          ]
        },
        {
          "output_type": "stream",
          "name": "stderr",
          "text": [
            "\r 95%|█████████▌| 57/60 [03:56<00:12,  4.13s/it]"
          ]
        },
        {
          "output_type": "stream",
          "name": "stdout",
          "text": [
            "Epoch - 57 Valid-Loss : 0.3777003275713923 Valid-Accuracy : 0.8625\n",
            "Epoch - 58 Train-Loss : 0.13736653383821248\n"
          ]
        },
        {
          "output_type": "stream",
          "name": "stderr",
          "text": [
            "\r 97%|█████████▋| 58/60 [04:00<00:08,  4.10s/it]"
          ]
        },
        {
          "output_type": "stream",
          "name": "stdout",
          "text": [
            "Epoch - 58 Valid-Loss : 0.40582533076401434 Valid-Accuracy : 0.8625\n",
            "Epoch - 59 Train-Loss : 0.18686452153488062\n"
          ]
        },
        {
          "output_type": "stream",
          "name": "stderr",
          "text": [
            "\r 98%|█████████▊| 59/60 [04:04<00:04,  4.08s/it]"
          ]
        },
        {
          "output_type": "stream",
          "name": "stdout",
          "text": [
            "Epoch - 59 Valid-Loss : 0.40546989137410494 Valid-Accuracy : 0.875\n",
            "Changed learning rate to 2e-10\n",
            "Epoch - 60 Train-Loss : 0.2072351422859356\n"
          ]
        },
        {
          "output_type": "stream",
          "name": "stderr",
          "text": [
            "100%|██████████| 60/60 [04:08<00:00,  4.14s/it]"
          ]
        },
        {
          "output_type": "stream",
          "name": "stdout",
          "text": [
            "Epoch - 60 Valid-Loss : 0.36372851276074697 Valid-Accuracy : 0.875\n"
          ]
        },
        {
          "output_type": "stream",
          "name": "stderr",
          "text": [
            "\n"
          ]
        }
      ]
    },
    {
      "cell_type": "code",
      "source": [
        "model_res.eval()\n",
        "pr = model_res.forward(spec_t.reshape(1,1,*spec_t.shape))\n",
        "print(pr)\n",
        "\n",
        "ind = pr.argmax(dim=1).cpu().detach().numpy().ravel()[0]\n",
        "print(indtocat[ind])"
      ],
      "metadata": {
        "colab": {
          "base_uri": "https://localhost:8080/"
        },
        "id": "BgflG1R76FVR",
        "outputId": "b0746aba-7ac4-4fdd-a0ea-d1eb76a1e00e"
      },
      "execution_count": 37,
      "outputs": [
        {
          "output_type": "stream",
          "name": "stdout",
          "text": [
            "tensor([[-4.6115, -1.7040,  0.6630, -0.8509, 12.4408, -1.1918, -1.9656,  0.2346,\n",
            "         -0.4667, -3.3789]], device='cuda:0', grad_fn=<AddmmBackward0>)\n",
            "frog\n"
          ]
        }
      ]
    },
    {
      "cell_type": "markdown",
      "source": [
        "Check paramter number for both models"
      ],
      "metadata": {
        "id": "tbnoKiQ1Ci33"
      }
    },
    {
      "cell_type": "code",
      "source": [
        "# for the custom model\n",
        "total_params = sum(\n",
        "\tparam.numel() for param in model_.parameters()\n",
        ")\n",
        "trainable_params = sum(\n",
        "\tp.numel() for p in model_.parameters() if p.requires_grad\n",
        ")\n",
        "print(\"-----Our model------\")\n",
        "print(\"Total parameter number: \", total_params)\n",
        "print(\"Trainable parameter number: \", trainable_params)\n",
        "\n",
        "# for the resnet model\n",
        "total_params = sum(\n",
        "\tparam.numel() for param in model_res.parameters()\n",
        ")\n",
        "trainable_params = sum(\n",
        "\tp.numel() for p in model_res.parameters() if p.requires_grad\n",
        ")\n",
        "\n",
        "print(\"-----Resnet model------\")\n",
        "print(\"Total parameter number: \", total_params)\n",
        "print(\"Trainable parameter number: \", trainable_params)\n",
        "\n"
      ],
      "metadata": {
        "colab": {
          "base_uri": "https://localhost:8080/"
        },
        "id": "sOCZhDZ08NMO",
        "outputId": "425bfa41-5300-4a3e-e00e-7cc7fae0d1f6"
      },
      "execution_count": 38,
      "outputs": [
        {
          "output_type": "stream",
          "name": "stdout",
          "text": [
            "-----Our model------\n",
            "Total parameter number:  109723110\n",
            "Trainable parameter number:  109723110\n",
            "-----Resnet model------\n",
            "Total parameter number:  21283530\n",
            "Trainable parameter number:  21283530\n"
          ]
        }
      ]
    },
    {
      "cell_type": "code",
      "source": [],
      "metadata": {
        "id": "HCg8dF8ODIZD"
      },
      "execution_count": 38,
      "outputs": []
    }
  ]
}
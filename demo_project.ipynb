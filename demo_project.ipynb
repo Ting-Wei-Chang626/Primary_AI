{
  "nbformat": 4,
  "nbformat_minor": 0,
  "metadata": {
    "colab": {
      "provenance": [],
      "gpuType": "T4",
      "authorship_tag": "ABX9TyPcjeu+2mQ/VxnIb49I3p5X",
      "include_colab_link": true
    },
    "kernelspec": {
      "name": "python3",
      "display_name": "Python 3"
    },
    "language_info": {
      "name": "python"
    },
    "accelerator": "GPU"
  },
  "cells": [
    {
      "cell_type": "markdown",
      "metadata": {
        "id": "view-in-github",
        "colab_type": "text"
      },
      "source": [
        "<a href=\"https://colab.research.google.com/github/Ting-Wei-Chang626/Primary_AI/blob/main/demo_project.ipynb\" target=\"_parent\"><img src=\"https://colab.research.google.com/assets/colab-badge.svg\" alt=\"Open In Colab\"/></a>"
      ]
    },
    {
      "cell_type": "markdown",
      "source": [
        "**Animal sound classification**"
      ],
      "metadata": {
        "id": "7UK0tH1st1F4"
      }
    },
    {
      "cell_type": "markdown",
      "source": [
        "Load neccessary module"
      ],
      "metadata": {
        "id": "uk93qyfctvPR"
      }
    },
    {
      "cell_type": "code",
      "execution_count": null,
      "metadata": {
        "id": "_K_j8bmLtrma"
      },
      "outputs": [],
      "source": [
        "import pandas as pd\n",
        "import librosa\n",
        "import numpy as np\n",
        "import matplotlib.pyplot as plt\n",
        "import librosa.display\n",
        "import torch\n",
        "import torch.nn as nn\n",
        "import torch.nn.functional as F\n",
        "import torch.optim as optim\n",
        "from torch.utils.data import Dataset, DataLoader\n",
        "from tqdm import tqdm\n",
        "import os"
      ]
    },
    {
      "cell_type": "markdown",
      "source": [
        "Transform audio to images"
      ],
      "metadata": {
        "id": "tfI8YX_pyha5"
      }
    },
    {
      "cell_type": "code",
      "source": [
        "def get_melspectrogram_db(file_path, sr=None, n_fft=2048, hop_length=512, n_mels=128, fmin=20, fmax=8300, top_db=80):\n",
        "    wav,sr = librosa.load(file_path,sr=sr)\n",
        "    if wav.shape[0]<5*sr:\n",
        "        wav=np.pad(wav,int(np.ceil((5*sr-wav.shape[0])/2)),mode='reflect')\n",
        "    else:\n",
        "        wav=wav[:5*sr]\n",
        "    spec=librosa.feature.melspectrogram(y=wav, sr=sr, n_fft=n_fft, hop_length=hop_length, n_mels=n_mels,fmin=fmin,fmax=fmax)\n",
        "    spec_db=librosa.power_to_db(spec,top_db=top_db)\n",
        "\n",
        "    return spec_db\n",
        "\n",
        "\n",
        "def spec_to_image(spec, eps=1e-6):\n",
        "    mean = spec.mean()\n",
        "    std = spec.std()\n",
        "    spec_norm = (spec - mean) / (std + eps)\n",
        "    spec_min, spec_max = spec_norm.min(), spec_norm.max()\n",
        "    spec_scaled = 255 * (spec_norm - spec_min) / (spec_max - spec_min)\n",
        "    spec_scaled = spec_scaled.astype(np.uint8)\n",
        "\n",
        "    return spec_scaled"
      ],
      "metadata": {
        "id": "fqqkiFVE_Ed5"
      },
      "execution_count": null,
      "outputs": []
    },
    {
      "cell_type": "markdown",
      "source": [
        "mount google drive"
      ],
      "metadata": {
        "id": "bqoaisYdy87W"
      }
    },
    {
      "cell_type": "code",
      "source": [
        "from google.colab import drive\n",
        "drive.mount('/content/drive')"
      ],
      "metadata": {
        "colab": {
          "base_uri": "https://localhost:8080/"
        },
        "id": "4Bi02vGAy_UB",
        "outputId": "5bb8eb35-5463-412a-d5cd-21f58561cb1c"
      },
      "execution_count": null,
      "outputs": [
        {
          "output_type": "stream",
          "name": "stdout",
          "text": [
            "Drive already mounted at /content/drive; to attempt to forcibly remount, call drive.mount(\"/content/drive\", force_remount=True).\n"
          ]
        }
      ]
    },
    {
      "cell_type": "markdown",
      "source": [
        "Create ESC50 data format"
      ],
      "metadata": {
        "id": "dXoFCZJlWjf8"
      }
    },
    {
      "cell_type": "code",
      "source": [
        "class ESC50Data(Dataset):\n",
        "    def __init__(self, base, df, in_col, out_col):\n",
        "        self.df = df\n",
        "        self.data = []\n",
        "        self.labels = []\n",
        "        self.c2i={}\n",
        "        self.i2c={}\n",
        "        self.categories = sorted(df[out_col].unique())\n",
        "        for i, category in enumerate(self.categories):\n",
        "            self.c2i[category]=i\n",
        "            self.i2c[i]=category\n",
        "\n",
        "        for ind in tqdm(range(len(df))):\n",
        "            row = df.iloc[ind]\n",
        "            file_path = os.path.join(base,row[in_col])\n",
        "            self.data.append(spec_to_image(get_melspectrogram_db(file_path))[np.newaxis,...])\n",
        "            self.labels.append(self.c2i[row['category']])\n",
        "\n",
        "    def __len__(self):\n",
        "        return len(self.data)\n",
        "\n",
        "    def __getitem__(self, idx):\n",
        "        return self.data[idx], self.labels[idx]"
      ],
      "metadata": {
        "id": "79awFoyyWst_"
      },
      "execution_count": null,
      "outputs": []
    },
    {
      "cell_type": "markdown",
      "source": [
        "split dataset into training and validation"
      ],
      "metadata": {
        "id": "6qjCbAw1yp5Z"
      }
    },
    {
      "cell_type": "code",
      "source": [
        "df = pd.read_csv('/content/drive/MyDrive/NTUCE_AI_worshop_0629/ESC-50/meta/esc50_animal.csv')\n",
        "df.head()\n",
        "\n",
        "train = df[df['fold']!=5]\n",
        "valid = df[df['fold']==5]\n",
        "\n",
        "train_data = ESC50Data('/content/drive/MyDrive/NTUCE_AI_worshop_0629/ESC-50/audio', train, 'filename', 'category')\n",
        "valid_data = ESC50Data('/content/drive/MyDrive/NTUCE_AI_worshop_0629/ESC-50/audio', valid, 'filename', 'category')\n",
        "train_loader = DataLoader(train_data, batch_size=4, shuffle=True)\n",
        "valid_loader = DataLoader(valid_data, batch_size=4, shuffle=True)\n"
      ],
      "metadata": {
        "colab": {
          "base_uri": "https://localhost:8080/"
        },
        "id": "GqIeTJJjyzgX",
        "outputId": "e0167a64-cb55-4cb7-f55b-bc4e26c69612"
      },
      "execution_count": null,
      "outputs": [
        {
          "output_type": "stream",
          "name": "stderr",
          "text": [
            "100%|██████████| 320/320 [00:19<00:00, 16.48it/s]\n",
            "100%|██████████| 80/80 [00:02<00:00, 35.15it/s]\n"
          ]
        }
      ]
    },
    {
      "cell_type": "code",
      "source": [
        "import pickle\n",
        "with open('indtocat.pkl','wb') as f:\n",
        "  pickle.dump(train_data.i2c, f)"
      ],
      "metadata": {
        "id": "8k3MFkYd4Hx9"
      },
      "execution_count": null,
      "outputs": []
    },
    {
      "cell_type": "markdown",
      "source": [
        "Create the Convolutional Neural Network"
      ],
      "metadata": {
        "id": "NrFGRJdY_f_H"
      }
    },
    {
      "cell_type": "code",
      "source": [
        "import torch.nn as nn\n",
        "import torch.nn.functional as F\n",
        "\n",
        "def weights_init(m):\n",
        "    classname = m.__class__.__name__\n",
        "    if classname.find('Conv') != -1:\n",
        "        nn.init.normal_(m.weight.data, 0.0, 0.02)\n",
        "    elif classname.find('BatchNorm') != -1:\n",
        "        nn.init.normal_(m.weight.data, 1.0, 0.02)\n",
        "        nn.init.constant_(m.bias.data, 0)\n",
        "\n",
        "class ESC50Model(nn.Module):\n",
        "    def __init__(self, input_shape, num_cats=10):\n",
        "        super().__init__()\n",
        "        self.conv1 = nn.Conv2d(1, 32, kernel_size = 3, stride=1, padding=1)\n",
        "        self.bn1 = nn.BatchNorm2d(32)\n",
        "        self.conv2 = nn.Conv2d(32, 32, kernel_size = 3, stride=1, padding=1)\n",
        "        self.bn2 = nn.BatchNorm2d(32)\n",
        "        self.conv3 = nn.Conv2d(32, 64, kernel_size=3, stride=1, padding=1)\n",
        "        self.bn3 = nn.BatchNorm2d(64)\n",
        "        self.conv4 = nn.Conv2d(64, 64, kernel_size=3, stride=1, padding=1)\n",
        "        self.bn4 = nn.BatchNorm2d(64)\n",
        "        self.conv5 = nn.Conv2d(64, 128, kernel_size=3, stride=1, padding=1)\n",
        "        self.bn5 = nn.BatchNorm2d(128)\n",
        "        self.conv6 = nn.Conv2d(128, 128, kernel_size=3, stride=1, padding=1)\n",
        "        self.bn6 = nn.BatchNorm2d(128)\n",
        "        self.conv7 = nn.Conv2d(128, 256, kernel_size=3, stride=1, padding=1)\n",
        "        self.bn7 = nn.BatchNorm2d(256)\n",
        "        self.conv8 = nn.Conv2d(256, 256, kernel_size=3, stride=1, padding=1)\n",
        "        self.bn8 = nn.BatchNorm2d(256)\n",
        "        self.dense1 = nn.Linear(256*(((input_shape[1]//2)//2)//2)*(((input_shape[2]//2)//2)//2),500)\n",
        "        self.dropout = nn.Dropout(0.5)\n",
        "        self.dense2 = nn.Linear(500, num_cats)\n",
        "    def forward(self, x):\n",
        "        x = self.conv1(x)\n",
        "        x = F.relu(self.bn1(x))\n",
        "        x = self.conv2(x)\n",
        "        x = F.relu(self.bn2(x))\n",
        "        x = F.max_pool2d(x, kernel_size=2)\n",
        "        x = self.conv3(x)\n",
        "        x = F.relu(self.bn3(x))\n",
        "        x = self.conv4(x)\n",
        "        x = F.relu(self.bn4(x))\n",
        "        x = F.max_pool2d(x, kernel_size=2)\n",
        "        x = self.conv5(x)\n",
        "        x = F.relu(self.bn5(x))\n",
        "        x = self.conv6(x)\n",
        "        x = F.relu(self.bn6(x))\n",
        "        x = F.max_pool2d(x, kernel_size=2)\n",
        "        x = self.conv7(x)\n",
        "        x = F.relu(self.bn7(x))\n",
        "        x = self.conv8(x)\n",
        "        x = F.relu(self.bn8(x))\n",
        "        x = x.view(x.size(0),-1)\n",
        "        x = F.relu(self.dense1(x))\n",
        "        x = self.dropout(x)\n",
        "        x = self.dense2(x)\n",
        "        return x"
      ],
      "metadata": {
        "id": "eCduu6Zv_Eid"
      },
      "execution_count": null,
      "outputs": []
    },
    {
      "cell_type": "code",
      "source": [
        "if torch.cuda.is_available():\n",
        "    device=torch.device('cuda:0')\n",
        "else:\n",
        "    device=torch.device('cpu')\n",
        "\n",
        "model = ESC50Model(input_shape=(1,128,431), num_cats=10).to(device)\n",
        "# model.apply(weights_init)\n"
      ],
      "metadata": {
        "id": "XQ70xgiLzZH-"
      },
      "execution_count": null,
      "outputs": []
    },
    {
      "cell_type": "code",
      "source": [
        "learning_rate = 2e-4\n",
        "optimizer = optim.Adam(model.parameters(), lr=learning_rate)\n",
        "epochs = 60\n",
        "loss_fn = nn.CrossEntropyLoss()\n",
        "train_losses=[]\n",
        "valid_losses=[]"
      ],
      "metadata": {
        "id": "3gtYoDwTzcMo"
      },
      "execution_count": null,
      "outputs": []
    },
    {
      "cell_type": "markdown",
      "source": [
        "Declare training process"
      ],
      "metadata": {
        "id": "4O9_5L2YW_gH"
      }
    },
    {
      "cell_type": "code",
      "source": [
        "def setlr(optimizer, lr):\n",
        "    for param_group in optimizer.param_groups:\n",
        "        param_group['lr'] = lr\n",
        "    return optimizer\n",
        "\n",
        "\n",
        "def lr_decay(optimizer, epoch):\n",
        "    if epoch%10==0:\n",
        "        new_lr = learning_rate / (10**(epoch//10))\n",
        "        optimizer = setlr(optimizer, new_lr)\n",
        "        print(f'Changed learning rate to {new_lr}')\n",
        "    return optimizer\n",
        "\n",
        "def train(model, loss_fn, train_loader, valid_loader, epochs, optimizer, train_losses, valid_losses, change_lr=None):\n",
        "    accuracy_best = 0\n",
        "    for epoch in tqdm(range(1,epochs+1)):\n",
        "        model.train()\n",
        "        batch_losses=[]\n",
        "\n",
        "        if change_lr:\n",
        "            optimizer = change_lr(optimizer, epoch)\n",
        "\n",
        "        for i, data in enumerate(train_loader):\n",
        "            x, y = data\n",
        "            # optimizer.zero_grad()\n",
        "            x = x.to(device, dtype=torch.float32)\n",
        "            y = y.to(device, dtype=torch.long)\n",
        "            y_hat = model(x)\n",
        "            loss = loss_fn(y_hat, y)\n",
        "            loss.backward()\n",
        "            batch_losses.append(loss.item())\n",
        "\n",
        "            if i%5==0:\n",
        "            # if True:\n",
        "                optimizer.step()        # update parameters of net\n",
        "                optimizer.zero_grad()\n",
        "\n",
        "        train_losses.append(batch_losses)\n",
        "        print(f'Epoch - {epoch} Train-Loss : {np.mean(train_losses[-1])}')\n",
        "        model.eval()\n",
        "        batch_losses=[]\n",
        "        trace_y = []\n",
        "        trace_yhat = []\n",
        "\n",
        "        # Validation\n",
        "        for i, data in enumerate(valid_loader):\n",
        "            x, y = data\n",
        "            x = x.to(device, dtype=torch.float32)\n",
        "            y = y.to(device, dtype=torch.long)\n",
        "            y_hat = model(x)\n",
        "            loss = loss_fn(y_hat, y)\n",
        "            trace_y.append(y.cpu().detach().numpy())\n",
        "            trace_yhat.append(y_hat.cpu().detach().numpy())\n",
        "            batch_losses.append(loss.item())\n",
        "\n",
        "        valid_losses.append(batch_losses)\n",
        "        trace_y = np.concatenate(trace_y)\n",
        "        trace_yhat = np.concatenate(trace_yhat)\n",
        "        accuracy = np.mean(trace_yhat.argmax(axis=1)==trace_y)\n",
        "        print(f'Epoch - {epoch} Valid-Loss : {np.mean(valid_losses[-1])} Valid-Accuracy : {accuracy}')\n",
        "        if accuracy > accuracy_best:\n",
        "            accuracy_best = accuracy\n",
        "            torch.save(model, \"/content/drive/MyDrive/NTUCE_AI_worshop_0629/demo_best.pth\")\n",
        "    return model"
      ],
      "metadata": {
        "id": "VhLrR_H7W-yM"
      },
      "execution_count": null,
      "outputs": []
    },
    {
      "cell_type": "markdown",
      "source": [
        "Start training"
      ],
      "metadata": {
        "id": "TkGC_LFtzm0a"
      }
    },
    {
      "cell_type": "code",
      "source": [
        "model_ = train(model, loss_fn, train_loader, valid_loader, epochs, optimizer, train_losses, valid_losses, lr_decay)\n",
        "\n",
        "torch.save(model_, \"/content/drive/MyDrive/NTUCE_AI_worshop_0629/demo_last.pth\")"
      ],
      "metadata": {
        "colab": {
          "base_uri": "https://localhost:8080/"
        },
        "id": "UdEzrFtfzljM",
        "outputId": "2f48c6b6-f2a4-48b4-c9f4-819db38358a7"
      },
      "execution_count": null,
      "outputs": [
        {
          "output_type": "stream",
          "name": "stderr",
          "text": [
            "\r  0%|          | 0/60 [00:00<?, ?it/s]"
          ]
        },
        {
          "output_type": "stream",
          "name": "stdout",
          "text": [
            "Epoch - 1 Train-Loss : 8.611197458207608\n",
            "Epoch - 1 Valid-Loss : 7.08762629032135 Valid-Accuracy : 0.2875\n"
          ]
        },
        {
          "output_type": "stream",
          "name": "stderr",
          "text": [
            "\r  2%|▏         | 1/60 [00:07<07:24,  7.54s/it]"
          ]
        },
        {
          "output_type": "stream",
          "name": "stdout",
          "text": [
            "Epoch - 2 Train-Loss : 3.0811526399105786\n",
            "Epoch - 2 Valid-Loss : 1.6310142785310746 Valid-Accuracy : 0.525\n"
          ]
        },
        {
          "output_type": "stream",
          "name": "stderr",
          "text": [
            "\r  3%|▎         | 2/60 [00:13<06:16,  6.49s/it]"
          ]
        },
        {
          "output_type": "stream",
          "name": "stdout",
          "text": [
            "Epoch - 3 Train-Loss : 1.330388044565916\n",
            "Epoch - 3 Valid-Loss : 1.3295795127749443 Valid-Accuracy : 0.575\n"
          ]
        },
        {
          "output_type": "stream",
          "name": "stderr",
          "text": [
            "\r  5%|▌         | 3/60 [00:18<05:43,  6.02s/it]"
          ]
        },
        {
          "output_type": "stream",
          "name": "stdout",
          "text": [
            "Epoch - 4 Train-Loss : 0.9018883723765612\n",
            "Epoch - 4 Valid-Loss : 1.147267423570156 Valid-Accuracy : 0.6\n"
          ]
        },
        {
          "output_type": "stream",
          "name": "stderr",
          "text": [
            "\r  7%|▋         | 4/60 [00:24<05:25,  5.82s/it]"
          ]
        },
        {
          "output_type": "stream",
          "name": "stdout",
          "text": [
            "Epoch - 5 Train-Loss : 0.5722439526813105\n"
          ]
        },
        {
          "output_type": "stream",
          "name": "stderr",
          "text": [
            "\r  8%|▊         | 5/60 [00:27<04:38,  5.06s/it]"
          ]
        },
        {
          "output_type": "stream",
          "name": "stdout",
          "text": [
            "Epoch - 5 Valid-Loss : 1.154698547720909 Valid-Accuracy : 0.6\n",
            "Epoch - 6 Train-Loss : 0.46196677738334985\n"
          ]
        },
        {
          "output_type": "stream",
          "name": "stderr",
          "text": [
            "\r 10%|█         | 6/60 [00:31<04:07,  4.58s/it]"
          ]
        },
        {
          "output_type": "stream",
          "name": "stdout",
          "text": [
            "Epoch - 6 Valid-Loss : 1.264000671519898 Valid-Accuracy : 0.5875\n",
            "Epoch - 7 Train-Loss : 0.3019594577664975\n",
            "Epoch - 7 Valid-Loss : 1.4031501114368439 Valid-Accuracy : 0.6375\n"
          ]
        },
        {
          "output_type": "stream",
          "name": "stderr",
          "text": [
            "\r 12%|█▏        | 7/60 [00:37<04:17,  4.86s/it]"
          ]
        },
        {
          "output_type": "stream",
          "name": "stdout",
          "text": [
            "Epoch - 8 Train-Loss : 0.2602976614696672\n",
            "Epoch - 8 Valid-Loss : 1.1542544439435005 Valid-Accuracy : 0.65\n"
          ]
        },
        {
          "output_type": "stream",
          "name": "stderr",
          "text": [
            "\r 13%|█▎        | 8/60 [00:42<04:24,  5.08s/it]"
          ]
        },
        {
          "output_type": "stream",
          "name": "stdout",
          "text": [
            "Epoch - 9 Train-Loss : 0.21485752170920022\n"
          ]
        },
        {
          "output_type": "stream",
          "name": "stderr",
          "text": [
            "\r 15%|█▌        | 9/60 [00:46<03:57,  4.66s/it]"
          ]
        },
        {
          "output_type": "stream",
          "name": "stdout",
          "text": [
            "Epoch - 9 Valid-Loss : 1.333081977441907 Valid-Accuracy : 0.6375\n",
            "Changed learning rate to 2e-05\n",
            "Epoch - 10 Train-Loss : 0.1639610338927014\n"
          ]
        },
        {
          "output_type": "stream",
          "name": "stderr",
          "text": [
            "\r 17%|█▋        | 10/60 [00:50<03:37,  4.35s/it]"
          ]
        },
        {
          "output_type": "stream",
          "name": "stdout",
          "text": [
            "Epoch - 10 Valid-Loss : 1.2831499833613633 Valid-Accuracy : 0.65\n",
            "Epoch - 11 Train-Loss : 0.1490105654404033\n",
            "Epoch - 11 Valid-Loss : 1.2381132060196252 Valid-Accuracy : 0.6875\n"
          ]
        },
        {
          "output_type": "stream",
          "name": "stderr",
          "text": [
            "\r 18%|█▊        | 11/60 [00:55<03:54,  4.80s/it]"
          ]
        },
        {
          "output_type": "stream",
          "name": "stdout",
          "text": [
            "Epoch - 12 Train-Loss : 0.12449498089481495\n"
          ]
        },
        {
          "output_type": "stream",
          "name": "stderr",
          "text": [
            "\r 20%|██        | 12/60 [00:59<03:34,  4.47s/it]"
          ]
        },
        {
          "output_type": "stream",
          "name": "stdout",
          "text": [
            "Epoch - 12 Valid-Loss : 1.1894936598371715 Valid-Accuracy : 0.6875\n",
            "Epoch - 13 Train-Loss : 0.11440444197614852\n"
          ]
        },
        {
          "output_type": "stream",
          "name": "stderr",
          "text": [
            "\r 22%|██▏       | 13/60 [01:03<03:18,  4.23s/it]"
          ]
        },
        {
          "output_type": "stream",
          "name": "stdout",
          "text": [
            "Epoch - 13 Valid-Loss : 1.171246603364125 Valid-Accuracy : 0.6875\n",
            "Epoch - 14 Train-Loss : 0.10734828773929621\n"
          ]
        },
        {
          "output_type": "stream",
          "name": "stderr",
          "text": [
            "\r 23%|██▎       | 14/60 [01:07<03:11,  4.17s/it]"
          ]
        },
        {
          "output_type": "stream",
          "name": "stdout",
          "text": [
            "Epoch - 14 Valid-Loss : 1.1565642174333335 Valid-Accuracy : 0.6875\n",
            "Epoch - 15 Train-Loss : 0.07201327900766046\n"
          ]
        },
        {
          "output_type": "stream",
          "name": "stderr",
          "text": [
            "\r 25%|██▌       | 15/60 [01:11<03:06,  4.14s/it]"
          ]
        },
        {
          "output_type": "stream",
          "name": "stdout",
          "text": [
            "Epoch - 15 Valid-Loss : 1.16955705601722 Valid-Accuracy : 0.675\n",
            "Epoch - 16 Train-Loss : 0.1280556398012777\n"
          ]
        },
        {
          "output_type": "stream",
          "name": "stderr",
          "text": [
            "\r 27%|██▋       | 16/60 [01:15<02:56,  4.01s/it]"
          ]
        },
        {
          "output_type": "stream",
          "name": "stdout",
          "text": [
            "Epoch - 16 Valid-Loss : 1.2169260379858315 Valid-Accuracy : 0.675\n",
            "Epoch - 17 Train-Loss : 0.07970634805533336\n"
          ]
        },
        {
          "output_type": "stream",
          "name": "stderr",
          "text": [
            "\r 28%|██▊       | 17/60 [01:18<02:48,  3.91s/it]"
          ]
        },
        {
          "output_type": "stream",
          "name": "stdout",
          "text": [
            "Epoch - 17 Valid-Loss : 1.2127644706051797 Valid-Accuracy : 0.675\n",
            "Epoch - 18 Train-Loss : 0.08205141384351008\n",
            "Epoch - 18 Valid-Loss : 1.1298810824751855 Valid-Accuracy : 0.7125\n"
          ]
        },
        {
          "output_type": "stream",
          "name": "stderr",
          "text": [
            "\r 30%|███       | 18/60 [01:24<03:08,  4.48s/it]"
          ]
        },
        {
          "output_type": "stream",
          "name": "stdout",
          "text": [
            "Epoch - 19 Train-Loss : 0.07324037505240995\n"
          ]
        },
        {
          "output_type": "stream",
          "name": "stderr",
          "text": [
            "\r 32%|███▏      | 19/60 [01:28<02:54,  4.27s/it]"
          ]
        },
        {
          "output_type": "stream",
          "name": "stdout",
          "text": [
            "Epoch - 19 Valid-Loss : 1.1843609446659684 Valid-Accuracy : 0.675\n",
            "Changed learning rate to 2e-06\n",
            "Epoch - 20 Train-Loss : 0.09234532285190653\n"
          ]
        },
        {
          "output_type": "stream",
          "name": "stderr",
          "text": [
            "\r 33%|███▎      | 20/60 [01:31<02:43,  4.09s/it]"
          ]
        },
        {
          "output_type": "stream",
          "name": "stdout",
          "text": [
            "Epoch - 20 Valid-Loss : 1.2278095559217035 Valid-Accuracy : 0.6875\n",
            "Epoch - 21 Train-Loss : 0.0733264511654852\n"
          ]
        },
        {
          "output_type": "stream",
          "name": "stderr",
          "text": [
            "\r 35%|███▌      | 21/60 [01:35<02:35,  3.98s/it]"
          ]
        },
        {
          "output_type": "stream",
          "name": "stdout",
          "text": [
            "Epoch - 21 Valid-Loss : 1.2460506664123385 Valid-Accuracy : 0.675\n",
            "Epoch - 22 Train-Loss : 0.08409591258969158\n"
          ]
        },
        {
          "output_type": "stream",
          "name": "stderr",
          "text": [
            "\r 37%|███▋      | 22/60 [01:39<02:28,  3.91s/it]"
          ]
        },
        {
          "output_type": "stream",
          "name": "stdout",
          "text": [
            "Epoch - 22 Valid-Loss : 1.2101245612313505 Valid-Accuracy : 0.675\n",
            "Epoch - 23 Train-Loss : 0.07655538209510268\n"
          ]
        },
        {
          "output_type": "stream",
          "name": "stderr",
          "text": [
            "\r 38%|███▊      | 23/60 [01:43<02:22,  3.85s/it]"
          ]
        },
        {
          "output_type": "stream",
          "name": "stdout",
          "text": [
            "Epoch - 23 Valid-Loss : 1.1880948377773166 Valid-Accuracy : 0.675\n",
            "Epoch - 24 Train-Loss : 0.10701181824551895\n"
          ]
        },
        {
          "output_type": "stream",
          "name": "stderr",
          "text": [
            "\r 40%|████      | 24/60 [01:46<02:17,  3.81s/it]"
          ]
        },
        {
          "output_type": "stream",
          "name": "stdout",
          "text": [
            "Epoch - 24 Valid-Loss : 1.195823784172535 Valid-Accuracy : 0.6875\n",
            "Epoch - 25 Train-Loss : 0.07171912879348383\n"
          ]
        },
        {
          "output_type": "stream",
          "name": "stderr",
          "text": [
            "\r 42%|████▏     | 25/60 [01:50<02:12,  3.78s/it]"
          ]
        },
        {
          "output_type": "stream",
          "name": "stdout",
          "text": [
            "Epoch - 25 Valid-Loss : 1.20731782913208 Valid-Accuracy : 0.675\n",
            "Epoch - 26 Train-Loss : 0.07569840559663135\n"
          ]
        },
        {
          "output_type": "stream",
          "name": "stderr",
          "text": [
            "\r 43%|████▎     | 26/60 [01:54<02:07,  3.76s/it]"
          ]
        },
        {
          "output_type": "stream",
          "name": "stdout",
          "text": [
            "Epoch - 26 Valid-Loss : 1.1933357201516628 Valid-Accuracy : 0.675\n",
            "Epoch - 27 Train-Loss : 0.07775809309387113\n"
          ]
        },
        {
          "output_type": "stream",
          "name": "stderr",
          "text": [
            "\r 45%|████▌     | 27/60 [01:57<02:03,  3.74s/it]"
          ]
        },
        {
          "output_type": "stream",
          "name": "stdout",
          "text": [
            "Epoch - 27 Valid-Loss : 1.1546794302761554 Valid-Accuracy : 0.7\n",
            "Epoch - 28 Train-Loss : 0.07116159031957067\n"
          ]
        },
        {
          "output_type": "stream",
          "name": "stderr",
          "text": [
            "\r 47%|████▋     | 28/60 [02:01<01:59,  3.74s/it]"
          ]
        },
        {
          "output_type": "stream",
          "name": "stdout",
          "text": [
            "Epoch - 28 Valid-Loss : 1.1634348352556116 Valid-Accuracy : 0.675\n",
            "Epoch - 29 Train-Loss : 0.08588073437003914\n"
          ]
        },
        {
          "output_type": "stream",
          "name": "stderr",
          "text": [
            "\r 48%|████▊     | 29/60 [02:05<01:55,  3.73s/it]"
          ]
        },
        {
          "output_type": "stream",
          "name": "stdout",
          "text": [
            "Epoch - 29 Valid-Loss : 1.236514870414976 Valid-Accuracy : 0.675\n",
            "Changed learning rate to 2.0000000000000002e-07\n",
            "Epoch - 30 Train-Loss : 0.09132441873116477\n"
          ]
        },
        {
          "output_type": "stream",
          "name": "stderr",
          "text": [
            "\r 50%|█████     | 30/60 [02:09<01:51,  3.73s/it]"
          ]
        },
        {
          "output_type": "stream",
          "name": "stdout",
          "text": [
            "Epoch - 30 Valid-Loss : 1.2420859768986703 Valid-Accuracy : 0.675\n",
            "Epoch - 31 Train-Loss : 0.0760097158870849\n"
          ]
        },
        {
          "output_type": "stream",
          "name": "stderr",
          "text": [
            "\r 52%|█████▏    | 31/60 [02:12<01:47,  3.72s/it]"
          ]
        },
        {
          "output_type": "stream",
          "name": "stdout",
          "text": [
            "Epoch - 31 Valid-Loss : 1.2311554508283735 Valid-Accuracy : 0.675\n",
            "Epoch - 32 Train-Loss : 0.07393318749855098\n"
          ]
        },
        {
          "output_type": "stream",
          "name": "stderr",
          "text": [
            "\r 53%|█████▎    | 32/60 [02:16<01:44,  3.73s/it]"
          ]
        },
        {
          "output_type": "stream",
          "name": "stdout",
          "text": [
            "Epoch - 32 Valid-Loss : 1.2048763419268653 Valid-Accuracy : 0.6875\n",
            "Epoch - 33 Train-Loss : 0.0834596709071775\n"
          ]
        },
        {
          "output_type": "stream",
          "name": "stderr",
          "text": [
            "\r 55%|█████▌    | 33/60 [02:20<01:40,  3.73s/it]"
          ]
        },
        {
          "output_type": "stream",
          "name": "stdout",
          "text": [
            "Epoch - 33 Valid-Loss : 1.1400886574294418 Valid-Accuracy : 0.6875\n",
            "Epoch - 34 Train-Loss : 0.06205820193245017\n"
          ]
        },
        {
          "output_type": "stream",
          "name": "stderr",
          "text": [
            "\r 57%|█████▋    | 34/60 [02:24<01:36,  3.73s/it]"
          ]
        },
        {
          "output_type": "stream",
          "name": "stdout",
          "text": [
            "Epoch - 34 Valid-Loss : 1.2078559456393123 Valid-Accuracy : 0.675\n",
            "Epoch - 35 Train-Loss : 0.06771458813382196\n"
          ]
        },
        {
          "output_type": "stream",
          "name": "stderr",
          "text": [
            "\r 58%|█████▊    | 35/60 [02:27<01:33,  3.73s/it]"
          ]
        },
        {
          "output_type": "stream",
          "name": "stdout",
          "text": [
            "Epoch - 35 Valid-Loss : 1.1909025102853774 Valid-Accuracy : 0.675\n",
            "Epoch - 36 Train-Loss : 0.07594294528571481\n"
          ]
        },
        {
          "output_type": "stream",
          "name": "stderr",
          "text": [
            "\r 60%|██████    | 36/60 [02:31<01:29,  3.74s/it]"
          ]
        },
        {
          "output_type": "stream",
          "name": "stdout",
          "text": [
            "Epoch - 36 Valid-Loss : 1.2041524973697961 Valid-Accuracy : 0.6875\n",
            "Epoch - 37 Train-Loss : 0.06097629718969984\n"
          ]
        },
        {
          "output_type": "stream",
          "name": "stderr",
          "text": [
            "\r 62%|██████▏   | 37/60 [02:35<01:25,  3.74s/it]"
          ]
        },
        {
          "output_type": "stream",
          "name": "stdout",
          "text": [
            "Epoch - 37 Valid-Loss : 1.1826015666127205 Valid-Accuracy : 0.675\n",
            "Epoch - 38 Train-Loss : 0.10121080742392223\n"
          ]
        },
        {
          "output_type": "stream",
          "name": "stderr",
          "text": [
            "\r 63%|██████▎   | 38/60 [02:39<01:22,  3.74s/it]"
          ]
        },
        {
          "output_type": "stream",
          "name": "stdout",
          "text": [
            "Epoch - 38 Valid-Loss : 1.1669315446168185 Valid-Accuracy : 0.6875\n",
            "Epoch - 39 Train-Loss : 0.06834579603055317\n"
          ]
        },
        {
          "output_type": "stream",
          "name": "stderr",
          "text": [
            "\r 65%|██████▌   | 39/60 [02:42<01:18,  3.74s/it]"
          ]
        },
        {
          "output_type": "stream",
          "name": "stdout",
          "text": [
            "Epoch - 39 Valid-Loss : 1.2073859483003617 Valid-Accuracy : 0.6875\n",
            "Changed learning rate to 2e-08\n",
            "Epoch - 40 Train-Loss : 0.06159742112868116\n"
          ]
        },
        {
          "output_type": "stream",
          "name": "stderr",
          "text": [
            "\r 67%|██████▋   | 40/60 [02:46<01:14,  3.74s/it]"
          ]
        },
        {
          "output_type": "stream",
          "name": "stdout",
          "text": [
            "Epoch - 40 Valid-Loss : 1.1503571750596167 Valid-Accuracy : 0.675\n",
            "Epoch - 41 Train-Loss : 0.07529980827494001\n"
          ]
        },
        {
          "output_type": "stream",
          "name": "stderr",
          "text": [
            "\r 68%|██████▊   | 41/60 [02:50<01:11,  3.74s/it]"
          ]
        },
        {
          "output_type": "stream",
          "name": "stdout",
          "text": [
            "Epoch - 41 Valid-Loss : 1.1586137251462787 Valid-Accuracy : 0.6875\n",
            "Epoch - 42 Train-Loss : 0.06082385961226464\n"
          ]
        },
        {
          "output_type": "stream",
          "name": "stderr",
          "text": [
            "\r 70%|███████   | 42/60 [02:53<01:07,  3.74s/it]"
          ]
        },
        {
          "output_type": "stream",
          "name": "stdout",
          "text": [
            "Epoch - 42 Valid-Loss : 1.1792177237570285 Valid-Accuracy : 0.6875\n",
            "Epoch - 43 Train-Loss : 0.068966179445124\n"
          ]
        },
        {
          "output_type": "stream",
          "name": "stderr",
          "text": [
            "\r 72%|███████▏  | 43/60 [02:57<01:03,  3.74s/it]"
          ]
        },
        {
          "output_type": "stream",
          "name": "stdout",
          "text": [
            "Epoch - 43 Valid-Loss : 1.1976872310042381 Valid-Accuracy : 0.675\n",
            "Epoch - 44 Train-Loss : 0.07039405986433848\n"
          ]
        },
        {
          "output_type": "stream",
          "name": "stderr",
          "text": [
            "\r 73%|███████▎  | 44/60 [03:01<00:59,  3.75s/it]"
          ]
        },
        {
          "output_type": "stream",
          "name": "stdout",
          "text": [
            "Epoch - 44 Valid-Loss : 1.139041418582201 Valid-Accuracy : 0.6875\n",
            "Epoch - 45 Train-Loss : 0.06925518076168373\n"
          ]
        },
        {
          "output_type": "stream",
          "name": "stderr",
          "text": [
            "\r 75%|███████▌  | 45/60 [03:05<00:56,  3.74s/it]"
          ]
        },
        {
          "output_type": "stream",
          "name": "stdout",
          "text": [
            "Epoch - 45 Valid-Loss : 1.11426379554905 Valid-Accuracy : 0.7125\n",
            "Epoch - 46 Train-Loss : 0.07038487032696139\n"
          ]
        },
        {
          "output_type": "stream",
          "name": "stderr",
          "text": [
            "\r 77%|███████▋  | 46/60 [03:08<00:52,  3.74s/it]"
          ]
        },
        {
          "output_type": "stream",
          "name": "stdout",
          "text": [
            "Epoch - 46 Valid-Loss : 1.133808888681233 Valid-Accuracy : 0.6875\n",
            "Epoch - 47 Train-Loss : 0.07748952706497221\n"
          ]
        },
        {
          "output_type": "stream",
          "name": "stderr",
          "text": [
            "\r 78%|███████▊  | 47/60 [03:12<00:48,  3.75s/it]"
          ]
        },
        {
          "output_type": "stream",
          "name": "stdout",
          "text": [
            "Epoch - 47 Valid-Loss : 1.1659792106598617 Valid-Accuracy : 0.7\n",
            "Epoch - 48 Train-Loss : 0.06846977426321246\n"
          ]
        },
        {
          "output_type": "stream",
          "name": "stderr",
          "text": [
            "\r 80%|████████  | 48/60 [03:16<00:44,  3.75s/it]"
          ]
        },
        {
          "output_type": "stream",
          "name": "stdout",
          "text": [
            "Epoch - 48 Valid-Loss : 1.167129964567721 Valid-Accuracy : 0.6875\n",
            "Epoch - 49 Train-Loss : 0.09237117786251474\n"
          ]
        },
        {
          "output_type": "stream",
          "name": "stderr",
          "text": [
            "\r 82%|████████▏ | 49/60 [03:20<00:41,  3.75s/it]"
          ]
        },
        {
          "output_type": "stream",
          "name": "stdout",
          "text": [
            "Epoch - 49 Valid-Loss : 1.1553374844137578 Valid-Accuracy : 0.6875\n",
            "Changed learning rate to 2e-09\n",
            "Epoch - 50 Train-Loss : 0.1015486677849367\n"
          ]
        },
        {
          "output_type": "stream",
          "name": "stderr",
          "text": [
            "\r 83%|████████▎ | 50/60 [03:23<00:37,  3.75s/it]"
          ]
        },
        {
          "output_type": "stream",
          "name": "stdout",
          "text": [
            "Epoch - 50 Valid-Loss : 1.1566354209091514 Valid-Accuracy : 0.675\n",
            "Epoch - 51 Train-Loss : 0.06454044757265365\n"
          ]
        },
        {
          "output_type": "stream",
          "name": "stderr",
          "text": [
            "\r 85%|████████▌ | 51/60 [03:27<00:33,  3.75s/it]"
          ]
        },
        {
          "output_type": "stream",
          "name": "stdout",
          "text": [
            "Epoch - 51 Valid-Loss : 1.1729874648153782 Valid-Accuracy : 0.6875\n",
            "Epoch - 52 Train-Loss : 0.07122168903733836\n"
          ]
        },
        {
          "output_type": "stream",
          "name": "stderr",
          "text": [
            "\r 87%|████████▋ | 52/60 [03:31<00:29,  3.75s/it]"
          ]
        },
        {
          "output_type": "stream",
          "name": "stdout",
          "text": [
            "Epoch - 52 Valid-Loss : 1.1601107218069955 Valid-Accuracy : 0.6875\n",
            "Epoch - 53 Train-Loss : 0.08068023947525944\n"
          ]
        },
        {
          "output_type": "stream",
          "name": "stderr",
          "text": [
            "\r 88%|████████▊ | 53/60 [03:35<00:26,  3.74s/it]"
          ]
        },
        {
          "output_type": "stream",
          "name": "stdout",
          "text": [
            "Epoch - 53 Valid-Loss : 1.1819515753537417 Valid-Accuracy : 0.675\n",
            "Epoch - 54 Train-Loss : 0.07121343358230661\n"
          ]
        },
        {
          "output_type": "stream",
          "name": "stderr",
          "text": [
            "\r 90%|█████████ | 54/60 [03:38<00:22,  3.75s/it]"
          ]
        },
        {
          "output_type": "stream",
          "name": "stdout",
          "text": [
            "Epoch - 54 Valid-Loss : 1.1816440291702748 Valid-Accuracy : 0.675\n",
            "Epoch - 55 Train-Loss : 0.0544324862333724\n"
          ]
        },
        {
          "output_type": "stream",
          "name": "stderr",
          "text": [
            "\r 92%|█████████▏| 55/60 [03:42<00:18,  3.75s/it]"
          ]
        },
        {
          "output_type": "stream",
          "name": "stdout",
          "text": [
            "Epoch - 55 Valid-Loss : 1.1682399291254115 Valid-Accuracy : 0.6875\n",
            "Epoch - 56 Train-Loss : 0.07693879268863384\n"
          ]
        },
        {
          "output_type": "stream",
          "name": "stderr",
          "text": [
            "\r 93%|█████████▎| 56/60 [03:46<00:15,  3.75s/it]"
          ]
        },
        {
          "output_type": "stream",
          "name": "stdout",
          "text": [
            "Epoch - 56 Valid-Loss : 1.1955179994925857 Valid-Accuracy : 0.675\n",
            "Epoch - 57 Train-Loss : 0.07676352553680772\n"
          ]
        },
        {
          "output_type": "stream",
          "name": "stderr",
          "text": [
            "\r 95%|█████████▌| 57/60 [03:50<00:11,  3.77s/it]"
          ]
        },
        {
          "output_type": "stream",
          "name": "stdout",
          "text": [
            "Epoch - 57 Valid-Loss : 1.2604366876534185 Valid-Accuracy : 0.675\n",
            "Epoch - 58 Train-Loss : 0.0741199141364632\n"
          ]
        },
        {
          "output_type": "stream",
          "name": "stderr",
          "text": [
            "\r 97%|█████████▋| 58/60 [03:54<00:07,  3.76s/it]"
          ]
        },
        {
          "output_type": "stream",
          "name": "stdout",
          "text": [
            "Epoch - 58 Valid-Loss : 1.195100761204958 Valid-Accuracy : 0.6875\n",
            "Epoch - 59 Train-Loss : 0.07569937620100972\n"
          ]
        },
        {
          "output_type": "stream",
          "name": "stderr",
          "text": [
            "\r 98%|█████████▊| 59/60 [03:57<00:03,  3.76s/it]"
          ]
        },
        {
          "output_type": "stream",
          "name": "stdout",
          "text": [
            "Epoch - 59 Valid-Loss : 1.1719783302920406 Valid-Accuracy : 0.6875\n",
            "Changed learning rate to 2e-10\n",
            "Epoch - 60 Train-Loss : 0.06036309548362624\n"
          ]
        },
        {
          "output_type": "stream",
          "name": "stderr",
          "text": [
            "100%|██████████| 60/60 [04:01<00:00,  4.03s/it]"
          ]
        },
        {
          "output_type": "stream",
          "name": "stdout",
          "text": [
            "Epoch - 60 Valid-Loss : 1.194910854101181 Valid-Accuracy : 0.675\n"
          ]
        },
        {
          "output_type": "stream",
          "name": "stderr",
          "text": [
            "\n"
          ]
        }
      ]
    },
    {
      "cell_type": "code",
      "source": [
        "test_path = \"/content/drive/MyDrive/NTUCE_AI_worshop_0629/1-18757-A-4.wav\"\n",
        "test_data = spec_to_image(get_melspectrogram_db(test_path))\n"
      ],
      "metadata": {
        "id": "XDq_VuVzW0U9"
      },
      "execution_count": null,
      "outputs": []
    },
    {
      "cell_type": "code",
      "source": [
        "with open('indtocat.pkl','rb') as f:\n",
        "  indtocat = pickle.load(f)"
      ],
      "metadata": {
        "id": "4nZlaHRY4Vf4"
      },
      "execution_count": null,
      "outputs": []
    },
    {
      "cell_type": "code",
      "source": [
        "indtocat"
      ],
      "metadata": {
        "colab": {
          "base_uri": "https://localhost:8080/"
        },
        "id": "EfB7MC9W2sC7",
        "outputId": "432901c5-0013-4dfd-f2e0-81257637d757"
      },
      "execution_count": null,
      "outputs": [
        {
          "output_type": "execute_result",
          "data": {
            "text/plain": [
              "{0: 'cat',\n",
              " 1: 'cow',\n",
              " 2: 'crow',\n",
              " 3: 'dog',\n",
              " 4: 'frog',\n",
              " 5: 'hen',\n",
              " 6: 'insects',\n",
              " 7: 'pig',\n",
              " 8: 'rooster',\n",
              " 9: 'sheep'}"
            ]
          },
          "metadata": {},
          "execution_count": 14
        }
      ]
    },
    {
      "cell_type": "code",
      "source": [
        "model_.eval()\n",
        "spec_t = torch.tensor(test_data).to(device, dtype=torch.float32)\n",
        "pr = model_.forward(spec_t.reshape(1,1,*spec_t.shape))\n",
        "print(pr)\n",
        "\n",
        "ind = pr.argmax(dim=1).cpu().detach().numpy().ravel()[0]\n",
        "print(indtocat[ind])"
      ],
      "metadata": {
        "colab": {
          "base_uri": "https://localhost:8080/"
        },
        "id": "2EjyTUTh2n66",
        "outputId": "1443d316-d76f-4e30-e02f-c356d08eb85e"
      },
      "execution_count": null,
      "outputs": [
        {
          "output_type": "stream",
          "name": "stdout",
          "text": [
            "tensor([[ -1.9977,  -7.4264,   2.2421,   3.6151,  14.4480,   1.8496, -10.2308,\n",
            "           1.9156,   0.1999,  -6.0684]], device='cuda:0',\n",
            "       grad_fn=<AddmmBackward0>)\n",
            "frog\n"
          ]
        }
      ]
    },
    {
      "cell_type": "markdown",
      "source": [
        "Utilize the prtrained torchvision model"
      ],
      "metadata": {
        "id": "L67Y_WfWW1VE"
      }
    },
    {
      "cell_type": "code",
      "source": [
        "from torchvision.models import resnet34\n",
        "\n",
        "resnet_model = resnet34(pretrained=True)\n",
        "resnet_model.fc = nn.Linear(512,10)\n",
        "resnet_model.conv1 = nn.Conv2d(1, 64, kernel_size=(7, 7), stride=(2, 2), padding=(3, 3), bias=False)\n",
        "resnet_model = resnet_model.to(device)"
      ],
      "metadata": {
        "colab": {
          "base_uri": "https://localhost:8080/"
        },
        "id": "eNnu8Wer5ipu",
        "outputId": "d0813f1e-44bd-40b3-9016-ef9efde95cdc"
      },
      "execution_count": null,
      "outputs": [
        {
          "output_type": "stream",
          "name": "stderr",
          "text": [
            "/usr/local/lib/python3.10/dist-packages/torchvision/models/_utils.py:208: UserWarning: The parameter 'pretrained' is deprecated since 0.13 and may be removed in the future, please use 'weights' instead.\n",
            "  warnings.warn(\n",
            "/usr/local/lib/python3.10/dist-packages/torchvision/models/_utils.py:223: UserWarning: Arguments other than a weight enum or `None` for 'weights' are deprecated since 0.13 and may be removed in the future. The current behavior is equivalent to passing `weights=ResNet34_Weights.IMAGENET1K_V1`. You can also use `weights=ResNet34_Weights.DEFAULT` to get the most up-to-date weights.\n",
            "  warnings.warn(msg)\n"
          ]
        }
      ]
    },
    {
      "cell_type": "code",
      "source": [
        "learning_rate = 2e-4\n",
        "optimizer = optim.Adam(resnet_model.parameters(), lr=learning_rate)\n",
        "epochs = 60\n",
        "loss_fn = nn.CrossEntropyLoss()\n",
        "resnet_train_losses=[]\n",
        "resnet_valid_losses=[]\n",
        "\n",
        "model_res = train(resnet_model, loss_fn, train_loader, valid_loader, epochs, optimizer, resnet_train_losses, resnet_valid_losses, lr_decay)\n",
        "torch.save(model_res, \"/content/drive/MyDrive/NTUCE_AI_worshop_0629/demo_resnet.pth\")"
      ],
      "metadata": {
        "colab": {
          "base_uri": "https://localhost:8080/"
        },
        "id": "9NbPpiMi6Atu",
        "outputId": "55df9945-94de-43a3-b3ec-efd021a5dc2e"
      },
      "execution_count": null,
      "outputs": [
        {
          "output_type": "stream",
          "name": "stderr",
          "text": [
            "\r  0%|          | 0/60 [00:00<?, ?it/s]"
          ]
        },
        {
          "output_type": "stream",
          "name": "stdout",
          "text": [
            "Epoch - 1 Train-Loss : 1.5688763864338398\n",
            "Epoch - 1 Valid-Loss : 0.8573809742927552 Valid-Accuracy : 0.7375\n"
          ]
        },
        {
          "output_type": "stream",
          "name": "stderr",
          "text": [
            "\r  2%|▏         | 1/60 [00:03<03:45,  3.83s/it]"
          ]
        },
        {
          "output_type": "stream",
          "name": "stdout",
          "text": [
            "Epoch - 2 Train-Loss : 0.7663656551390886\n",
            "Epoch - 2 Valid-Loss : 0.526629748288542 Valid-Accuracy : 0.8375\n"
          ]
        },
        {
          "output_type": "stream",
          "name": "stderr",
          "text": [
            "\r  3%|▎         | 2/60 [00:07<03:37,  3.75s/it]"
          ]
        },
        {
          "output_type": "stream",
          "name": "stdout",
          "text": [
            "Epoch - 3 Train-Loss : 0.5045787865296006\n",
            "Epoch - 3 Valid-Loss : 0.5174542079679668 Valid-Accuracy : 0.8625\n"
          ]
        },
        {
          "output_type": "stream",
          "name": "stderr",
          "text": [
            "\r  5%|▌         | 3/60 [00:10<03:24,  3.60s/it]"
          ]
        },
        {
          "output_type": "stream",
          "name": "stdout",
          "text": [
            "Epoch - 4 Train-Loss : 0.3635936779435724\n"
          ]
        },
        {
          "output_type": "stream",
          "name": "stderr",
          "text": [
            "\r  7%|▋         | 4/60 [00:14<03:09,  3.39s/it]"
          ]
        },
        {
          "output_type": "stream",
          "name": "stdout",
          "text": [
            "Epoch - 4 Valid-Loss : 0.5705091351876035 Valid-Accuracy : 0.8375\n",
            "Epoch - 5 Train-Loss : 0.3626438620965928\n"
          ]
        },
        {
          "output_type": "stream",
          "name": "stderr",
          "text": [
            "\r  8%|▊         | 5/60 [00:17<03:00,  3.29s/it]"
          ]
        },
        {
          "output_type": "stream",
          "name": "stdout",
          "text": [
            "Epoch - 5 Valid-Loss : 0.4445588522357866 Valid-Accuracy : 0.8625\n",
            "Epoch - 6 Train-Loss : 0.28120747609063984\n"
          ]
        },
        {
          "output_type": "stream",
          "name": "stderr",
          "text": [
            "\r 10%|█         | 6/60 [00:20<02:55,  3.25s/it]"
          ]
        },
        {
          "output_type": "stream",
          "name": "stdout",
          "text": [
            "Epoch - 6 Valid-Loss : 0.5264101419597864 Valid-Accuracy : 0.825\n",
            "Epoch - 7 Train-Loss : 0.2875570555916056\n"
          ]
        },
        {
          "output_type": "stream",
          "name": "stderr",
          "text": [
            "\r 12%|█▏        | 7/60 [00:23<02:49,  3.19s/it]"
          ]
        },
        {
          "output_type": "stream",
          "name": "stdout",
          "text": [
            "Epoch - 7 Valid-Loss : 0.6077893340960145 Valid-Accuracy : 0.825\n",
            "Epoch - 8 Train-Loss : 0.23769542850204745\n"
          ]
        },
        {
          "output_type": "stream",
          "name": "stderr",
          "text": [
            "\r 13%|█▎        | 8/60 [00:26<02:43,  3.15s/it]"
          ]
        },
        {
          "output_type": "stream",
          "name": "stdout",
          "text": [
            "Epoch - 8 Valid-Loss : 0.5865228373149876 Valid-Accuracy : 0.825\n",
            "Epoch - 9 Train-Loss : 0.12514966373564676\n"
          ]
        },
        {
          "output_type": "stream",
          "name": "stderr",
          "text": [
            "\r 15%|█▌        | 9/60 [00:29<02:38,  3.11s/it]"
          ]
        },
        {
          "output_type": "stream",
          "name": "stdout",
          "text": [
            "Epoch - 9 Valid-Loss : 0.48310006824322044 Valid-Accuracy : 0.8375\n",
            "Changed learning rate to 2e-05\n",
            "Epoch - 10 Train-Loss : 0.1684544420102611\n",
            "Epoch - 10 Valid-Loss : 0.37660761071601884 Valid-Accuracy : 0.875\n"
          ]
        },
        {
          "output_type": "stream",
          "name": "stderr",
          "text": [
            "\r 17%|█▋        | 10/60 [00:33<02:43,  3.27s/it]"
          ]
        },
        {
          "output_type": "stream",
          "name": "stdout",
          "text": [
            "Epoch - 11 Train-Loss : 0.10716986721381545\n"
          ]
        },
        {
          "output_type": "stream",
          "name": "stderr",
          "text": [
            "\r 18%|█▊        | 11/60 [00:36<02:37,  3.21s/it]"
          ]
        },
        {
          "output_type": "stream",
          "name": "stdout",
          "text": [
            "Epoch - 11 Valid-Loss : 0.37581212979275735 Valid-Accuracy : 0.85\n",
            "Epoch - 12 Train-Loss : 0.10481870602234267\n"
          ]
        },
        {
          "output_type": "stream",
          "name": "stderr",
          "text": [
            "\r 20%|██        | 12/60 [00:39<02:31,  3.16s/it]"
          ]
        },
        {
          "output_type": "stream",
          "name": "stdout",
          "text": [
            "Epoch - 12 Valid-Loss : 0.3298530480940826 Valid-Accuracy : 0.8625\n",
            "Epoch - 13 Train-Loss : 0.12843201236100868\n"
          ]
        },
        {
          "output_type": "stream",
          "name": "stderr",
          "text": [
            "\r 22%|██▏       | 13/60 [00:42<02:26,  3.12s/it]"
          ]
        },
        {
          "output_type": "stream",
          "name": "stdout",
          "text": [
            "Epoch - 13 Valid-Loss : 0.3641399937681854 Valid-Accuracy : 0.8375\n",
            "Epoch - 14 Train-Loss : 0.11646812914987095\n",
            "Epoch - 14 Valid-Loss : 0.3477646114741219 Valid-Accuracy : 0.9\n"
          ]
        },
        {
          "output_type": "stream",
          "name": "stderr",
          "text": [
            "\r 23%|██▎       | 14/60 [00:45<02:28,  3.23s/it]"
          ]
        },
        {
          "output_type": "stream",
          "name": "stdout",
          "text": [
            "Epoch - 15 Train-Loss : 0.09751414356287569\n"
          ]
        },
        {
          "output_type": "stream",
          "name": "stderr",
          "text": [
            "\r 25%|██▌       | 15/60 [00:48<02:22,  3.17s/it]"
          ]
        },
        {
          "output_type": "stream",
          "name": "stdout",
          "text": [
            "Epoch - 15 Valid-Loss : 0.3981098561664112 Valid-Accuracy : 0.85\n",
            "Epoch - 16 Train-Loss : 0.10164756387239322\n"
          ]
        },
        {
          "output_type": "stream",
          "name": "stderr",
          "text": [
            "\r 27%|██▋       | 16/60 [00:51<02:17,  3.13s/it]"
          ]
        },
        {
          "output_type": "stream",
          "name": "stdout",
          "text": [
            "Epoch - 16 Valid-Loss : 0.368286284385249 Valid-Accuracy : 0.875\n",
            "Epoch - 17 Train-Loss : 0.08883054063189774\n"
          ]
        },
        {
          "output_type": "stream",
          "name": "stderr",
          "text": [
            "\r 28%|██▊       | 17/60 [00:54<02:13,  3.10s/it]"
          ]
        },
        {
          "output_type": "stream",
          "name": "stdout",
          "text": [
            "Epoch - 17 Valid-Loss : 0.3440846582001541 Valid-Accuracy : 0.9\n",
            "Epoch - 18 Train-Loss : 0.12639214964001438\n"
          ]
        },
        {
          "output_type": "stream",
          "name": "stderr",
          "text": [
            "\r 30%|███       | 18/60 [00:57<02:10,  3.10s/it]"
          ]
        },
        {
          "output_type": "stream",
          "name": "stdout",
          "text": [
            "Epoch - 18 Valid-Loss : 0.38414780944294763 Valid-Accuracy : 0.875\n",
            "Epoch - 19 Train-Loss : 0.07188855044951196\n"
          ]
        },
        {
          "output_type": "stream",
          "name": "stderr",
          "text": [
            "\r 32%|███▏      | 19/60 [01:00<02:06,  3.09s/it]"
          ]
        },
        {
          "output_type": "stream",
          "name": "stdout",
          "text": [
            "Epoch - 19 Valid-Loss : 0.2606477632318274 Valid-Accuracy : 0.9\n",
            "Changed learning rate to 2e-06\n",
            "Epoch - 20 Train-Loss : 0.057724826934281735\n",
            "Epoch - 20 Valid-Loss : 0.28650603409041653 Valid-Accuracy : 0.925\n"
          ]
        },
        {
          "output_type": "stream",
          "name": "stderr",
          "text": [
            "\r 33%|███▎      | 20/60 [01:04<02:05,  3.14s/it]"
          ]
        },
        {
          "output_type": "stream",
          "name": "stdout",
          "text": [
            "Epoch - 21 Train-Loss : 0.05613580776262097\n"
          ]
        },
        {
          "output_type": "stream",
          "name": "stderr",
          "text": [
            "\r 35%|███▌      | 21/60 [01:07<02:01,  3.11s/it]"
          ]
        },
        {
          "output_type": "stream",
          "name": "stdout",
          "text": [
            "Epoch - 21 Valid-Loss : 0.28029144610336515 Valid-Accuracy : 0.9125\n",
            "Epoch - 22 Train-Loss : 0.07104191922408062\n"
          ]
        },
        {
          "output_type": "stream",
          "name": "stderr",
          "text": [
            "\r 37%|███▋      | 22/60 [01:10<01:57,  3.08s/it]"
          ]
        },
        {
          "output_type": "stream",
          "name": "stdout",
          "text": [
            "Epoch - 22 Valid-Loss : 0.26429343660711313 Valid-Accuracy : 0.925\n",
            "Epoch - 23 Train-Loss : 0.06314043001038953\n"
          ]
        },
        {
          "output_type": "stream",
          "name": "stderr",
          "text": [
            "\r 38%|███▊      | 23/60 [01:13<01:54,  3.08s/it]"
          ]
        },
        {
          "output_type": "stream",
          "name": "stdout",
          "text": [
            "Epoch - 23 Valid-Loss : 0.25129013203841166 Valid-Accuracy : 0.925\n",
            "Epoch - 24 Train-Loss : 0.0544101741805207\n"
          ]
        },
        {
          "output_type": "stream",
          "name": "stderr",
          "text": [
            "\r 40%|████      | 24/60 [01:16<01:51,  3.09s/it]"
          ]
        },
        {
          "output_type": "stream",
          "name": "stdout",
          "text": [
            "Epoch - 24 Valid-Loss : 0.2813809419050813 Valid-Accuracy : 0.8875\n",
            "Epoch - 25 Train-Loss : 0.06625151406333316\n"
          ]
        },
        {
          "output_type": "stream",
          "name": "stderr",
          "text": [
            "\r 42%|████▏     | 25/60 [01:19<01:47,  3.07s/it]"
          ]
        },
        {
          "output_type": "stream",
          "name": "stdout",
          "text": [
            "Epoch - 25 Valid-Loss : 0.2760508062900044 Valid-Accuracy : 0.9125\n",
            "Epoch - 26 Train-Loss : 0.0582008753583068\n"
          ]
        },
        {
          "output_type": "stream",
          "name": "stderr",
          "text": [
            "\r 43%|████▎     | 26/60 [01:22<01:43,  3.06s/it]"
          ]
        },
        {
          "output_type": "stream",
          "name": "stdout",
          "text": [
            "Epoch - 26 Valid-Loss : 0.30684875932201977 Valid-Accuracy : 0.8875\n",
            "Epoch - 27 Train-Loss : 0.06068164095049724\n"
          ]
        },
        {
          "output_type": "stream",
          "name": "stderr",
          "text": [
            "\r 45%|████▌     | 27/60 [01:25<01:40,  3.05s/it]"
          ]
        },
        {
          "output_type": "stream",
          "name": "stdout",
          "text": [
            "Epoch - 27 Valid-Loss : 0.2703261337359436 Valid-Accuracy : 0.925\n",
            "Epoch - 28 Train-Loss : 0.06602762141847052\n"
          ]
        },
        {
          "output_type": "stream",
          "name": "stderr",
          "text": [
            "\r 47%|████▋     | 28/60 [01:28<01:37,  3.05s/it]"
          ]
        },
        {
          "output_type": "stream",
          "name": "stdout",
          "text": [
            "Epoch - 28 Valid-Loss : 0.23782231346995103 Valid-Accuracy : 0.925\n",
            "Epoch - 29 Train-Loss : 0.06734812322829384\n"
          ]
        },
        {
          "output_type": "stream",
          "name": "stderr",
          "text": [
            "\r 48%|████▊     | 29/60 [01:31<01:34,  3.04s/it]"
          ]
        },
        {
          "output_type": "stream",
          "name": "stdout",
          "text": [
            "Epoch - 29 Valid-Loss : 0.3060972036793828 Valid-Accuracy : 0.925\n",
            "Changed learning rate to 2.0000000000000002e-07\n",
            "Epoch - 30 Train-Loss : 0.08714995815535076\n"
          ]
        },
        {
          "output_type": "stream",
          "name": "stderr",
          "text": [
            "\r 50%|█████     | 30/60 [01:34<01:31,  3.04s/it]"
          ]
        },
        {
          "output_type": "stream",
          "name": "stdout",
          "text": [
            "Epoch - 30 Valid-Loss : 0.2955343852227088 Valid-Accuracy : 0.9125\n",
            "Epoch - 31 Train-Loss : 0.06466388176195323\n"
          ]
        },
        {
          "output_type": "stream",
          "name": "stderr",
          "text": [
            "\r 52%|█████▏    | 31/60 [01:37<01:28,  3.04s/it]"
          ]
        },
        {
          "output_type": "stream",
          "name": "stdout",
          "text": [
            "Epoch - 31 Valid-Loss : 0.34177953779581005 Valid-Accuracy : 0.9\n",
            "Epoch - 32 Train-Loss : 0.06569915185973514\n"
          ]
        },
        {
          "output_type": "stream",
          "name": "stderr",
          "text": [
            "\r 53%|█████▎    | 32/60 [01:40<01:25,  3.04s/it]"
          ]
        },
        {
          "output_type": "stream",
          "name": "stdout",
          "text": [
            "Epoch - 32 Valid-Loss : 0.29442135386634616 Valid-Accuracy : 0.9125\n",
            "Epoch - 33 Train-Loss : 0.05226858004461974\n"
          ]
        },
        {
          "output_type": "stream",
          "name": "stderr",
          "text": [
            "\r 55%|█████▌    | 33/60 [01:43<01:22,  3.04s/it]"
          ]
        },
        {
          "output_type": "stream",
          "name": "stdout",
          "text": [
            "Epoch - 33 Valid-Loss : 0.2937493132980308 Valid-Accuracy : 0.9125\n",
            "Epoch - 34 Train-Loss : 0.08805586268135812\n"
          ]
        },
        {
          "output_type": "stream",
          "name": "stderr",
          "text": [
            "\r 57%|█████▋    | 34/60 [01:46<01:18,  3.04s/it]"
          ]
        },
        {
          "output_type": "stream",
          "name": "stdout",
          "text": [
            "Epoch - 34 Valid-Loss : 0.29980594721855597 Valid-Accuracy : 0.9125\n",
            "Epoch - 35 Train-Loss : 0.05074376208067406\n"
          ]
        },
        {
          "output_type": "stream",
          "name": "stderr",
          "text": [
            "\r 58%|█████▊    | 35/60 [01:49<01:15,  3.03s/it]"
          ]
        },
        {
          "output_type": "stream",
          "name": "stdout",
          "text": [
            "Epoch - 35 Valid-Loss : 0.3047643273603171 Valid-Accuracy : 0.925\n",
            "Epoch - 36 Train-Loss : 0.08643085185030941\n"
          ]
        },
        {
          "output_type": "stream",
          "name": "stderr",
          "text": [
            "\r 60%|██████    | 36/60 [01:52<01:12,  3.04s/it]"
          ]
        },
        {
          "output_type": "stream",
          "name": "stdout",
          "text": [
            "Epoch - 36 Valid-Loss : 0.2311479528871132 Valid-Accuracy : 0.925\n",
            "Epoch - 37 Train-Loss : 0.0488860298471991\n"
          ]
        },
        {
          "output_type": "stream",
          "name": "stderr",
          "text": [
            "\r 62%|██████▏   | 37/60 [01:56<01:15,  3.29s/it]"
          ]
        },
        {
          "output_type": "stream",
          "name": "stdout",
          "text": [
            "Epoch - 37 Valid-Loss : 0.3299933301168494 Valid-Accuracy : 0.9\n",
            "Epoch - 38 Train-Loss : 0.041124470697832295\n"
          ]
        },
        {
          "output_type": "stream",
          "name": "stderr",
          "text": [
            "\r 63%|██████▎   | 38/60 [01:59<01:10,  3.21s/it]"
          ]
        },
        {
          "output_type": "stream",
          "name": "stdout",
          "text": [
            "Epoch - 38 Valid-Loss : 0.31122961940709504 Valid-Accuracy : 0.9125\n",
            "Epoch - 39 Train-Loss : 0.06918281805992592\n"
          ]
        },
        {
          "output_type": "stream",
          "name": "stderr",
          "text": [
            "\r 65%|██████▌   | 39/60 [02:02<01:06,  3.16s/it]"
          ]
        },
        {
          "output_type": "stream",
          "name": "stdout",
          "text": [
            "Epoch - 39 Valid-Loss : 0.32246233185287565 Valid-Accuracy : 0.9\n",
            "Changed learning rate to 2e-08\n",
            "Epoch - 40 Train-Loss : 0.05626256435643882\n"
          ]
        },
        {
          "output_type": "stream",
          "name": "stderr",
          "text": [
            "\r 67%|██████▋   | 40/60 [02:05<01:02,  3.12s/it]"
          ]
        },
        {
          "output_type": "stream",
          "name": "stdout",
          "text": [
            "Epoch - 40 Valid-Loss : 0.2796557418012526 Valid-Accuracy : 0.9125\n",
            "Epoch - 41 Train-Loss : 0.0683880128141027\n"
          ]
        },
        {
          "output_type": "stream",
          "name": "stderr",
          "text": [
            "\r 68%|██████▊   | 41/60 [02:08<00:58,  3.10s/it]"
          ]
        },
        {
          "output_type": "stream",
          "name": "stdout",
          "text": [
            "Epoch - 41 Valid-Loss : 0.30810016817995345 Valid-Accuracy : 0.9125\n",
            "Epoch - 42 Train-Loss : 0.07899005315557588\n"
          ]
        },
        {
          "output_type": "stream",
          "name": "stderr",
          "text": [
            "\r 70%|███████   | 42/60 [02:11<00:55,  3.08s/it]"
          ]
        },
        {
          "output_type": "stream",
          "name": "stdout",
          "text": [
            "Epoch - 42 Valid-Loss : 0.2871694725501584 Valid-Accuracy : 0.9125\n",
            "Epoch - 43 Train-Loss : 0.05274375731532928\n"
          ]
        },
        {
          "output_type": "stream",
          "name": "stderr",
          "text": [
            "\r 72%|███████▏  | 43/60 [02:14<00:52,  3.06s/it]"
          ]
        },
        {
          "output_type": "stream",
          "name": "stdout",
          "text": [
            "Epoch - 43 Valid-Loss : 0.3177440739236772 Valid-Accuracy : 0.9125\n",
            "Epoch - 44 Train-Loss : 0.06982887983613181\n"
          ]
        },
        {
          "output_type": "stream",
          "name": "stderr",
          "text": [
            "\r 73%|███████▎  | 44/60 [02:18<00:48,  3.05s/it]"
          ]
        },
        {
          "output_type": "stream",
          "name": "stdout",
          "text": [
            "Epoch - 44 Valid-Loss : 0.35552229328313845 Valid-Accuracy : 0.9\n",
            "Epoch - 45 Train-Loss : 0.0492479201144306\n"
          ]
        },
        {
          "output_type": "stream",
          "name": "stderr",
          "text": [
            "\r 75%|███████▌  | 45/60 [02:21<00:45,  3.06s/it]"
          ]
        },
        {
          "output_type": "stream",
          "name": "stdout",
          "text": [
            "Epoch - 45 Valid-Loss : 0.3076129746623337 Valid-Accuracy : 0.8875\n",
            "Epoch - 46 Train-Loss : 0.09234648623969406\n"
          ]
        },
        {
          "output_type": "stream",
          "name": "stderr",
          "text": [
            "\r 77%|███████▋  | 46/60 [02:24<00:42,  3.05s/it]"
          ]
        },
        {
          "output_type": "stream",
          "name": "stdout",
          "text": [
            "Epoch - 46 Valid-Loss : 0.31964953341521324 Valid-Accuracy : 0.9\n",
            "Epoch - 47 Train-Loss : 0.09436033187957946\n"
          ]
        },
        {
          "output_type": "stream",
          "name": "stderr",
          "text": [
            "\r 78%|███████▊  | 47/60 [02:27<00:39,  3.05s/it]"
          ]
        },
        {
          "output_type": "stream",
          "name": "stdout",
          "text": [
            "Epoch - 47 Valid-Loss : 0.2793412616592832 Valid-Accuracy : 0.925\n",
            "Epoch - 48 Train-Loss : 0.07788603347726167\n"
          ]
        },
        {
          "output_type": "stream",
          "name": "stderr",
          "text": [
            "\r 80%|████████  | 48/60 [02:30<00:36,  3.04s/it]"
          ]
        },
        {
          "output_type": "stream",
          "name": "stdout",
          "text": [
            "Epoch - 48 Valid-Loss : 0.27144864898873494 Valid-Accuracy : 0.925\n",
            "Epoch - 49 Train-Loss : 0.06341691737179644\n"
          ]
        },
        {
          "output_type": "stream",
          "name": "stderr",
          "text": [
            "\r 82%|████████▏ | 49/60 [02:33<00:33,  3.04s/it]"
          ]
        },
        {
          "output_type": "stream",
          "name": "stdout",
          "text": [
            "Epoch - 49 Valid-Loss : 0.29616908571551903 Valid-Accuracy : 0.9\n",
            "Changed learning rate to 2e-09\n",
            "Epoch - 50 Train-Loss : 0.06274819987593219\n"
          ]
        },
        {
          "output_type": "stream",
          "name": "stderr",
          "text": [
            "\r 83%|████████▎ | 50/60 [02:36<00:30,  3.05s/it]"
          ]
        },
        {
          "output_type": "stream",
          "name": "stdout",
          "text": [
            "Epoch - 50 Valid-Loss : 0.2709925149800256 Valid-Accuracy : 0.9\n",
            "Epoch - 51 Train-Loss : 0.04374350992438849\n"
          ]
        },
        {
          "output_type": "stream",
          "name": "stderr",
          "text": [
            "\r 85%|████████▌ | 51/60 [02:39<00:27,  3.05s/it]"
          ]
        },
        {
          "output_type": "stream",
          "name": "stdout",
          "text": [
            "Epoch - 51 Valid-Loss : 0.30485767592908813 Valid-Accuracy : 0.9125\n",
            "Epoch - 52 Train-Loss : 0.08009618000069167\n"
          ]
        },
        {
          "output_type": "stream",
          "name": "stderr",
          "text": [
            "\r 87%|████████▋ | 52/60 [02:42<00:24,  3.04s/it]"
          ]
        },
        {
          "output_type": "stream",
          "name": "stdout",
          "text": [
            "Epoch - 52 Valid-Loss : 0.31830754820257423 Valid-Accuracy : 0.9125\n",
            "Epoch - 53 Train-Loss : 0.05995595224958379\n"
          ]
        },
        {
          "output_type": "stream",
          "name": "stderr",
          "text": [
            "\r 88%|████████▊ | 53/60 [02:45<00:21,  3.09s/it]"
          ]
        },
        {
          "output_type": "stream",
          "name": "stdout",
          "text": [
            "Epoch - 53 Valid-Loss : 0.30217412624042483 Valid-Accuracy : 0.9125\n",
            "Epoch - 54 Train-Loss : 0.04980100480897818\n"
          ]
        },
        {
          "output_type": "stream",
          "name": "stderr",
          "text": [
            "\r 90%|█████████ | 54/60 [02:48<00:18,  3.09s/it]"
          ]
        },
        {
          "output_type": "stream",
          "name": "stdout",
          "text": [
            "Epoch - 54 Valid-Loss : 0.3324837021064013 Valid-Accuracy : 0.9125\n",
            "Epoch - 55 Train-Loss : 0.057382458818028684\n"
          ]
        },
        {
          "output_type": "stream",
          "name": "stderr",
          "text": [
            "\r 92%|█████████▏| 55/60 [02:51<00:15,  3.07s/it]"
          ]
        },
        {
          "output_type": "stream",
          "name": "stdout",
          "text": [
            "Epoch - 55 Valid-Loss : 0.27941938327858223 Valid-Accuracy : 0.9125\n",
            "Epoch - 56 Train-Loss : 0.08015390854561702\n"
          ]
        },
        {
          "output_type": "stream",
          "name": "stderr",
          "text": [
            "\r 93%|█████████▎| 56/60 [02:54<00:12,  3.06s/it]"
          ]
        },
        {
          "output_type": "stream",
          "name": "stdout",
          "text": [
            "Epoch - 56 Valid-Loss : 0.29140656447270885 Valid-Accuracy : 0.9\n",
            "Epoch - 57 Train-Loss : 0.05225558344973251\n"
          ]
        },
        {
          "output_type": "stream",
          "name": "stderr",
          "text": [
            "\r 95%|█████████▌| 57/60 [02:57<00:09,  3.06s/it]"
          ]
        },
        {
          "output_type": "stream",
          "name": "stdout",
          "text": [
            "Epoch - 57 Valid-Loss : 0.34258092413656416 Valid-Accuracy : 0.9125\n",
            "Epoch - 58 Train-Loss : 0.09169285573298111\n"
          ]
        },
        {
          "output_type": "stream",
          "name": "stderr",
          "text": [
            "\r 97%|█████████▋| 58/60 [03:00<00:06,  3.06s/it]"
          ]
        },
        {
          "output_type": "stream",
          "name": "stdout",
          "text": [
            "Epoch - 58 Valid-Loss : 0.304550259798998 Valid-Accuracy : 0.9125\n",
            "Epoch - 59 Train-Loss : 0.10026359476323705\n"
          ]
        },
        {
          "output_type": "stream",
          "name": "stderr",
          "text": [
            "\r 98%|█████████▊| 59/60 [03:03<00:03,  3.05s/it]"
          ]
        },
        {
          "output_type": "stream",
          "name": "stdout",
          "text": [
            "Epoch - 59 Valid-Loss : 0.2731340953207109 Valid-Accuracy : 0.9\n",
            "Changed learning rate to 2e-10\n",
            "Epoch - 60 Train-Loss : 0.09968608622439205\n"
          ]
        },
        {
          "output_type": "stream",
          "name": "stderr",
          "text": [
            "100%|██████████| 60/60 [03:06<00:00,  3.12s/it]"
          ]
        },
        {
          "output_type": "stream",
          "name": "stdout",
          "text": [
            "Epoch - 60 Valid-Loss : 0.27116550093051045 Valid-Accuracy : 0.925\n"
          ]
        },
        {
          "output_type": "stream",
          "name": "stderr",
          "text": [
            "\n"
          ]
        }
      ]
    },
    {
      "cell_type": "code",
      "source": [
        "model_res.eval()\n",
        "pr = model_res.forward(spec_t.reshape(1,1,*spec_t.shape))\n",
        "print(pr)\n",
        "\n",
        "ind = pr.argmax(dim=1).cpu().detach().numpy().ravel()[0]\n",
        "print(indtocat[ind])"
      ],
      "metadata": {
        "colab": {
          "base_uri": "https://localhost:8080/"
        },
        "id": "BgflG1R76FVR",
        "outputId": "220b4074-dbe1-46c3-f3a0-d64bab42cda2"
      },
      "execution_count": null,
      "outputs": [
        {
          "output_type": "stream",
          "name": "stdout",
          "text": [
            "tensor([[-1.9101, -2.7312, -0.9272, -1.6028, 10.2817,  0.0989, -2.5776, -1.2754,\n",
            "         -3.8266, -2.2465]], device='cuda:0', grad_fn=<AddmmBackward0>)\n",
            "frog\n"
          ]
        }
      ]
    },
    {
      "cell_type": "markdown",
      "source": [
        "Check paramter number for both models"
      ],
      "metadata": {
        "id": "tbnoKiQ1Ci33"
      }
    },
    {
      "cell_type": "code",
      "source": [
        "# for the custom model\n",
        "total_params = sum(\n",
        "\tparam.numel() for param in model_.parameters()\n",
        ")\n",
        "trainable_params = sum(\n",
        "\tp.numel() for p in model_.parameters() if p.requires_grad\n",
        ")\n",
        "print(\"-----Our model------\")\n",
        "print(\"Total parameter number: \", total_params)\n",
        "print(\"Trainable parameter number: \", trainable_params)\n",
        "\n",
        "# for the resnet model\n",
        "total_params = sum(\n",
        "\tparam.numel() for param in model_res.parameters()\n",
        ")\n",
        "trainable_params = sum(\n",
        "\tp.numel() for p in model_res.parameters() if p.requires_grad\n",
        ")\n",
        "\n",
        "print(\"-----Resnet model------\")\n",
        "print(\"Total parameter number: \", total_params)\n",
        "print(\"Trainable parameter number: \", trainable_params)\n",
        "\n"
      ],
      "metadata": {
        "colab": {
          "base_uri": "https://localhost:8080/"
        },
        "id": "sOCZhDZ08NMO",
        "outputId": "10f4b49a-b82b-41a5-8c02-bb3b1007f4a4"
      },
      "execution_count": null,
      "outputs": [
        {
          "output_type": "stream",
          "name": "stdout",
          "text": [
            "-----Our model------\n",
            "Total parameter number:  109723110\n",
            "Trainable parameter number:  109723110\n",
            "-----Resnet model------\n",
            "Total parameter number:  21283530\n",
            "Trainable parameter number:  21283530\n"
          ]
        }
      ]
    },
    {
      "cell_type": "code",
      "source": [],
      "metadata": {
        "id": "HCg8dF8ODIZD"
      },
      "execution_count": null,
      "outputs": []
    }
  ]
}